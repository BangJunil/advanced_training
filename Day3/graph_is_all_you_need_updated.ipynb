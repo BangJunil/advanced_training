{
  "nbformat": 4,
  "nbformat_minor": 0,
  "metadata": {
    "colab": {
      "name": "graph_is_all_you_need_updated.ipynb",
      "provenance": [],
      "collapsed_sections": [
        "ITmrcg7TrwfH",
        "4b2_uNIPrYJV"
      ],
      "toc_visible": true
    },
    "kernelspec": {
      "name": "python3",
      "display_name": "Python 3"
    }
  },
  "cells": [
    {
      "cell_type": "markdown",
      "metadata": {
        "id": "AV_znZdXmPEM"
      },
      "source": [
        "Author    : Erkhembayar J.\n",
        "\n",
        "Purpose   : Advanced Training for AI Drug Discovery (Educational Purpose)\n",
        "\n",
        "Link      : \n",
        "\n",
        "<u>**Contents**</u>\n",
        "- Building Graph from stratch\n",
        "- Compound Representation to Graph\n",
        "\n",
        "Korea AI Center for Drug Discovery and Development (KAICD) 2020\n",
        "\n",
        "---\n",
        "\n"
      ]
    },
    {
      "cell_type": "markdown",
      "metadata": {
        "id": "eYepfdronlF6"
      },
      "source": [
        "# **Coding Session Environment Setting**\n",
        "## Libraries used in coding session\n",
        "* networkx, dgl - graph library\n",
        "* rdkit - library for chemistry\n",
        "* dgllife - graph library for chemistry and biology"
      ]
    },
    {
      "cell_type": "markdown",
      "metadata": {
        "id": "ITmrcg7TrwfH"
      },
      "source": [
        "## Graph Library Installation"
      ]
    },
    {
      "cell_type": "code",
      "metadata": {
        "colab": {
          "base_uri": "https://localhost:8080/"
        },
        "id": "jNVSJkbYmVg8",
        "outputId": "dc2a2670-182a-4d25-db89-867e5afaf809"
      },
      "source": [
        "!pip install networkx nx_altair dgl dgllife"
      ],
      "execution_count": null,
      "outputs": [
        {
          "output_type": "stream",
          "text": [
            "Requirement already satisfied: networkx in /usr/local/lib/python3.6/dist-packages (2.5)\n",
            "Collecting nx_altair\n",
            "  Downloading https://files.pythonhosted.org/packages/61/01/6436e91bc44d0e65a40f46e99535def7ac02cabe34e7685c52b3e1f94e31/nx_altair-0.1.6-py3-none-any.whl\n",
            "Collecting dgl\n",
            "\u001b[?25l  Downloading https://files.pythonhosted.org/packages/4d/05/9627fd225854f9ab77984f79405e78def50eb673a962940ed30fc07e9ac6/dgl-0.5.2-cp36-cp36m-manylinux1_x86_64.whl (3.5MB)\n",
            "\u001b[K     |████████████████████████████████| 3.5MB 4.8MB/s \n",
            "\u001b[?25hCollecting dgllife\n",
            "\u001b[?25l  Downloading https://files.pythonhosted.org/packages/89/f3/04509470ce7fad6d647c8b41ffff8984b7691260eb78b305997104b09ebc/dgllife-0.2.6.tar.gz (130kB)\n",
            "\u001b[K     |████████████████████████████████| 133kB 34.6MB/s \n",
            "\u001b[?25hRequirement already satisfied: decorator>=4.3.0 in /usr/local/lib/python3.6/dist-packages (from networkx) (4.4.2)\n",
            "Requirement already satisfied: pandas in /usr/local/lib/python3.6/dist-packages (from nx_altair) (1.1.4)\n",
            "Requirement already satisfied: altair in /usr/local/lib/python3.6/dist-packages (from nx_altair) (4.1.0)\n",
            "Requirement already satisfied: requests>=2.19.0 in /usr/local/lib/python3.6/dist-packages (from dgl) (2.23.0)\n",
            "Requirement already satisfied: numpy>=1.14.0 in /usr/local/lib/python3.6/dist-packages (from dgl) (1.18.5)\n",
            "Requirement already satisfied: scipy>=1.1.0 in /usr/local/lib/python3.6/dist-packages (from dgl) (1.4.1)\n",
            "Requirement already satisfied: scikit-learn>=0.22.2 in /usr/local/lib/python3.6/dist-packages (from dgllife) (0.22.2.post1)\n",
            "Requirement already satisfied: tqdm in /usr/local/lib/python3.6/dist-packages (from dgllife) (4.41.1)\n",
            "Requirement already satisfied: hyperopt in /usr/local/lib/python3.6/dist-packages (from dgllife) (0.1.2)\n",
            "Requirement already satisfied: joblib in /usr/local/lib/python3.6/dist-packages (from dgllife) (0.17.0)\n",
            "Requirement already satisfied: python-dateutil>=2.7.3 in /usr/local/lib/python3.6/dist-packages (from pandas->nx_altair) (2.8.1)\n",
            "Requirement already satisfied: pytz>=2017.2 in /usr/local/lib/python3.6/dist-packages (from pandas->nx_altair) (2018.9)\n",
            "Requirement already satisfied: jinja2 in /usr/local/lib/python3.6/dist-packages (from altair->nx_altair) (2.11.2)\n",
            "Requirement already satisfied: entrypoints in /usr/local/lib/python3.6/dist-packages (from altair->nx_altair) (0.3)\n",
            "Requirement already satisfied: jsonschema in /usr/local/lib/python3.6/dist-packages (from altair->nx_altair) (2.6.0)\n",
            "Requirement already satisfied: toolz in /usr/local/lib/python3.6/dist-packages (from altair->nx_altair) (0.11.1)\n",
            "Requirement already satisfied: chardet<4,>=3.0.2 in /usr/local/lib/python3.6/dist-packages (from requests>=2.19.0->dgl) (3.0.4)\n",
            "Requirement already satisfied: urllib3!=1.25.0,!=1.25.1,<1.26,>=1.21.1 in /usr/local/lib/python3.6/dist-packages (from requests>=2.19.0->dgl) (1.24.3)\n",
            "Requirement already satisfied: idna<3,>=2.5 in /usr/local/lib/python3.6/dist-packages (from requests>=2.19.0->dgl) (2.10)\n",
            "Requirement already satisfied: certifi>=2017.4.17 in /usr/local/lib/python3.6/dist-packages (from requests>=2.19.0->dgl) (2020.6.20)\n",
            "Requirement already satisfied: future in /usr/local/lib/python3.6/dist-packages (from hyperopt->dgllife) (0.16.0)\n",
            "Requirement already satisfied: pymongo in /usr/local/lib/python3.6/dist-packages (from hyperopt->dgllife) (3.11.0)\n",
            "Requirement already satisfied: six in /usr/local/lib/python3.6/dist-packages (from hyperopt->dgllife) (1.15.0)\n",
            "Requirement already satisfied: MarkupSafe>=0.23 in /usr/local/lib/python3.6/dist-packages (from jinja2->altair->nx_altair) (1.1.1)\n",
            "Building wheels for collected packages: dgllife\n",
            "  Building wheel for dgllife (setup.py) ... \u001b[?25l\u001b[?25hdone\n",
            "  Created wheel for dgllife: filename=dgllife-0.2.6-cp36-none-any.whl size=205837 sha256=dd95c2c368c5ba2314db14ae2f0c4b939aea74df0a1c84863c84382f7e0ccd62\n",
            "  Stored in directory: /root/.cache/pip/wheels/cf/29/39/54bbf37c8999f605d347805d4dec838e9ca8a894c90b119600\n",
            "Successfully built dgllife\n",
            "Installing collected packages: nx-altair, dgl, dgllife\n",
            "Successfully installed dgl-0.5.2 dgllife-0.2.6 nx-altair-0.1.6\n"
          ],
          "name": "stdout"
        }
      ]
    },
    {
      "cell_type": "markdown",
      "metadata": {
        "id": "4b2_uNIPrYJV"
      },
      "source": [
        "## Miniconda and RDKIT installation"
      ]
    },
    {
      "cell_type": "code",
      "metadata": {
        "colab": {
          "base_uri": "https://localhost:8080/"
        },
        "id": "CEdE9eXTrYjt",
        "outputId": "6b242642-eb17-43d5-fadd-23b9aa70bb34"
      },
      "source": [
        "%%bash\n",
        "MINICONDA_INSTALLER_SCRIPT=Miniconda3-latest-Linux-x86_64.sh\n",
        "MINICONDA_PREFIX=/usr/local\n",
        "wget https://repo.continuum.io/miniconda/$MINICONDA_INSTALLER_SCRIPT\n",
        "chmod +x $MINICONDA_INSTALLER_SCRIPT\n",
        "./$MINICONDA_INSTALLER_SCRIPT -b -f -p $MINICONDA_PREFIX\n",
        "\n",
        "conda install -q -y --channel defaults conda python=3.7\n",
        "conda update -q -y --channel defaults --all --yes\n",
        "conda install -q -y -c conda-forge rdkit"
      ],
      "execution_count": null,
      "outputs": [
        {
          "output_type": "stream",
          "text": [
            "PREFIX=/usr/local\n",
            "Unpacking payload ...\n",
            "Collecting package metadata (current_repodata.json): ...working... done\n",
            "Solving environment: ...working... done\n",
            "\n",
            "## Package Plan ##\n",
            "\n",
            "  environment location: /usr/local\n",
            "\n",
            "  added / updated specs:\n",
            "    - _libgcc_mutex==0.1=main\n",
            "    - ca-certificates==2020.1.1=0\n",
            "    - certifi==2020.4.5.1=py38_0\n",
            "    - cffi==1.14.0=py38he30daa8_1\n",
            "    - chardet==3.0.4=py38_1003\n",
            "    - conda-package-handling==1.6.1=py38h7b6447c_0\n",
            "    - conda==4.8.3=py38_0\n",
            "    - cryptography==2.9.2=py38h1ba5d50_0\n",
            "    - idna==2.9=py_1\n",
            "    - ld_impl_linux-64==2.33.1=h53a641e_7\n",
            "    - libedit==3.1.20181209=hc058e9b_0\n",
            "    - libffi==3.3=he6710b0_1\n",
            "    - libgcc-ng==9.1.0=hdf63c60_0\n",
            "    - libstdcxx-ng==9.1.0=hdf63c60_0\n",
            "    - ncurses==6.2=he6710b0_1\n",
            "    - openssl==1.1.1g=h7b6447c_0\n",
            "    - pip==20.0.2=py38_3\n",
            "    - pycosat==0.6.3=py38h7b6447c_1\n",
            "    - pycparser==2.20=py_0\n",
            "    - pyopenssl==19.1.0=py38_0\n",
            "    - pysocks==1.7.1=py38_0\n",
            "    - python==3.8.3=hcff3b4d_0\n",
            "    - readline==8.0=h7b6447c_0\n",
            "    - requests==2.23.0=py38_0\n",
            "    - ruamel_yaml==0.15.87=py38h7b6447c_0\n",
            "    - setuptools==46.4.0=py38_0\n",
            "    - six==1.14.0=py38_0\n",
            "    - sqlite==3.31.1=h62c20be_1\n",
            "    - tk==8.6.8=hbc83047_0\n",
            "    - tqdm==4.46.0=py_0\n",
            "    - urllib3==1.25.8=py38_0\n",
            "    - wheel==0.34.2=py38_0\n",
            "    - xz==5.2.5=h7b6447c_0\n",
            "    - yaml==0.1.7=had09818_2\n",
            "    - zlib==1.2.11=h7b6447c_3\n",
            "\n",
            "\n",
            "The following NEW packages will be INSTALLED:\n",
            "\n",
            "  _libgcc_mutex      pkgs/main/linux-64::_libgcc_mutex-0.1-main\n",
            "  ca-certificates    pkgs/main/linux-64::ca-certificates-2020.1.1-0\n",
            "  certifi            pkgs/main/linux-64::certifi-2020.4.5.1-py38_0\n",
            "  cffi               pkgs/main/linux-64::cffi-1.14.0-py38he30daa8_1\n",
            "  chardet            pkgs/main/linux-64::chardet-3.0.4-py38_1003\n",
            "  conda              pkgs/main/linux-64::conda-4.8.3-py38_0\n",
            "  conda-package-han~ pkgs/main/linux-64::conda-package-handling-1.6.1-py38h7b6447c_0\n",
            "  cryptography       pkgs/main/linux-64::cryptography-2.9.2-py38h1ba5d50_0\n",
            "  idna               pkgs/main/noarch::idna-2.9-py_1\n",
            "  ld_impl_linux-64   pkgs/main/linux-64::ld_impl_linux-64-2.33.1-h53a641e_7\n",
            "  libedit            pkgs/main/linux-64::libedit-3.1.20181209-hc058e9b_0\n",
            "  libffi             pkgs/main/linux-64::libffi-3.3-he6710b0_1\n",
            "  libgcc-ng          pkgs/main/linux-64::libgcc-ng-9.1.0-hdf63c60_0\n",
            "  libstdcxx-ng       pkgs/main/linux-64::libstdcxx-ng-9.1.0-hdf63c60_0\n",
            "  ncurses            pkgs/main/linux-64::ncurses-6.2-he6710b0_1\n",
            "  openssl            pkgs/main/linux-64::openssl-1.1.1g-h7b6447c_0\n",
            "  pip                pkgs/main/linux-64::pip-20.0.2-py38_3\n",
            "  pycosat            pkgs/main/linux-64::pycosat-0.6.3-py38h7b6447c_1\n",
            "  pycparser          pkgs/main/noarch::pycparser-2.20-py_0\n",
            "  pyopenssl          pkgs/main/linux-64::pyopenssl-19.1.0-py38_0\n",
            "  pysocks            pkgs/main/linux-64::pysocks-1.7.1-py38_0\n",
            "  python             pkgs/main/linux-64::python-3.8.3-hcff3b4d_0\n",
            "  readline           pkgs/main/linux-64::readline-8.0-h7b6447c_0\n",
            "  requests           pkgs/main/linux-64::requests-2.23.0-py38_0\n",
            "  ruamel_yaml        pkgs/main/linux-64::ruamel_yaml-0.15.87-py38h7b6447c_0\n",
            "  setuptools         pkgs/main/linux-64::setuptools-46.4.0-py38_0\n",
            "  six                pkgs/main/linux-64::six-1.14.0-py38_0\n",
            "  sqlite             pkgs/main/linux-64::sqlite-3.31.1-h62c20be_1\n",
            "  tk                 pkgs/main/linux-64::tk-8.6.8-hbc83047_0\n",
            "  tqdm               pkgs/main/noarch::tqdm-4.46.0-py_0\n",
            "  urllib3            pkgs/main/linux-64::urllib3-1.25.8-py38_0\n",
            "  wheel              pkgs/main/linux-64::wheel-0.34.2-py38_0\n",
            "  xz                 pkgs/main/linux-64::xz-5.2.5-h7b6447c_0\n",
            "  yaml               pkgs/main/linux-64::yaml-0.1.7-had09818_2\n",
            "  zlib               pkgs/main/linux-64::zlib-1.2.11-h7b6447c_3\n",
            "\n",
            "\n",
            "Preparing transaction: ...working... done\n",
            "Executing transaction: ...working... done\n",
            "installation finished.\n",
            "WARNING:\n",
            "    You currently have a PYTHONPATH environment variable set. This may cause\n",
            "    unexpected behavior when running the Python interpreter in Miniconda3.\n",
            "    For best results, please verify that your PYTHONPATH only points to\n",
            "    directories of packages that are compatible with the Python interpreter\n",
            "    in Miniconda3: /usr/local\n",
            "Collecting package metadata (current_repodata.json): ...working... done\n",
            "Solving environment: ...working... done\n",
            "\n",
            "## Package Plan ##\n",
            "\n",
            "  environment location: /usr/local\n",
            "\n",
            "  added / updated specs:\n",
            "    - conda\n",
            "    - python=3.7\n",
            "\n",
            "\n",
            "The following packages will be downloaded:\n",
            "\n",
            "    package                    |            build\n",
            "    ---------------------------|-----------------\n",
            "    brotlipy-0.7.0             |py37h27cfd23_1003         320 KB\n",
            "    ca-certificates-2020.10.14 |                0         121 KB\n",
            "    certifi-2020.6.20          |     pyhd3eb1b0_3         155 KB\n",
            "    cffi-1.14.3                |   py37h261ae71_2         228 KB\n",
            "    chardet-3.0.4              |py37h06a4308_1003         175 KB\n",
            "    conda-4.9.2                |   py37h06a4308_0         2.9 MB\n",
            "    conda-package-handling-1.7.2|   py37h03888b9_0         885 KB\n",
            "    cryptography-3.2.1         |   py37h3c74f83_1         572 KB\n",
            "    libedit-3.1.20191231       |       h14c3975_1         116 KB\n",
            "    openssl-1.1.1h             |       h7b6447c_0         2.5 MB\n",
            "    pip-20.2.4                 |   py37h06a4308_0         1.7 MB\n",
            "    pycosat-0.6.3              |   py37h27cfd23_0          81 KB\n",
            "    pyopenssl-19.1.0           |     pyhd3eb1b0_1          52 KB\n",
            "    pysocks-1.7.1              |           py37_1          27 KB\n",
            "    python-3.7.9               |       h7579374_0        45.3 MB\n",
            "    requests-2.24.0            |             py_0          56 KB\n",
            "    ruamel_yaml-0.15.87        |   py37h7b6447c_0         256 KB\n",
            "    setuptools-50.3.1          |   py37h06a4308_1         711 KB\n",
            "    six-1.15.0                 |   py37h06a4308_0          27 KB\n",
            "    sqlite-3.33.0              |       h62c20be_0         1.1 MB\n",
            "    tk-8.6.10                  |       hbc83047_0         3.0 MB\n",
            "    urllib3-1.25.11            |             py_0          99 KB\n",
            "    wheel-0.35.1               |     pyhd3eb1b0_0          38 KB\n",
            "    ------------------------------------------------------------\n",
            "                                           Total:        60.4 MB\n",
            "\n",
            "The following NEW packages will be INSTALLED:\n",
            "\n",
            "  brotlipy           pkgs/main/linux-64::brotlipy-0.7.0-py37h27cfd23_1003\n",
            "\n",
            "The following packages will be UPDATED:\n",
            "\n",
            "  ca-certificates                                2020.1.1-0 --> 2020.10.14-0\n",
            "  certifi            pkgs/main/linux-64::certifi-2020.4.5.~ --> pkgs/main/noarch::certifi-2020.6.20-pyhd3eb1b0_3\n",
            "  cffi                                1.14.0-py38he30daa8_1 --> 1.14.3-py37h261ae71_2\n",
            "  conda                                        4.8.3-py38_0 --> 4.9.2-py37h06a4308_0\n",
            "  conda-package-han~                   1.6.1-py38h7b6447c_0 --> 1.7.2-py37h03888b9_0\n",
            "  cryptography                         2.9.2-py38h1ba5d50_0 --> 3.2.1-py37h3c74f83_1\n",
            "  libedit                           3.1.20181209-hc058e9b_0 --> 3.1.20191231-h14c3975_1\n",
            "  openssl                                 1.1.1g-h7b6447c_0 --> 1.1.1h-h7b6447c_0\n",
            "  pip                                         20.0.2-py38_3 --> 20.2.4-py37h06a4308_0\n",
            "  pyopenssl          pkgs/main/linux-64::pyopenssl-19.1.0-~ --> pkgs/main/noarch::pyopenssl-19.1.0-pyhd3eb1b0_1\n",
            "  pysocks                                      1.7.1-py38_0 --> 1.7.1-py37_1\n",
            "  requests           pkgs/main/linux-64::requests-2.23.0-p~ --> pkgs/main/noarch::requests-2.24.0-py_0\n",
            "  setuptools                                  46.4.0-py38_0 --> 50.3.1-py37h06a4308_1\n",
            "  six                                         1.14.0-py38_0 --> 1.15.0-py37h06a4308_0\n",
            "  sqlite                                  3.31.1-h62c20be_1 --> 3.33.0-h62c20be_0\n",
            "  tk                                       8.6.8-hbc83047_0 --> 8.6.10-hbc83047_0\n",
            "  urllib3            pkgs/main/linux-64::urllib3-1.25.8-py~ --> pkgs/main/noarch::urllib3-1.25.11-py_0\n",
            "  wheel              pkgs/main/linux-64::wheel-0.34.2-py38~ --> pkgs/main/noarch::wheel-0.35.1-pyhd3eb1b0_0\n",
            "\n",
            "The following packages will be DOWNGRADED:\n",
            "\n",
            "  chardet                                   3.0.4-py38_1003 --> 3.0.4-py37h06a4308_1003\n",
            "  pycosat                              0.6.3-py38h7b6447c_1 --> 0.6.3-py37h27cfd23_0\n",
            "  python                                   3.8.3-hcff3b4d_0 --> 3.7.9-h7579374_0\n",
            "  ruamel_yaml                        0.15.87-py38h7b6447c_0 --> 0.15.87-py37h7b6447c_0\n",
            "\n",
            "\n",
            "Preparing transaction: ...working... done\n",
            "Verifying transaction: ...working... done\n",
            "Executing transaction: ...working... done\n",
            "Collecting package metadata (current_repodata.json): ...working... done\n",
            "Solving environment: ...working... done\n",
            "\n",
            "## Package Plan ##\n",
            "\n",
            "  environment location: /usr/local\n",
            "\n",
            "\n",
            "The following packages will be downloaded:\n",
            "\n",
            "    package                    |            build\n",
            "    ---------------------------|-----------------\n",
            "    idna-2.10                  |             py_0          50 KB\n",
            "    libffi-3.3                 |       he6710b0_2          50 KB\n",
            "    pycparser-2.20             |             py_2          94 KB\n",
            "    ruamel_yaml-0.15.87        |   py37h7b6447c_1         245 KB\n",
            "    tqdm-4.51.0                |     pyhd3eb1b0_0          66 KB\n",
            "    yaml-0.2.5                 |       h7b6447c_0          75 KB\n",
            "    ------------------------------------------------------------\n",
            "                                           Total:         581 KB\n",
            "\n",
            "The following packages will be UPDATED:\n",
            "\n",
            "  idna                                             2.9-py_1 --> 2.10-py_0\n",
            "  libffi                                     3.3-he6710b0_1 --> 3.3-he6710b0_2\n",
            "  pycparser                                       2.20-py_0 --> 2.20-py_2\n",
            "  ruamel_yaml                        0.15.87-py37h7b6447c_0 --> 0.15.87-py37h7b6447c_1\n",
            "  tqdm                                          4.46.0-py_0 --> 4.51.0-pyhd3eb1b0_0\n",
            "  yaml                                     0.1.7-had09818_2 --> 0.2.5-h7b6447c_0\n",
            "\n",
            "\n",
            "Preparing transaction: ...working... done\n",
            "Verifying transaction: ...working... done\n",
            "Executing transaction: ...working... done\n",
            "Collecting package metadata (current_repodata.json): ...working... done\n",
            "Solving environment: ...working... done\n",
            "\n",
            "## Package Plan ##\n",
            "\n",
            "  environment location: /usr/local\n",
            "\n",
            "  added / updated specs:\n",
            "    - rdkit\n",
            "\n",
            "\n",
            "The following packages will be downloaded:\n",
            "\n",
            "    package                    |            build\n",
            "    ---------------------------|-----------------\n",
            "    boost-1.74.0               |   py37h48f8a5e_1         317 KB  conda-forge\n",
            "    boost-cpp-1.74.0           |       h9359b55_0        16.4 MB  conda-forge\n",
            "    bzip2-1.0.8                |       h516909a_3         398 KB  conda-forge\n",
            "    ca-certificates-2020.11.8  |       ha878542_0         145 KB  conda-forge\n",
            "    cairo-1.16.0               |    h3fc0475_1005         1.5 MB  conda-forge\n",
            "    certifi-2020.11.8          |   py37h89c1867_0         150 KB  conda-forge\n",
            "    conda-4.9.2                |   py37h89c1867_0         3.0 MB  conda-forge\n",
            "    fontconfig-2.13.1          |    h7e3eb15_1002         324 KB  conda-forge\n",
            "    freetype-2.10.4            |       h7ca028e_0         912 KB  conda-forge\n",
            "    glib-2.66.1                |       h92f7085_0         2.9 MB\n",
            "    icu-67.1                   |       he1b5a44_0        12.9 MB  conda-forge\n",
            "    jpeg-9d                    |       h36c2ea0_0         264 KB  conda-forge\n",
            "    lcms2-2.11                 |       hcbb858e_1         434 KB  conda-forge\n",
            "    libblas-3.9.0              |       3_openblas          11 KB  conda-forge\n",
            "    libcblas-3.9.0             |       3_openblas          11 KB  conda-forge\n",
            "    libgfortran-ng-7.5.0       |      hae1eefd_17          22 KB  conda-forge\n",
            "    libgfortran4-7.5.0         |      hae1eefd_17         1.3 MB  conda-forge\n",
            "    libiconv-1.16              |       h516909a_0         1.4 MB  conda-forge\n",
            "    liblapack-3.9.0            |       3_openblas          11 KB  conda-forge\n",
            "    libopenblas-0.3.12         |pthreads_hb3c22a3_1         8.2 MB  conda-forge\n",
            "    libpng-1.6.37              |       h21135ba_2         306 KB  conda-forge\n",
            "    libtiff-4.1.0              |       h4f3a223_6         618 KB  conda-forge\n",
            "    libuuid-2.32.1             |    h14c3975_1000          26 KB  conda-forge\n",
            "    libwebp-base-1.1.0         |       h36c2ea0_3         864 KB  conda-forge\n",
            "    libxcb-1.13                |    h14c3975_1002         396 KB  conda-forge\n",
            "    libxml2-2.9.10             |       h68273f3_2         1.3 MB  conda-forge\n",
            "    lz4-c-1.9.2                |       he1b5a44_3         203 KB  conda-forge\n",
            "    numpy-1.19.4               |   py37h7e9df27_1         5.2 MB  conda-forge\n",
            "    olefile-0.46               |     pyh9f0ad1d_1          32 KB  conda-forge\n",
            "    openssl-1.1.1h             |       h516909a_0         2.1 MB  conda-forge\n",
            "    pandas-1.1.4               |   py37h10a2094_0        10.5 MB  conda-forge\n",
            "    pcre-8.44                  |       he1b5a44_0         261 KB  conda-forge\n",
            "    pillow-8.0.1               |   py37h63a5d19_0         689 KB  conda-forge\n",
            "    pixman-0.38.0              |    h516909a_1003         594 KB  conda-forge\n",
            "    pthread-stubs-0.4          |    h14c3975_1001           5 KB  conda-forge\n",
            "    pycairo-1.20.0             |   py37h01af8b0_1          77 KB  conda-forge\n",
            "    python-dateutil-2.8.1      |             py_0         220 KB  conda-forge\n",
            "    python_abi-3.7             |          1_cp37m           4 KB  conda-forge\n",
            "    pytz-2020.4                |     pyhd8ed1ab_0         229 KB  conda-forge\n",
            "    rdkit-2020.09.1            |   py37h0c252aa_0        25.8 MB  conda-forge\n",
            "    xorg-kbproto-1.0.7         |    h14c3975_1002          26 KB  conda-forge\n",
            "    xorg-libice-1.0.10         |       h516909a_0          57 KB  conda-forge\n",
            "    xorg-libsm-1.2.3           |    h84519dc_1000          25 KB  conda-forge\n",
            "    xorg-libx11-1.6.12         |       h516909a_0         917 KB  conda-forge\n",
            "    xorg-libxau-1.0.9          |       h14c3975_0          13 KB  conda-forge\n",
            "    xorg-libxdmcp-1.1.3        |       h516909a_0          18 KB  conda-forge\n",
            "    xorg-libxext-1.3.4         |       h516909a_0          51 KB  conda-forge\n",
            "    xorg-libxrender-0.9.10     |    h516909a_1002          31 KB  conda-forge\n",
            "    xorg-renderproto-0.11.1    |    h14c3975_1002           8 KB  conda-forge\n",
            "    xorg-xextproto-7.3.0       |    h14c3975_1002          27 KB  conda-forge\n",
            "    xorg-xproto-7.0.31         |    h14c3975_1007          72 KB  conda-forge\n",
            "    zstd-1.4.5                 |       h6597ccf_2         712 KB  conda-forge\n",
            "    ------------------------------------------------------------\n",
            "                                           Total:       101.6 MB\n",
            "\n",
            "The following NEW packages will be INSTALLED:\n",
            "\n",
            "  boost              conda-forge/linux-64::boost-1.74.0-py37h48f8a5e_1\n",
            "  boost-cpp          conda-forge/linux-64::boost-cpp-1.74.0-h9359b55_0\n",
            "  bzip2              conda-forge/linux-64::bzip2-1.0.8-h516909a_3\n",
            "  cairo              conda-forge/linux-64::cairo-1.16.0-h3fc0475_1005\n",
            "  fontconfig         conda-forge/linux-64::fontconfig-2.13.1-h7e3eb15_1002\n",
            "  freetype           conda-forge/linux-64::freetype-2.10.4-h7ca028e_0\n",
            "  glib               pkgs/main/linux-64::glib-2.66.1-h92f7085_0\n",
            "  icu                conda-forge/linux-64::icu-67.1-he1b5a44_0\n",
            "  jpeg               conda-forge/linux-64::jpeg-9d-h36c2ea0_0\n",
            "  lcms2              conda-forge/linux-64::lcms2-2.11-hcbb858e_1\n",
            "  libblas            conda-forge/linux-64::libblas-3.9.0-3_openblas\n",
            "  libcblas           conda-forge/linux-64::libcblas-3.9.0-3_openblas\n",
            "  libgfortran-ng     conda-forge/linux-64::libgfortran-ng-7.5.0-hae1eefd_17\n",
            "  libgfortran4       conda-forge/linux-64::libgfortran4-7.5.0-hae1eefd_17\n",
            "  libiconv           conda-forge/linux-64::libiconv-1.16-h516909a_0\n",
            "  liblapack          conda-forge/linux-64::liblapack-3.9.0-3_openblas\n",
            "  libopenblas        conda-forge/linux-64::libopenblas-0.3.12-pthreads_hb3c22a3_1\n",
            "  libpng             conda-forge/linux-64::libpng-1.6.37-h21135ba_2\n",
            "  libtiff            conda-forge/linux-64::libtiff-4.1.0-h4f3a223_6\n",
            "  libuuid            conda-forge/linux-64::libuuid-2.32.1-h14c3975_1000\n",
            "  libwebp-base       conda-forge/linux-64::libwebp-base-1.1.0-h36c2ea0_3\n",
            "  libxcb             conda-forge/linux-64::libxcb-1.13-h14c3975_1002\n",
            "  libxml2            conda-forge/linux-64::libxml2-2.9.10-h68273f3_2\n",
            "  lz4-c              conda-forge/linux-64::lz4-c-1.9.2-he1b5a44_3\n",
            "  numpy              conda-forge/linux-64::numpy-1.19.4-py37h7e9df27_1\n",
            "  olefile            conda-forge/noarch::olefile-0.46-pyh9f0ad1d_1\n",
            "  pandas             conda-forge/linux-64::pandas-1.1.4-py37h10a2094_0\n",
            "  pcre               conda-forge/linux-64::pcre-8.44-he1b5a44_0\n",
            "  pillow             conda-forge/linux-64::pillow-8.0.1-py37h63a5d19_0\n",
            "  pixman             conda-forge/linux-64::pixman-0.38.0-h516909a_1003\n",
            "  pthread-stubs      conda-forge/linux-64::pthread-stubs-0.4-h14c3975_1001\n",
            "  pycairo            conda-forge/linux-64::pycairo-1.20.0-py37h01af8b0_1\n",
            "  python-dateutil    conda-forge/noarch::python-dateutil-2.8.1-py_0\n",
            "  python_abi         conda-forge/linux-64::python_abi-3.7-1_cp37m\n",
            "  pytz               conda-forge/noarch::pytz-2020.4-pyhd8ed1ab_0\n",
            "  rdkit              conda-forge/linux-64::rdkit-2020.09.1-py37h0c252aa_0\n",
            "  xorg-kbproto       conda-forge/linux-64::xorg-kbproto-1.0.7-h14c3975_1002\n",
            "  xorg-libice        conda-forge/linux-64::xorg-libice-1.0.10-h516909a_0\n",
            "  xorg-libsm         conda-forge/linux-64::xorg-libsm-1.2.3-h84519dc_1000\n",
            "  xorg-libx11        conda-forge/linux-64::xorg-libx11-1.6.12-h516909a_0\n",
            "  xorg-libxau        conda-forge/linux-64::xorg-libxau-1.0.9-h14c3975_0\n",
            "  xorg-libxdmcp      conda-forge/linux-64::xorg-libxdmcp-1.1.3-h516909a_0\n",
            "  xorg-libxext       conda-forge/linux-64::xorg-libxext-1.3.4-h516909a_0\n",
            "  xorg-libxrender    conda-forge/linux-64::xorg-libxrender-0.9.10-h516909a_1002\n",
            "  xorg-renderproto   conda-forge/linux-64::xorg-renderproto-0.11.1-h14c3975_1002\n",
            "  xorg-xextproto     conda-forge/linux-64::xorg-xextproto-7.3.0-h14c3975_1002\n",
            "  xorg-xproto        conda-forge/linux-64::xorg-xproto-7.0.31-h14c3975_1007\n",
            "  zstd               conda-forge/linux-64::zstd-1.4.5-h6597ccf_2\n",
            "\n",
            "The following packages will be UPDATED:\n",
            "\n",
            "  ca-certificates    pkgs/main::ca-certificates-2020.10.14~ --> conda-forge::ca-certificates-2020.11.8-ha878542_0\n",
            "  certifi            pkgs/main/noarch::certifi-2020.6.20-p~ --> conda-forge/linux-64::certifi-2020.11.8-py37h89c1867_0\n",
            "\n",
            "The following packages will be SUPERSEDED by a higher-priority channel:\n",
            "\n",
            "  conda               pkgs/main::conda-4.9.2-py37h06a4308_0 --> conda-forge::conda-4.9.2-py37h89c1867_0\n",
            "  openssl              pkgs/main::openssl-1.1.1h-h7b6447c_0 --> conda-forge::openssl-1.1.1h-h516909a_0\n",
            "\n",
            "\n",
            "Preparing transaction: ...working... done\n",
            "Verifying transaction: ...working... done\n",
            "Executing transaction: ...working... done\n"
          ],
          "name": "stdout"
        },
        {
          "output_type": "stream",
          "text": [
            "--2020-11-23 01:18:28--  https://repo.continuum.io/miniconda/Miniconda3-latest-Linux-x86_64.sh\n",
            "Resolving repo.continuum.io (repo.continuum.io)... 104.18.200.79, 104.18.201.79, 2606:4700::6812:c94f, ...\n",
            "Connecting to repo.continuum.io (repo.continuum.io)|104.18.200.79|:443... connected.\n",
            "HTTP request sent, awaiting response... 301 Moved Permanently\n",
            "Location: https://repo.anaconda.com/miniconda/Miniconda3-latest-Linux-x86_64.sh [following]\n",
            "--2020-11-23 01:18:28--  https://repo.anaconda.com/miniconda/Miniconda3-latest-Linux-x86_64.sh\n",
            "Resolving repo.anaconda.com (repo.anaconda.com)... 104.16.130.3, 104.16.131.3, 2606:4700::6810:8303, ...\n",
            "Connecting to repo.anaconda.com (repo.anaconda.com)|104.16.130.3|:443... connected.\n",
            "HTTP request sent, awaiting response... 200 OK\n",
            "Length: 93052469 (89M) [application/x-sh]\n",
            "Saving to: ‘Miniconda3-latest-Linux-x86_64.sh’\n",
            "\n",
            "     0K .......... .......... .......... .......... ..........  0% 4.29M 21s\n",
            "    50K .......... .......... .......... .......... ..........  0% 4.16M 21s\n",
            "   100K .......... .......... .......... .......... ..........  0% 14.0M 16s\n",
            "   150K .......... .......... .......... .......... ..........  0% 11.5M 14s\n",
            "   200K .......... .......... .......... .......... ..........  0% 8.70M 13s\n",
            "   250K .......... .......... .......... .......... ..........  0% 18.7M 12s\n",
            "   300K .......... .......... .......... .......... ..........  0% 14.5M 11s\n",
            "   350K .......... .......... .......... .......... ..........  0% 18.6M 10s\n",
            "   400K .......... .......... .......... .......... ..........  0% 18.6M 10s\n",
            "   450K .......... .......... .......... .......... ..........  0% 25.2M 9s\n",
            "   500K .......... .......... .......... .......... ..........  0% 45.0M 8s\n",
            "   550K .......... .......... .......... .......... ..........  0% 25.9M 8s\n",
            "   600K .......... .......... .......... .......... ..........  0% 50.8M 7s\n",
            "   650K .......... .......... .......... .......... ..........  0% 27.8M 7s\n",
            "   700K .......... .......... .......... .......... ..........  0% 54.6M 7s\n",
            "   750K .......... .......... .......... .......... ..........  0% 28.7M 7s\n",
            "   800K .......... .......... .......... .......... ..........  0% 35.2M 6s\n",
            "   850K .......... .......... .......... .......... ..........  0% 48.4M 6s\n",
            "   900K .......... .......... .......... .......... ..........  1% 5.88M 6s\n",
            "   950K .......... .......... .......... .......... ..........  1% 89.9M 6s\n",
            "  1000K .......... .......... .......... .......... ..........  1% 88.8M 6s\n",
            "  1050K .......... .......... .......... .......... ..........  1% 80.3M 6s\n",
            "  1100K .......... .......... .......... .......... ..........  1% 53.4M 6s\n",
            "  1150K .......... .......... .......... .......... ..........  1% 87.2M 5s\n",
            "  1200K .......... .......... .......... .......... ..........  1%  172M 5s\n",
            "  1250K .......... .......... .......... .......... ..........  1% 71.3M 5s\n",
            "  1300K .......... .......... .......... .......... ..........  1%  107M 5s\n",
            "  1350K .......... .......... .......... .......... ..........  1% 4.59M 5s\n",
            "  1400K .......... .......... .......... .......... ..........  1%  179M 5s\n",
            "  1450K .......... .......... .......... .......... ..........  1%  113M 5s\n",
            "  1500K .......... .......... .......... .......... ..........  1%  126M 5s\n",
            "  1550K .......... .......... .......... .......... ..........  1% 54.6M 5s\n",
            "  1600K .......... .......... .......... .......... ..........  1%  180M 5s\n",
            "  1650K .......... .......... .......... .......... ..........  1% 74.0M 5s\n",
            "  1700K .......... .......... .......... .......... ..........  1%  171M 4s\n",
            "  1750K .......... .......... .......... .......... ..........  1% 70.2M 4s\n",
            "  1800K .......... .......... .......... .......... ..........  2%  185M 4s\n",
            "  1850K .......... .......... .......... .......... ..........  2% 4.69M 5s\n",
            "  1900K .......... .......... .......... .......... ..........  2%  150M 5s\n",
            "  1950K .......... .......... .......... .......... ..........  2%  108M 4s\n",
            "  2000K .......... .......... .......... .......... ..........  2% 72.0M 4s\n",
            "  2050K .......... .......... .......... .......... ..........  2%  129M 4s\n",
            "  2100K .......... .......... .......... .......... ..........  2% 17.2M 4s\n",
            "  2150K .......... .......... .......... .......... ..........  2%  151M 4s\n",
            "  2200K .......... .......... .......... .......... ..........  2%  166M 4s\n",
            "  2250K .......... .......... .......... .......... ..........  2%  122M 4s\n",
            "  2300K .......... .......... .......... .......... ..........  2%  171M 4s\n",
            "  2350K .......... .......... .......... .......... ..........  2%  130M 4s\n",
            "  2400K .......... .......... .......... .......... ..........  2%  174M 4s\n",
            "  2450K .......... .......... .......... .......... ..........  2%  163M 4s\n",
            "  2500K .......... .......... .......... .......... ..........  2%  109M 4s\n",
            "  2550K .......... .......... .......... .......... ..........  2% 87.6M 4s\n",
            "  2600K .......... .......... .......... .......... ..........  2% 13.2M 4s\n",
            "  2650K .......... .......... .......... .......... ..........  2%  169M 4s\n",
            "  2700K .......... .......... .......... .......... ..........  3% 87.1M 4s\n",
            "  2750K .......... .......... .......... .......... ..........  3%  111M 4s\n",
            "  2800K .......... .......... .......... .......... ..........  3%  103M 3s\n",
            "  2850K .......... .......... .......... .......... ..........  3% 78.8M 3s\n",
            "  2900K .......... .......... .......... .......... ..........  3%  130M 3s\n",
            "  2950K .......... .......... .......... .......... ..........  3% 76.0M 3s\n",
            "  3000K .......... .......... .......... .......... ..........  3%  176M 3s\n",
            "  3050K .......... .......... .......... .......... ..........  3%  103M 3s\n",
            "  3100K .......... .......... .......... .......... ..........  3% 70.9M 3s\n",
            "  3150K .......... .......... .......... .......... ..........  3%  148M 3s\n",
            "  3200K .......... .......... .......... .......... ..........  3%  109M 3s\n",
            "  3250K .......... .......... .......... .......... ..........  3%  113M 3s\n",
            "  3300K .......... .......... .......... .......... ..........  3% 78.0M 3s\n",
            "  3350K .......... .......... .......... .......... ..........  3% 49.3M 3s\n",
            "  3400K .......... .......... .......... .......... ..........  3%  140M 3s\n",
            "  3450K .......... .......... .......... .......... ..........  3%  160M 3s\n",
            "  3500K .......... .......... .......... .......... ..........  3%  102M 3s\n",
            "  3550K .......... .......... .......... .......... ..........  3% 98.7M 3s\n",
            "  3600K .......... .......... .......... .......... ..........  4%  134M 3s\n",
            "  3650K .......... .......... .......... .......... ..........  4% 97.9M 3s\n",
            "  3700K .......... .......... .......... .......... ..........  4%  113M 3s\n",
            "  3750K .......... .......... .......... .......... ..........  4%  168M 3s\n",
            "  3800K .......... .......... .......... .......... ..........  4%  116M 3s\n",
            "  3850K .......... .......... .......... .......... ..........  4%  101M 3s\n",
            "  3900K .......... .......... .......... .......... ..........  4%  155M 3s\n",
            "  3950K .......... .......... .......... .......... ..........  4%  143M 3s\n",
            "  4000K .......... .......... .......... .......... ..........  4%  159M 3s\n",
            "  4050K .......... .......... .......... .......... ..........  4%  168M 3s\n",
            "  4100K .......... .......... .......... .......... ..........  4%  181M 3s\n",
            "  4150K .......... .......... .......... .......... ..........  4%  141M 3s\n",
            "  4200K .......... .......... .......... .......... ..........  4%  173M 3s\n",
            "  4250K .......... .......... .......... .......... ..........  4%  174M 3s\n",
            "  4300K .......... .......... .......... .......... ..........  4%  175M 2s\n",
            "  4350K .......... .......... .......... .......... ..........  4%  134M 2s\n",
            "  4400K .......... .......... .......... .......... ..........  4%  188M 2s\n",
            "  4450K .......... .......... .......... .......... ..........  4%  168M 2s\n",
            "  4500K .......... .......... .......... .......... ..........  5%  157M 2s\n",
            "  4550K .......... .......... .......... .......... ..........  5%  165M 2s\n",
            "  4600K .......... .......... .......... .......... ..........  5%  179M 2s\n",
            "  4650K .......... .......... .......... .......... ..........  5%  182M 2s\n",
            "  4700K .......... .......... .......... .......... ..........  5%  160M 2s\n",
            "  4750K .......... .......... .......... .......... ..........  5%  145M 2s\n",
            "  4800K .......... .......... .......... .......... ..........  5%  181M 2s\n",
            "  4850K .......... .......... .......... .......... ..........  5%  150M 2s\n",
            "  4900K .......... .......... .......... .......... ..........  5%  169M 2s\n",
            "  4950K .......... .......... .......... .......... ..........  5%  162M 2s\n",
            "  5000K .......... .......... .......... .......... ..........  5%  160M 2s\n",
            "  5050K .......... .......... .......... .......... ..........  5%  177M 2s\n",
            "  5100K .......... .......... .......... .......... ..........  5%  176M 2s\n",
            "  5150K .......... .......... .......... .......... ..........  5%  157M 2s\n",
            "  5200K .......... .......... .......... .......... ..........  5%  169M 2s\n",
            "  5250K .......... .......... .......... .......... ..........  5%  181M 2s\n",
            "  5300K .......... .......... .......... .......... ..........  5%  175M 2s\n",
            "  5350K .......... .......... .......... .......... ..........  5%  154M 2s\n",
            "  5400K .......... .......... .......... .......... ..........  5%  182M 2s\n",
            "  5450K .......... .......... .......... .......... ..........  6%  104M 2s\n",
            "  5500K .......... .......... .......... .......... ..........  6%  162M 2s\n",
            "  5550K .......... .......... .......... .......... ..........  6%  131M 2s\n",
            "  5600K .......... .......... .......... .......... ..........  6%  170M 2s\n",
            "  5650K .......... .......... .......... .......... ..........  6%  176M 2s\n",
            "  5700K .......... .......... .......... .......... ..........  6%  172M 2s\n",
            "  5750K .......... .......... .......... .......... ..........  6%  134M 2s\n",
            "  5800K .......... .......... .......... .......... ..........  6%  149M 2s\n",
            "  5850K .......... .......... .......... .......... ..........  6%  154M 2s\n",
            "  5900K .......... .......... .......... .......... ..........  6%  160M 2s\n",
            "  5950K .......... .......... .......... .......... ..........  6%  132M 2s\n",
            "  6000K .......... .......... .......... .......... ..........  6%  170M 2s\n",
            "  6050K .......... .......... .......... .......... ..........  6%  150M 2s\n",
            "  6100K .......... .......... .......... .......... ..........  6%  169M 2s\n",
            "  6150K .......... .......... .......... .......... ..........  6%  137M 2s\n",
            "  6200K .......... .......... .......... .......... ..........  6%  159M 2s\n",
            "  6250K .......... .......... .......... .......... ..........  6%  157M 2s\n",
            "  6300K .......... .......... .......... .......... ..........  6%  141M 2s\n",
            "  6350K .......... .......... .......... .......... ..........  7%  139M 2s\n",
            "  6400K .......... .......... .......... .......... ..........  7%  160M 2s\n",
            "  6450K .......... .......... .......... .......... ..........  7%  159M 2s\n",
            "  6500K .......... .......... .......... .......... ..........  7%  171M 2s\n",
            "  6550K .......... .......... .......... .......... ..........  7%  151M 2s\n",
            "  6600K .......... .......... .......... .......... ..........  7%  159M 2s\n",
            "  6650K .......... .......... .......... .......... ..........  7%  163M 2s\n",
            "  6700K .......... .......... .......... .......... ..........  7%  186M 2s\n",
            "  6750K .......... .......... .......... .......... ..........  7%  151M 2s\n",
            "  6800K .......... .......... .......... .......... ..........  7%  172M 2s\n",
            "  6850K .......... .......... .......... .......... ..........  7%  176M 2s\n",
            "  6900K .......... .......... .......... .......... ..........  7%  185M 2s\n",
            "  6950K .......... .......... .......... .......... ..........  7%  143M 2s\n",
            "  7000K .......... .......... .......... .......... ..........  7%  161M 2s\n",
            "  7050K .......... .......... .......... .......... ..........  7%  177M 2s\n",
            "  7100K .......... .......... .......... .......... ..........  7%  174M 2s\n",
            "  7150K .......... .......... .......... .......... ..........  7%  144M 2s\n",
            "  7200K .......... .......... .......... .......... ..........  7%  128M 2s\n",
            "  7250K .......... .......... .......... .......... ..........  8%  153M 2s\n",
            "  7300K .......... .......... .......... .......... ..........  8%  185M 2s\n",
            "  7350K .......... .......... .......... .......... ..........  8%  167M 2s\n",
            "  7400K .......... .......... .......... .......... ..........  8%  189M 2s\n",
            "  7450K .......... .......... .......... .......... ..........  8%  181M 2s\n",
            "  7500K .......... .......... .......... .......... ..........  8%  184M 2s\n",
            "  7550K .......... .......... .......... .......... ..........  8%  129M 2s\n",
            "  7600K .......... .......... .......... .......... ..........  8%  146M 2s\n",
            "  7650K .......... .......... .......... .......... ..........  8%  187M 2s\n",
            "  7700K .......... .......... .......... .......... ..........  8%  189M 2s\n",
            "  7750K .......... .......... .......... .......... ..........  8%  163M 2s\n",
            "  7800K .......... .......... .......... .......... ..........  8%  187M 2s\n",
            "  7850K .......... .......... .......... .......... ..........  8%  189M 2s\n",
            "  7900K .......... .......... .......... .......... ..........  8%  166M 2s\n",
            "  7950K .......... .......... .......... .......... ..........  8%  154M 2s\n",
            "  8000K .......... .......... .......... .......... ..........  8%  188M 2s\n",
            "  8050K .......... .......... .......... .......... ..........  8%  188M 2s\n",
            "  8100K .......... .......... .......... .......... ..........  8%  182M 1s\n",
            "  8150K .......... .......... .......... .......... ..........  9%  156M 1s\n",
            "  8200K .......... .......... .......... .......... ..........  9%  192M 1s\n",
            "  8250K .......... .......... .......... .......... ..........  9%  181M 1s\n",
            "  8300K .......... .......... .......... .......... ..........  9%  178M 1s\n",
            "  8350K .......... .......... .......... .......... ..........  9%  158M 1s\n",
            "  8400K .......... .......... .......... .......... ..........  9%  203M 1s\n",
            "  8450K .......... .......... .......... .......... ..........  9%  165M 1s\n",
            "  8500K .......... .......... .......... .......... ..........  9%  161M 1s\n",
            "  8550K .......... .......... .......... .......... ..........  9%  162M 1s\n",
            "  8600K .......... .......... .......... .......... ..........  9%  187M 1s\n",
            "  8650K .......... .......... .......... .......... ..........  9%  186M 1s\n",
            "  8700K .......... .......... .......... .......... ..........  9%  188M 1s\n",
            "  8750K .......... .......... .......... .......... ..........  9%  162M 1s\n",
            "  8800K .......... .......... .......... .......... ..........  9%  186M 1s\n",
            "  8850K .......... .......... .......... .......... ..........  9%  184M 1s\n",
            "  8900K .......... .......... .......... .......... ..........  9%  188M 1s\n",
            "  8950K .......... .......... .......... .......... ..........  9%  140M 1s\n",
            "  9000K .......... .......... .......... .......... ..........  9%  158M 1s\n",
            "  9050K .......... .......... .......... .......... .......... 10%  157M 1s\n",
            "  9100K .......... .......... .......... .......... .......... 10%  184M 1s\n",
            "  9150K .......... .......... .......... .......... .......... 10%  155M 1s\n",
            "  9200K .......... .......... .......... .......... .......... 10%  159M 1s\n",
            "  9250K .......... .......... .......... .......... .......... 10%  180M 1s\n",
            "  9300K .......... .......... .......... .......... .......... 10%  183M 1s\n",
            "  9350K .......... .......... .......... .......... .......... 10%  163M 1s\n",
            "  9400K .......... .......... .......... .......... .......... 10%  193M 1s\n",
            "  9450K .......... .......... .......... .......... .......... 10%  195M 1s\n",
            "  9500K .......... .......... .......... .......... .......... 10%  176M 1s\n",
            "  9550K .......... .......... .......... .......... .......... 10%  136M 1s\n",
            "  9600K .......... .......... .......... .......... .......... 10%  162M 1s\n",
            "  9650K .......... .......... .......... .......... .......... 10%  163M 1s\n",
            "  9700K .......... .......... .......... .......... .......... 10%  150M 1s\n",
            "  9750K .......... .......... .......... .......... .......... 10%  149M 1s\n",
            "  9800K .......... .......... .......... .......... .......... 10%  163M 1s\n",
            "  9850K .......... .......... .......... .......... .......... 10%  162M 1s\n",
            "  9900K .......... .......... .......... .......... .......... 10%  162M 1s\n",
            "  9950K .......... .......... .......... .......... .......... 11%  132M 1s\n",
            " 10000K .......... .......... .......... .......... .......... 11%  169M 1s\n",
            " 10050K .......... .......... .......... .......... .......... 11%  160M 1s\n",
            " 10100K .......... .......... .......... .......... .......... 11%  170M 1s\n",
            " 10150K .......... .......... .......... .......... .......... 11%  143M 1s\n",
            " 10200K .......... .......... .......... .......... .......... 11%  170M 1s\n",
            " 10250K .......... .......... .......... .......... .......... 11%  177M 1s\n",
            " 10300K .......... .......... .......... .......... .......... 11%  180M 1s\n",
            " 10350K .......... .......... .......... .......... .......... 11%  153M 1s\n",
            " 10400K .......... .......... .......... .......... .......... 11%  192M 1s\n",
            " 10450K .......... .......... .......... .......... .......... 11%  174M 1s\n",
            " 10500K .......... .......... .......... .......... .......... 11%  168M 1s\n",
            " 10550K .......... .......... .......... .......... .......... 11%  145M 1s\n",
            " 10600K .......... .......... .......... .......... .......... 11%  149M 1s\n",
            " 10650K .......... .......... .......... .......... .......... 11%  186M 1s\n",
            " 10700K .......... .......... .......... .......... .......... 11%  165M 1s\n",
            " 10750K .......... .......... .......... .......... .......... 11%  152M 1s\n",
            " 10800K .......... .......... .......... .......... .......... 11%  161M 1s\n",
            " 10850K .......... .......... .......... .......... .......... 11%  168M 1s\n",
            " 10900K .......... .......... .......... .......... .......... 12% 94.6M 1s\n",
            " 10950K .......... .......... .......... .......... .......... 12%  137M 1s\n",
            " 11000K .......... .......... .......... .......... .......... 12%  159M 1s\n",
            " 11050K .......... .......... .......... .......... .......... 12%  184M 1s\n",
            " 11100K .......... .......... .......... .......... .......... 12%  207M 1s\n",
            " 11150K .......... .......... .......... .......... .......... 12%  104M 1s\n",
            " 11200K .......... .......... .......... .......... .......... 12%  169M 1s\n",
            " 11250K .......... .......... .......... .......... .......... 12%  191M 1s\n",
            " 11300K .......... .......... .......... .......... .......... 12%  179M 1s\n",
            " 11350K .......... .......... .......... .......... .......... 12%  126M 1s\n",
            " 11400K .......... .......... .......... .......... .......... 12%  164M 1s\n",
            " 11450K .......... .......... .......... .......... .......... 12%  187M 1s\n",
            " 11500K .......... .......... .......... .......... .......... 12%  175M 1s\n",
            " 11550K .......... .......... .......... .......... .......... 12%  144M 1s\n",
            " 11600K .......... .......... .......... .......... .......... 12%  179M 1s\n",
            " 11650K .......... .......... .......... .......... .......... 12%  177M 1s\n",
            " 11700K .......... .......... .......... .......... .......... 12%  192M 1s\n",
            " 11750K .......... .......... .......... .......... .......... 12%  167M 1s\n",
            " 11800K .......... .......... .......... .......... .......... 13%  193M 1s\n",
            " 11850K .......... .......... .......... .......... .......... 13%  159M 1s\n",
            " 11900K .......... .......... .......... .......... .......... 13%  171M 1s\n",
            " 11950K .......... .......... .......... .......... .......... 13%  141M 1s\n",
            " 12000K .......... .......... .......... .......... .......... 13%  169M 1s\n",
            " 12050K .......... .......... .......... .......... .......... 13%  188M 1s\n",
            " 12100K .......... .......... .......... .......... .......... 13%  174M 1s\n",
            " 12150K .......... .......... .......... .......... .......... 13%  160M 1s\n",
            " 12200K .......... .......... .......... .......... .......... 13%  186M 1s\n",
            " 12250K .......... .......... .......... .......... .......... 13%  182M 1s\n",
            " 12300K .......... .......... .......... .......... .......... 13%  185M 1s\n",
            " 12350K .......... .......... .......... .......... .......... 13%  146M 1s\n",
            " 12400K .......... .......... .......... .......... .......... 13%  189M 1s\n",
            " 12450K .......... .......... .......... .......... .......... 13%  186M 1s\n",
            " 12500K .......... .......... .......... .......... .......... 13%  204M 1s\n",
            " 12550K .......... .......... .......... .......... .......... 13%  156M 1s\n",
            " 12600K .......... .......... .......... .......... .......... 13%  182M 1s\n",
            " 12650K .......... .......... .......... .......... .......... 13%  187M 1s\n",
            " 12700K .......... .......... .......... .......... .......... 14%  177M 1s\n",
            " 12750K .......... .......... .......... .......... .......... 14% 9.17M 1s\n",
            " 12800K .......... .......... .......... .......... .......... 14%  121M 1s\n",
            " 12850K .......... .......... .......... .......... .......... 14%  112M 1s\n",
            " 12900K .......... .......... .......... .......... .......... 14%  139M 1s\n",
            " 12950K .......... .......... .......... .......... .......... 14%  120M 1s\n",
            " 13000K .......... .......... .......... .......... .......... 14% 73.5M 1s\n",
            " 13050K .......... .......... .......... .......... .......... 14%  186M 1s\n",
            " 13100K .......... .......... .......... .......... .......... 14%  171M 1s\n",
            " 13150K .......... .......... .......... .......... .......... 14%  157M 1s\n",
            " 13200K .......... .......... .......... .......... .......... 14%  192M 1s\n",
            " 13250K .......... .......... .......... .......... .......... 14%  178M 1s\n",
            " 13300K .......... .......... .......... .......... .......... 14%  178M 1s\n",
            " 13350K .......... .......... .......... .......... .......... 14% 17.7M 1s\n",
            " 13400K .......... .......... .......... .......... .......... 14%  126M 1s\n",
            " 13450K .......... .......... .......... .......... .......... 14%  126M 1s\n",
            " 13500K .......... .......... .......... .......... .......... 14%  118M 1s\n",
            " 13550K .......... .......... .......... .......... .......... 14%  109M 1s\n",
            " 13600K .......... .......... .......... .......... .......... 15%  121M 1s\n",
            " 13650K .......... .......... .......... .......... .......... 15%  124M 1s\n",
            " 13700K .......... .......... .......... .......... .......... 15%  123M 1s\n",
            " 13750K .......... .......... .......... .......... .......... 15%  102M 1s\n",
            " 13800K .......... .......... .......... .......... .......... 15%  131M 1s\n",
            " 13850K .......... .......... .......... .......... .......... 15%  116M 1s\n",
            " 13900K .......... .......... .......... .......... .......... 15%  120M 1s\n",
            " 13950K .......... .......... .......... .......... .......... 15% 99.4M 1s\n",
            " 14000K .......... .......... .......... .......... .......... 15%  166M 1s\n",
            " 14050K .......... .......... .......... .......... .......... 15%  189M 1s\n",
            " 14100K .......... .......... .......... .......... .......... 15%  187M 1s\n",
            " 14150K .......... .......... .......... .......... .......... 15%  160M 1s\n",
            " 14200K .......... .......... .......... .......... .......... 15%  189M 1s\n",
            " 14250K .......... .......... .......... .......... .......... 15%  177M 1s\n",
            " 14300K .......... .......... .......... .......... .......... 15%  181M 1s\n",
            " 14350K .......... .......... .......... .......... .......... 15%  146M 1s\n",
            " 14400K .......... .......... .......... .......... .......... 15%  128M 1s\n",
            " 14450K .......... .......... .......... .......... .......... 15%  117M 1s\n",
            " 14500K .......... .......... .......... .......... .......... 16%  165M 1s\n",
            " 14550K .......... .......... .......... .......... .......... 16%  174M 1s\n",
            " 14600K .......... .......... .......... .......... .......... 16%  186M 1s\n",
            " 14650K .......... .......... .......... .......... .......... 16%  172M 1s\n",
            " 14700K .......... .......... .......... .......... .......... 16%  188M 1s\n",
            " 14750K .......... .......... .......... .......... .......... 16%  152M 1s\n",
            " 14800K .......... .......... .......... .......... .......... 16%  177M 1s\n",
            " 14850K .......... .......... .......... .......... .......... 16%  189M 1s\n",
            " 14900K .......... .......... .......... .......... .......... 16%  180M 1s\n",
            " 14950K .......... .......... .......... .......... .......... 16%  159M 1s\n",
            " 15000K .......... .......... .......... .......... .......... 16%  153M 1s\n",
            " 15050K .......... .......... .......... .......... .......... 16%  192M 1s\n",
            " 15100K .......... .......... .......... .......... .......... 16%  187M 1s\n",
            " 15150K .......... .......... .......... .......... .......... 16% 7.34M 1s\n",
            " 15200K .......... .......... .......... .......... .......... 16%  102M 1s\n",
            " 15250K .......... .......... .......... .......... .......... 16%  156M 1s\n",
            " 15300K .......... .......... .......... .......... .......... 16%  191M 1s\n",
            " 15350K .......... .......... .......... .......... .......... 16%  162M 1s\n",
            " 15400K .......... .......... .......... .......... .......... 17% 2.46M 1s\n",
            " 15450K .......... .......... .......... .......... .......... 17% 84.6M 1s\n",
            " 15500K .......... .......... .......... .......... .......... 17%  148M 1s\n",
            " 15550K .......... .......... .......... .......... .......... 17% 97.3M 1s\n",
            " 15600K .......... .......... .......... .......... .......... 17%  123M 1s\n",
            " 15650K .......... .......... .......... .......... .......... 17%  123M 1s\n",
            " 15700K .......... .......... .......... .......... .......... 17%  137M 1s\n",
            " 15750K .......... .......... .......... .......... .......... 17%  107M 1s\n",
            " 15800K .......... .......... .......... .......... .......... 17%  123M 1s\n",
            " 15850K .......... .......... .......... .......... .......... 17%  121M 1s\n",
            " 15900K .......... .......... .......... .......... .......... 17%  178M 1s\n",
            " 15950K .......... .......... .......... .......... .......... 17%  122M 1s\n",
            " 16000K .......... .......... .......... .......... .......... 17%  123M 1s\n",
            " 16050K .......... .......... .......... .......... .......... 17%  122M 1s\n",
            " 16100K .......... .......... .......... .......... .......... 17%  151M 1s\n",
            " 16150K .......... .......... .......... .......... .......... 17%  172M 1s\n",
            " 16200K .......... .......... .......... .......... .......... 17%  194M 1s\n",
            " 16250K .......... .......... .......... .......... .......... 17%  235M 1s\n",
            " 16300K .......... .......... .......... .......... .......... 17%  137M 1s\n",
            " 16350K .......... .......... .......... .......... .......... 18%  141M 1s\n",
            " 16400K .......... .......... .......... .......... .......... 18%  225M 1s\n",
            " 16450K .......... .......... .......... .......... .......... 18%  196M 1s\n",
            " 16500K .......... .......... .......... .......... .......... 18%  216M 1s\n",
            " 16550K .......... .......... .......... .......... .......... 18%  189M 1s\n",
            " 16600K .......... .......... .......... .......... .......... 18%  216M 1s\n",
            " 16650K .......... .......... .......... .......... .......... 18%  200M 1s\n",
            " 16700K .......... .......... .......... .......... .......... 18%  167M 1s\n",
            " 16750K .......... .......... .......... .......... .......... 18%  155M 1s\n",
            " 16800K .......... .......... .......... .......... .......... 18%  190M 1s\n",
            " 16850K .......... .......... .......... .......... .......... 18%  162M 1s\n",
            " 16900K .......... .......... .......... .......... .......... 18% 39.0M 1s\n",
            " 16950K .......... .......... .......... .......... .......... 18% 89.5M 1s\n",
            " 17000K .......... .......... .......... .......... .......... 18% 97.6M 1s\n",
            " 17050K .......... .......... .......... .......... .......... 18%  108M 1s\n",
            " 17100K .......... .......... .......... .......... .......... 18%  106M 1s\n",
            " 17150K .......... .......... .......... .......... .......... 18% 91.4M 1s\n",
            " 17200K .......... .......... .......... .......... .......... 18%  119M 1s\n",
            " 17250K .......... .......... .......... .......... .......... 19%  177M 1s\n",
            " 17300K .......... .......... .......... .......... .......... 19%  188M 1s\n",
            " 17350K .......... .......... .......... .......... .......... 19%  127M 1s\n",
            " 17400K .......... .......... .......... .......... .......... 19%  114M 1s\n",
            " 17450K .......... .......... .......... .......... .......... 19%  124M 1s\n",
            " 17500K .......... .......... .......... .......... .......... 19%  119M 1s\n",
            " 17550K .......... .......... .......... .......... .......... 19%  118M 1s\n",
            " 17600K .......... .......... .......... .......... .......... 19%  145M 1s\n",
            " 17650K .......... .......... .......... .......... .......... 19%  132M 1s\n",
            " 17700K .......... .......... .......... .......... .......... 19% 96.1M 1s\n",
            " 17750K .......... .......... .......... .......... .......... 19%  146M 1s\n",
            " 17800K .......... .......... .......... .......... .......... 19%  189M 1s\n",
            " 17850K .......... .......... .......... .......... .......... 19%  164M 1s\n",
            " 17900K .......... .......... .......... .......... .......... 19%  119M 1s\n",
            " 17950K .......... .......... .......... .......... .......... 19%  104M 1s\n",
            " 18000K .......... .......... .......... .......... .......... 19%  132M 1s\n",
            " 18050K .......... .......... .......... .......... .......... 19%  121M 1s\n",
            " 18100K .......... .......... .......... .......... .......... 19%  117M 1s\n",
            " 18150K .......... .......... .......... .......... .......... 20%  105M 1s\n",
            " 18200K .......... .......... .......... .......... .......... 20%  191M 1s\n",
            " 18250K .......... .......... .......... .......... .......... 20% 82.9M 1s\n",
            " 18300K .......... .......... .......... .......... .......... 20%  132M 1s\n",
            " 18350K .......... .......... .......... .......... .......... 20%  110M 1s\n",
            " 18400K .......... .......... .......... .......... .......... 20%  187M 1s\n",
            " 18450K .......... .......... .......... .......... .......... 20%  156M 1s\n",
            " 18500K .......... .......... .......... .......... .......... 20%  126M 1s\n",
            " 18550K .......... .......... .......... .......... .......... 20%  109M 1s\n",
            " 18600K .......... .......... .......... .......... .......... 20%  119M 1s\n",
            " 18650K .......... .......... .......... .......... .......... 20%  127M 1s\n",
            " 18700K .......... .......... .......... .......... .......... 20%  125M 1s\n",
            " 18750K .......... .......... .......... .......... .......... 20%  152M 1s\n",
            " 18800K .......... .......... .......... .......... .......... 20%  186M 1s\n",
            " 18850K .......... .......... .......... .......... .......... 20%  188M 1s\n",
            " 18900K .......... .......... .......... .......... .......... 20%  193M 1s\n",
            " 18950K .......... .......... .......... .......... .......... 20%  162M 1s\n",
            " 19000K .......... .......... .......... .......... .......... 20%  188M 1s\n",
            " 19050K .......... .......... .......... .......... .......... 21%  198M 1s\n",
            " 19100K .......... .......... .......... .......... .......... 21%  194M 1s\n",
            " 19150K .......... .......... .......... .......... .......... 21%  153M 1s\n",
            " 19200K .......... .......... .......... .......... .......... 21%  189M 1s\n",
            " 19250K .......... .......... .......... .......... .......... 21%  194M 1s\n",
            " 19300K .......... .......... .......... .......... .......... 21%  114M 1s\n",
            " 19350K .......... .......... .......... .......... .......... 21%  107M 1s\n",
            " 19400K .......... .......... .......... .......... .......... 21%  129M 1s\n",
            " 19450K .......... .......... .......... .......... .......... 21%  136M 1s\n",
            " 19500K .......... .......... .......... .......... .......... 21%  133M 1s\n",
            " 19550K .......... .......... .......... .......... .......... 21% 78.3M 1s\n",
            " 19600K .......... .......... .......... .......... .......... 21%  112M 1s\n",
            " 19650K .......... .......... .......... .......... .......... 21%  112M 1s\n",
            " 19700K .......... .......... .......... .......... .......... 21%  125M 1s\n",
            " 19750K .......... .......... .......... .......... .......... 21% 95.7M 1s\n",
            " 19800K .......... .......... .......... .......... .......... 21%  128M 1s\n",
            " 19850K .......... .......... .......... .......... .......... 21%  187M 1s\n",
            " 19900K .......... .......... .......... .......... .......... 21%  139M 1s\n",
            " 19950K .......... .......... .......... .......... .......... 22%  119M 1s\n",
            " 20000K .......... .......... .......... .......... .......... 22%  190M 1s\n",
            " 20050K .......... .......... .......... .......... .......... 22%  149M 1s\n",
            " 20100K .......... .......... .......... .......... .......... 22%  188M 1s\n",
            " 20150K .......... .......... .......... .......... .......... 22%  124M 1s\n",
            " 20200K .......... .......... .......... .......... .......... 22%  176M 1s\n",
            " 20250K .......... .......... .......... .......... .......... 22%  188M 1s\n",
            " 20300K .......... .......... .......... .......... .......... 22%  136M 1s\n",
            " 20350K .......... .......... .......... .......... .......... 22%  134M 1s\n",
            " 20400K .......... .......... .......... .......... .......... 22%  139M 1s\n",
            " 20450K .......... .......... .......... .......... .......... 22%  185M 1s\n",
            " 20500K .......... .......... .......... .......... .......... 22%  193M 1s\n",
            " 20550K .......... .......... .......... .......... .......... 22%  157M 1s\n",
            " 20600K .......... .......... .......... .......... .......... 22%  186M 1s\n",
            " 20650K .......... .......... .......... .......... .......... 22%  163M 1s\n",
            " 20700K .......... .......... .......... .......... .......... 22%  182M 1s\n",
            " 20750K .......... .......... .......... .......... .......... 22%  167M 1s\n",
            " 20800K .......... .......... .......... .......... .......... 22%  164M 1s\n",
            " 20850K .......... .......... .......... .......... .......... 22%  191M 1s\n",
            " 20900K .......... .......... .......... .......... .......... 23%  179M 1s\n",
            " 20950K .......... .......... .......... .......... .......... 23%  172M 1s\n",
            " 21000K .......... .......... .......... .......... .......... 23% 89.4M 1s\n",
            " 21050K .......... .......... .......... .......... .......... 23% 96.0M 1s\n",
            " 21100K .......... .......... .......... .......... .......... 23%  156M 1s\n",
            " 21150K .......... .......... .......... .......... .......... 23%  130M 1s\n",
            " 21200K .......... .......... .......... .......... .......... 23%  147M 1s\n",
            " 21250K .......... .......... .......... .......... .......... 23%  164M 1s\n",
            " 21300K .......... .......... .......... .......... .......... 23%  177M 1s\n",
            " 21350K .......... .......... .......... .......... .......... 23%  132M 1s\n",
            " 21400K .......... .......... .......... .......... .......... 23%  149M 1s\n",
            " 21450K .......... .......... .......... .......... .......... 23%  149M 1s\n",
            " 21500K .......... .......... .......... .......... .......... 23%  170M 1s\n",
            " 21550K .......... .......... .......... .......... .......... 23%  130M 1s\n",
            " 21600K .......... .......... .......... .......... .......... 23%  153M 1s\n",
            " 21650K .......... .......... .......... .......... .......... 23%  154M 1s\n",
            " 21700K .......... .......... .......... .......... .......... 23%  157M 1s\n",
            " 21750K .......... .......... .......... .......... .......... 23%  156M 1s\n",
            " 21800K .......... .......... .......... .......... .......... 24%  145M 1s\n",
            " 21850K .......... .......... .......... .......... .......... 24%  186M 1s\n",
            " 21900K .......... .......... .......... .......... .......... 24%  144M 1s\n",
            " 21950K .......... .......... .......... .......... .......... 24%  151M 1s\n",
            " 22000K .......... .......... .......... .......... .......... 24%  128M 1s\n",
            " 22050K .......... .......... .......... .......... .......... 24%  176M 1s\n",
            " 22100K .......... .......... .......... .......... .......... 24%  155M 1s\n",
            " 22150K .......... .......... .......... .......... .......... 24%  165M 1s\n",
            " 22200K .......... .......... .......... .......... .......... 24%  141M 1s\n",
            " 22250K .......... .......... .......... .......... .......... 24%  169M 1s\n",
            " 22300K .......... .......... .......... .......... .......... 24%  179M 1s\n",
            " 22350K .......... .......... .......... .......... .......... 24%  159M 1s\n",
            " 22400K .......... .......... .......... .......... .......... 24%  185M 1s\n",
            " 22450K .......... .......... .......... .......... .......... 24%  189M 1s\n",
            " 22500K .......... .......... .......... .......... .......... 24%  185M 1s\n",
            " 22550K .......... .......... .......... .......... .......... 24%  117M 1s\n",
            " 22600K .......... .......... .......... .......... .......... 24%  136M 1s\n",
            " 22650K .......... .......... .......... .......... .......... 24%  138M 1s\n",
            " 22700K .......... .......... .......... .......... .......... 25%  180M 1s\n",
            " 22750K .......... .......... .......... .......... .......... 25%  157M 1s\n",
            " 22800K .......... .......... .......... .......... .......... 25%  149M 1s\n",
            " 22850K .......... .......... .......... .......... .......... 25%  173M 1s\n",
            " 22900K .......... .......... .......... .......... .......... 25%  181M 1s\n",
            " 22950K .......... .......... .......... .......... .......... 25%  168M 1s\n",
            " 23000K .......... .......... .......... .......... .......... 25%  194M 1s\n",
            " 23050K .......... .......... .......... .......... .......... 25%  127M 1s\n",
            " 23100K .......... .......... .......... .......... .......... 25%  125M 1s\n",
            " 23150K .......... .......... .......... .......... .......... 25%  143M 1s\n",
            " 23200K .......... .......... .......... .......... .......... 25%  179M 1s\n",
            " 23250K .......... .......... .......... .......... .......... 25%  195M 1s\n",
            " 23300K .......... .......... .......... .......... .......... 25%  189M 1s\n",
            " 23350K .......... .......... .......... .......... .......... 25%  155M 1s\n",
            " 23400K .......... .......... .......... .......... .......... 25%  119M 1s\n",
            " 23450K .......... .......... .......... .......... .......... 25%  101M 1s\n",
            " 23500K .......... .......... .......... .......... .......... 25%  127M 1s\n",
            " 23550K .......... .......... .......... .......... .......... 25%  139M 1s\n",
            " 23600K .......... .......... .......... .......... .......... 26%  206M 1s\n",
            " 23650K .......... .......... .......... .......... .......... 26%  181M 1s\n",
            " 23700K .......... .......... .......... .......... .......... 26%  193M 1s\n",
            " 23750K .......... .......... .......... .......... .......... 26%  173M 1s\n",
            " 23800K .......... .......... .......... .......... .......... 26%  189M 1s\n",
            " 23850K .......... .......... .......... .......... .......... 26%  182M 1s\n",
            " 23900K .......... .......... .......... .......... .......... 26%  198M 1s\n",
            " 23950K .......... .......... .......... .......... .......... 26%  159M 1s\n",
            " 24000K .......... .......... .......... .......... .......... 26%  183M 1s\n",
            " 24050K .......... .......... .......... .......... .......... 26%  191M 1s\n",
            " 24100K .......... .......... .......... .......... .......... 26%  192M 1s\n",
            " 24150K .......... .......... .......... .......... .......... 26%  174M 1s\n",
            " 24200K .......... .......... .......... .......... .......... 26%  183M 1s\n",
            " 24250K .......... .......... .......... .......... .......... 26%  195M 1s\n",
            " 24300K .......... .......... .......... .......... .......... 26%  183M 1s\n",
            " 24350K .......... .......... .......... .......... .......... 26%  113M 1s\n",
            " 24400K .......... .......... .......... .......... .......... 26%  130M 1s\n",
            " 24450K .......... .......... .......... .......... .......... 26%  161M 1s\n",
            " 24500K .......... .......... .......... .......... .......... 27%  195M 1s\n",
            " 24550K .......... .......... .......... .......... .......... 27%  159M 1s\n",
            " 24600K .......... .......... .......... .......... .......... 27%  193M 1s\n",
            " 24650K .......... .......... .......... .......... .......... 27%  141M 1s\n",
            " 24700K .......... .......... .......... .......... .......... 27%  128M 1s\n",
            " 24750K .......... .......... .......... .......... .......... 27%  109M 1s\n",
            " 24800K .......... .......... .......... .......... .......... 27%  130M 1s\n",
            " 24850K .......... .......... .......... .......... .......... 27%  120M 1s\n",
            " 24900K .......... .......... .......... .......... .......... 27%  113M 1s\n",
            " 24950K .......... .......... .......... .......... .......... 27%  147M 1s\n",
            " 25000K .......... .......... .......... .......... .......... 27%  182M 1s\n",
            " 25050K .......... .......... .......... .......... .......... 27%  185M 1s\n",
            " 25100K .......... .......... .......... .......... .......... 27%  149M 1s\n",
            " 25150K .......... .......... .......... .......... .......... 27% 74.3M 1s\n",
            " 25200K .......... .......... .......... .......... .......... 27%  175M 1s\n",
            " 25250K .......... .......... .......... .......... .......... 27%  182M 1s\n",
            " 25300K .......... .......... .......... .......... .......... 27%  188M 1s\n",
            " 25350K .......... .......... .......... .......... .......... 27%  169M 1s\n",
            " 25400K .......... .......... .......... .......... .......... 28%  177M 1s\n",
            " 25450K .......... .......... .......... .......... .......... 28%  186M 1s\n",
            " 25500K .......... .......... .......... .......... .......... 28%  185M 1s\n",
            " 25550K .......... .......... .......... .......... .......... 28%  159M 1s\n",
            " 25600K .......... .......... .......... .......... .......... 28%  179M 1s\n",
            " 25650K .......... .......... .......... .......... .......... 28%  186M 1s\n",
            " 25700K .......... .......... .......... .......... .......... 28%  182M 1s\n",
            " 25750K .......... .......... .......... .......... .......... 28%  162M 1s\n",
            " 25800K .......... .......... .......... .......... .......... 28%  190M 1s\n",
            " 25850K .......... .......... .......... .......... .......... 28%  161M 1s\n",
            " 25900K .......... .......... .......... .......... .......... 28%  186M 1s\n",
            " 25950K .......... .......... .......... .......... .......... 28%  140M 1s\n",
            " 26000K .......... .......... .......... .......... .......... 28%  197M 1s\n",
            " 26050K .......... .......... .......... .......... .......... 28%  194M 1s\n",
            " 26100K .......... .......... .......... .......... .......... 28%  206M 1s\n",
            " 26150K .......... .......... .......... .......... .......... 28%  164M 1s\n",
            " 26200K .......... .......... .......... .......... .......... 28%  191M 1s\n",
            " 26250K .......... .......... .......... .......... .......... 28%  194M 1s\n",
            " 26300K .......... .......... .......... .......... .......... 28%  185M 1s\n",
            " 26350K .......... .......... .......... .......... .......... 29% 3.61M 1s\n",
            " 26400K .......... .......... .......... .......... .......... 29% 92.7M 1s\n",
            " 26450K .......... .......... .......... .......... .......... 29%  193M 1s\n",
            " 26500K .......... .......... .......... .......... .......... 29%  311M 1s\n",
            " 26550K .......... .......... .......... .......... .......... 29%  284M 1s\n",
            " 26600K .......... .......... .......... .......... .......... 29%  310M 1s\n",
            " 26650K .......... .......... .......... .......... .......... 29% 11.0M 1s\n",
            " 26700K .......... .......... .......... .......... .......... 29%  186M 1s\n",
            " 26750K .......... .......... .......... .......... .......... 29%  158M 1s\n",
            " 26800K .......... .......... .......... .......... .......... 29%  176M 1s\n",
            " 26850K .......... .......... .......... .......... .......... 29% 39.0M 1s\n",
            " 26900K .......... .......... .......... .......... .......... 29%  145M 1s\n",
            " 26950K .......... .......... .......... .......... .......... 29%  103M 1s\n",
            " 27000K .......... .......... .......... .......... .......... 29%  130M 1s\n",
            " 27050K .......... .......... .......... .......... .......... 29%  159M 1s\n",
            " 27100K .......... .......... .......... .......... .......... 29%  160M 1s\n",
            " 27150K .......... .......... .......... .......... .......... 29%  137M 1s\n",
            " 27200K .......... .......... .......... .......... .......... 29%  183M 1s\n",
            " 27250K .......... .......... .......... .......... .......... 30%  166M 1s\n",
            " 27300K .......... .......... .......... .......... .......... 30%  177M 1s\n",
            " 27350K .......... .......... .......... .......... .......... 30%  149M 1s\n",
            " 27400K .......... .......... .......... .......... .......... 30%  153M 1s\n",
            " 27450K .......... .......... .......... .......... .......... 30%  162M 1s\n",
            " 27500K .......... .......... .......... .......... .......... 30%  172M 1s\n",
            " 27550K .......... .......... .......... .......... .......... 30%  155M 1s\n",
            " 27600K .......... .......... .......... .......... .......... 30%  175M 1s\n",
            " 27650K .......... .......... .......... .......... .......... 30%  167M 1s\n",
            " 27700K .......... .......... .......... .......... .......... 30%  159M 1s\n",
            " 27750K .......... .......... .......... .......... .......... 30%  144M 1s\n",
            " 27800K .......... .......... .......... .......... .......... 30%  175M 1s\n",
            " 27850K .......... .......... .......... .......... .......... 30%  164M 1s\n",
            " 27900K .......... .......... .......... .......... .......... 30%  149M 1s\n",
            " 27950K .......... .......... .......... .......... .......... 30%  137M 1s\n",
            " 28000K .......... .......... .......... .......... .......... 30%  159M 1s\n",
            " 28050K .......... .......... .......... .......... .......... 30%  163M 1s\n",
            " 28100K .......... .......... .......... .......... .......... 30%  160M 1s\n",
            " 28150K .......... .......... .......... .......... .......... 31%  138M 1s\n",
            " 28200K .......... .......... .......... .......... .......... 31%  171M 1s\n",
            " 28250K .......... .......... .......... .......... .......... 31%  154M 1s\n",
            " 28300K .......... .......... .......... .......... .......... 31%  166M 1s\n",
            " 28350K .......... .......... .......... .......... .......... 31%  134M 1s\n",
            " 28400K .......... .......... .......... .......... .......... 31%  152M 1s\n",
            " 28450K .......... .......... .......... .......... .......... 31%  190M 1s\n",
            " 28500K .......... .......... .......... .......... .......... 31%  175M 1s\n",
            " 28550K .......... .......... .......... .......... .......... 31%  165M 1s\n",
            " 28600K .......... .......... .......... .......... .......... 31%  163M 1s\n",
            " 28650K .......... .......... .......... .......... .......... 31%  185M 1s\n",
            " 28700K .......... .......... .......... .......... .......... 31%  202M 1s\n",
            " 28750K .......... .......... .......... .......... .......... 31%  153M 1s\n",
            " 28800K .......... .......... .......... .......... .......... 31%  194M 1s\n",
            " 28850K .......... .......... .......... .......... .......... 31%  188M 1s\n",
            " 28900K .......... .......... .......... .......... .......... 31%  192M 1s\n",
            " 28950K .......... .......... .......... .......... .......... 31%  163M 1s\n",
            " 29000K .......... .......... .......... .......... .......... 31%  187M 1s\n",
            " 29050K .......... .......... .......... .......... .......... 32%  184M 1s\n",
            " 29100K .......... .......... .......... .......... .......... 32%  184M 1s\n",
            " 29150K .......... .......... .......... .......... .......... 32%  158M 1s\n",
            " 29200K .......... .......... .......... .......... .......... 32%  192M 1s\n",
            " 29250K .......... .......... .......... .......... .......... 32%  195M 1s\n",
            " 29300K .......... .......... .......... .......... .......... 32%  186M 1s\n",
            " 29350K .......... .......... .......... .......... .......... 32%  171M 1s\n",
            " 29400K .......... .......... .......... .......... .......... 32%  189M 1s\n",
            " 29450K .......... .......... .......... .......... .......... 32%  153M 1s\n",
            " 29500K .......... .......... .......... .......... .......... 32%  167M 1s\n",
            " 29550K .......... .......... .......... .......... .......... 32%  150M 1s\n",
            " 29600K .......... .......... .......... .......... .......... 32%  192M 1s\n",
            " 29650K .......... .......... .......... .......... .......... 32%  181M 1s\n",
            " 29700K .......... .......... .......... .......... .......... 32%  171M 1s\n",
            " 29750K .......... .......... .......... .......... .......... 32%  155M 1s\n",
            " 29800K .......... .......... .......... .......... .......... 32%  144M 1s\n",
            " 29850K .......... .......... .......... .......... .......... 32%  174M 1s\n",
            " 29900K .......... .......... .......... .......... .......... 32%  163M 1s\n",
            " 29950K .......... .......... .......... .......... .......... 33%  134M 1s\n",
            " 30000K .......... .......... .......... .......... .......... 33%  176M 1s\n",
            " 30050K .......... .......... .......... .......... .......... 33%  173M 1s\n",
            " 30100K .......... .......... .......... .......... .......... 33%  177M 1s\n",
            " 30150K .......... .......... .......... .......... .......... 33%  152M 1s\n",
            " 30200K .......... .......... .......... .......... .......... 33%  159M 1s\n",
            " 30250K .......... .......... .......... .......... .......... 33%  166M 1s\n",
            " 30300K .......... .......... .......... .......... .......... 33%  180M 1s\n",
            " 30350K .......... .......... .......... .......... .......... 33%  160M 1s\n",
            " 30400K .......... .......... .......... .......... .......... 33%  159M 1s\n",
            " 30450K .......... .......... .......... .......... .......... 33%  190M 1s\n",
            " 30500K .......... .......... .......... .......... .......... 33%  183M 1s\n",
            " 30550K .......... .......... .......... .......... .......... 33%  170M 1s\n",
            " 30600K .......... .......... .......... .......... .......... 33%  189M 1s\n",
            " 30650K .......... .......... .......... .......... .......... 33%  186M 1s\n",
            " 30700K .......... .......... .......... .......... .......... 33%  189M 1s\n",
            " 30750K .......... .......... .......... .......... .......... 33%  159M 1s\n",
            " 30800K .......... .......... .......... .......... .......... 33%  196M 1s\n",
            " 30850K .......... .......... .......... .......... .......... 34%  177M 1s\n",
            " 30900K .......... .......... .......... .......... .......... 34%  195M 1s\n",
            " 30950K .......... .......... .......... .......... .......... 34%  167M 1s\n",
            " 31000K .......... .......... .......... .......... .......... 34% 30.5M 1s\n",
            " 31050K .......... .......... .......... .......... .......... 34%  132M 1s\n",
            " 31100K .......... .......... .......... .......... .......... 34%  155M 1s\n",
            " 31150K .......... .......... .......... .......... .......... 34%  133M 1s\n",
            " 31200K .......... .......... .......... .......... .......... 34%  155M 1s\n",
            " 31250K .......... .......... .......... .......... .......... 34%  169M 1s\n",
            " 31300K .......... .......... .......... .......... .......... 34%  140M 1s\n",
            " 31350K .......... .......... .......... .......... .......... 34%  141M 1s\n",
            " 31400K .......... .......... .......... .......... .......... 34%  170M 1s\n",
            " 31450K .......... .......... .......... .......... .......... 34%  159M 1s\n",
            " 31500K .......... .......... .......... .......... .......... 34%  172M 1s\n",
            " 31550K .......... .......... .......... .......... .......... 34%  147M 1s\n",
            " 31600K .......... .......... .......... .......... .......... 34% 91.8M 1s\n",
            " 31650K .......... .......... .......... .......... .......... 34%  159M 1s\n",
            " 31700K .......... .......... .......... .......... .......... 34%  158M 1s\n",
            " 31750K .......... .......... .......... .......... .......... 34%  138M 1s\n",
            " 31800K .......... .......... .......... .......... .......... 35%  156M 1s\n",
            " 31850K .......... .......... .......... .......... .......... 35%  148M 1s\n",
            " 31900K .......... .......... .......... .......... .......... 35%  182M 1s\n",
            " 31950K .......... .......... .......... .......... .......... 35%  149M 1s\n",
            " 32000K .......... .......... .......... .......... .......... 35%  157M 1s\n",
            " 32050K .......... .......... .......... .......... .......... 35%  170M 1s\n",
            " 32100K .......... .......... .......... .......... .......... 35%  189M 1s\n",
            " 32150K .......... .......... .......... .......... .......... 35%  143M 1s\n",
            " 32200K .......... .......... .......... .......... .......... 35%  120M 1s\n",
            " 32250K .......... .......... .......... .......... .......... 35%  169M 1s\n",
            " 32300K .......... .......... .......... .......... .......... 35%  191M 1s\n",
            " 32350K .......... .......... .......... .......... .......... 35%  147M 1s\n",
            " 32400K .......... .......... .......... .......... .......... 35%  186M 1s\n",
            " 32450K .......... .......... .......... .......... .......... 35%  191M 1s\n",
            " 32500K .......... .......... .......... .......... .......... 35%  180M 1s\n",
            " 32550K .......... .......... .......... .......... .......... 35%  163M 1s\n",
            " 32600K .......... .......... .......... .......... .......... 35%  194M 1s\n",
            " 32650K .......... .......... .......... .......... .......... 35%  195M 1s\n",
            " 32700K .......... .......... .......... .......... .......... 36%  188M 1s\n",
            " 32750K .......... .......... .......... .......... .......... 36%  154M 1s\n",
            " 32800K .......... .......... .......... .......... .......... 36%  193M 1s\n",
            " 32850K .......... .......... .......... .......... .......... 36%  190M 1s\n",
            " 32900K .......... .......... .......... .......... .......... 36%  155M 1s\n",
            " 32950K .......... .......... .......... .......... .......... 36%  138M 1s\n",
            " 33000K .......... .......... .......... .......... .......... 36%  174M 1s\n",
            " 33050K .......... .......... .......... .......... .......... 36%  180M 1s\n",
            " 33100K .......... .......... .......... .......... .......... 36%  182M 1s\n",
            " 33150K .......... .......... .......... .......... .......... 36%  157M 1s\n",
            " 33200K .......... .......... .......... .......... .......... 36%  151M 1s\n",
            " 33250K .......... .......... .......... .......... .......... 36%  161M 1s\n",
            " 33300K .......... .......... .......... .......... .......... 36%  173M 1s\n",
            " 33350K .......... .......... .......... .......... .......... 36% 33.6M 1s\n",
            " 33400K .......... .......... .......... .......... .......... 36%  153M 1s\n",
            " 33450K .......... .......... .......... .......... .......... 36%  177M 1s\n",
            " 33500K .......... .......... .......... .......... .......... 36%  175M 1s\n",
            " 33550K .......... .......... .......... .......... .......... 36%  136M 1s\n",
            " 33600K .......... .......... .......... .......... .......... 37%  199M 1s\n",
            " 33650K .......... .......... .......... .......... .......... 37%  181M 1s\n",
            " 33700K .......... .......... .......... .......... .......... 37%  184M 1s\n",
            " 33750K .......... .......... .......... .......... .......... 37%  162M 1s\n",
            " 33800K .......... .......... .......... .......... .......... 37%  173M 1s\n",
            " 33850K .......... .......... .......... .......... .......... 37%  191M 1s\n",
            " 33900K .......... .......... .......... .......... .......... 37%  198M 1s\n",
            " 33950K .......... .......... .......... .......... .......... 37%  152M 1s\n",
            " 34000K .......... .......... .......... .......... .......... 37%  180M 1s\n",
            " 34050K .......... .......... .......... .......... .......... 37%  180M 1s\n",
            " 34100K .......... .......... .......... .......... .......... 37%  182M 1s\n",
            " 34150K .......... .......... .......... .......... .......... 37%  173M 1s\n",
            " 34200K .......... .......... .......... .......... .......... 37%  182M 1s\n",
            " 34250K .......... .......... .......... .......... .......... 37%  188M 1s\n",
            " 34300K .......... .......... .......... .......... .......... 37%  181M 1s\n",
            " 34350K .......... .......... .......... .......... .......... 37%  162M 1s\n",
            " 34400K .......... .......... .......... .......... .......... 37%  183M 1s\n",
            " 34450K .......... .......... .......... .......... .......... 37%  184M 1s\n",
            " 34500K .......... .......... .......... .......... .......... 38%  193M 1s\n",
            " 34550K .......... .......... .......... .......... .......... 38%  174M 1s\n",
            " 34600K .......... .......... .......... .......... .......... 38%  184M 1s\n",
            " 34650K .......... .......... .......... .......... .......... 38%  186M 1s\n",
            " 34700K .......... .......... .......... .......... .......... 38%  115M 1s\n",
            " 34750K .......... .......... .......... .......... .......... 38%  126M 1s\n",
            " 34800K .......... .......... .......... .......... .......... 38%  149M 1s\n",
            " 34850K .......... .......... .......... .......... .......... 38%  190M 1s\n",
            " 34900K .......... .......... .......... .......... .......... 38%  186M 1s\n",
            " 34950K .......... .......... .......... .......... .......... 38%  152M 1s\n",
            " 35000K .......... .......... .......... .......... .......... 38%  195M 1s\n",
            " 35050K .......... .......... .......... .......... .......... 38%  191M 1s\n",
            " 35100K .......... .......... .......... .......... .......... 38%  179M 1s\n",
            " 35150K .......... .......... .......... .......... .......... 38%  128M 1s\n",
            " 35200K .......... .......... .......... .......... .......... 38%  142M 1s\n",
            " 35250K .......... .......... .......... .......... .......... 38%  152M 1s\n",
            " 35300K .......... .......... .......... .......... .......... 38%  146M 1s\n",
            " 35350K .......... .......... .......... .......... .......... 38%  152M 1s\n",
            " 35400K .......... .......... .......... .......... .......... 39% 35.2M 1s\n",
            " 35450K .......... .......... .......... .......... .......... 39%  158M 1s\n",
            " 35500K .......... .......... .......... .......... .......... 39%  178M 1s\n",
            " 35550K .......... .......... .......... .......... .......... 39%  156M 1s\n",
            " 35600K .......... .......... .......... .......... .......... 39%  163M 1s\n",
            " 35650K .......... .......... .......... .......... .......... 39%  175M 1s\n",
            " 35700K .......... .......... .......... .......... .......... 39%  172M 1s\n",
            " 35750K .......... .......... .......... .......... .......... 39%  172M 1s\n",
            " 35800K .......... .......... .......... .......... .......... 39%  179M 1s\n",
            " 35850K .......... .......... .......... .......... .......... 39%  192M 1s\n",
            " 35900K .......... .......... .......... .......... .......... 39%  184M 1s\n",
            " 35950K .......... .......... .......... .......... .......... 39%  136M 1s\n",
            " 36000K .......... .......... .......... .......... .......... 39%  165M 1s\n",
            " 36050K .......... .......... .......... .......... .......... 39%  155M 1s\n",
            " 36100K .......... .......... .......... .......... .......... 39%  168M 1s\n",
            " 36150K .......... .......... .......... .......... .......... 39%  169M 1s\n",
            " 36200K .......... .......... .......... .......... .......... 39%  190M 1s\n",
            " 36250K .......... .......... .......... .......... .......... 39%  160M 1s\n",
            " 36300K .......... .......... .......... .......... .......... 40%  162M 1s\n",
            " 36350K .......... .......... .......... .......... .......... 40%  160M 1s\n",
            " 36400K .......... .......... .......... .......... .......... 40%  171M 1s\n",
            " 36450K .......... .......... .......... .......... .......... 40%  157M 1s\n",
            " 36500K .......... .......... .......... .......... .......... 40%  184M 1s\n",
            " 36550K .......... .......... .......... .......... .......... 40%  131M 1s\n",
            " 36600K .......... .......... .......... .......... .......... 40%  105M 1s\n",
            " 36650K .......... .......... .......... .......... .......... 40%  144M 1s\n",
            " 36700K .......... .......... .......... .......... .......... 40%  168M 1s\n",
            " 36750K .......... .......... .......... .......... .......... 40%  129M 1s\n",
            " 36800K .......... .......... .......... .......... .......... 40%  186M 1s\n",
            " 36850K .......... .......... .......... .......... .......... 40%  170M 1s\n",
            " 36900K .......... .......... .......... .......... .......... 40%  172M 1s\n",
            " 36950K .......... .......... .......... .......... .......... 40%  162M 1s\n",
            " 37000K .......... .......... .......... .......... .......... 40%  179M 1s\n",
            " 37050K .......... .......... .......... .......... .......... 40%  185M 1s\n",
            " 37100K .......... .......... .......... .......... .......... 40%  166M 1s\n",
            " 37150K .......... .......... .......... .......... .......... 40%  128M 1s\n",
            " 37200K .......... .......... .......... .......... .......... 40%  159M 1s\n",
            " 37250K .......... .......... .......... .......... .......... 41%  154M 1s\n",
            " 37300K .......... .......... .......... .......... .......... 41%  179M 1s\n",
            " 37350K .......... .......... .......... .......... .......... 41%  160M 1s\n",
            " 37400K .......... .......... .......... .......... .......... 41%  153M 1s\n",
            " 37450K .......... .......... .......... .......... .......... 41% 39.4M 1s\n",
            " 37500K .......... .......... .......... .......... .......... 41%  188M 1s\n",
            " 37550K .......... .......... .......... .......... .......... 41%  156M 1s\n",
            " 37600K .......... .......... .......... .......... .......... 41%  180M 1s\n",
            " 37650K .......... .......... .......... .......... .......... 41%  196M 1s\n",
            " 37700K .......... .......... .......... .......... .......... 41%  191M 1s\n",
            " 37750K .......... .......... .......... .......... .......... 41%  155M 1s\n",
            " 37800K .......... .......... .......... .......... .......... 41%  159M 1s\n",
            " 37850K .......... .......... .......... .......... .......... 41%  169M 1s\n",
            " 37900K .......... .......... .......... .......... .......... 41%  189M 1s\n",
            " 37950K .......... .......... .......... .......... .......... 41%  154M 1s\n",
            " 38000K .......... .......... .......... .......... .......... 41%  193M 1s\n",
            " 38050K .......... .......... .......... .......... .......... 41%  178M 1s\n",
            " 38100K .......... .......... .......... .......... .......... 41%  185M 1s\n",
            " 38150K .......... .......... .......... .......... .......... 42%  164M 1s\n",
            " 38200K .......... .......... .......... .......... .......... 42%  191M 1s\n",
            " 38250K .......... .......... .......... .......... .......... 42%  173M 1s\n",
            " 38300K .......... .......... .......... .......... .......... 42%  183M 1s\n",
            " 38350K .......... .......... .......... .......... .......... 42%  157M 1s\n",
            " 38400K .......... .......... .......... .......... .......... 42%  186M 1s\n",
            " 38450K .......... .......... .......... .......... .......... 42%  170M 1s\n",
            " 38500K .......... .......... .......... .......... .......... 42%  156M 1s\n",
            " 38550K .......... .......... .......... .......... .......... 42%  170M 1s\n",
            " 38600K .......... .......... .......... .......... .......... 42%  161M 1s\n",
            " 38650K .......... .......... .......... .......... .......... 42%  159M 1s\n",
            " 38700K .......... .......... .......... .......... .......... 42%  167M 1s\n",
            " 38750K .......... .......... .......... .......... .......... 42%  124M 1s\n",
            " 38800K .......... .......... .......... .......... .......... 42%  159M 1s\n",
            " 38850K .......... .......... .......... .......... .......... 42%  164M 1s\n",
            " 38900K .......... .......... .......... .......... .......... 42%  179M 1s\n",
            " 38950K .......... .......... .......... .......... .......... 42%  166M 1s\n",
            " 39000K .......... .......... .......... .......... .......... 42%  188M 1s\n",
            " 39050K .......... .......... .......... .......... .......... 43%  198M 1s\n",
            " 39100K .......... .......... .......... .......... .......... 43%  194M 1s\n",
            " 39150K .......... .......... .......... .......... .......... 43%  135M 1s\n",
            " 39200K .......... .......... .......... .......... .......... 43%  179M 1s\n",
            " 39250K .......... .......... .......... .......... .......... 43%  146M 1s\n",
            " 39300K .......... .......... .......... .......... .......... 43%  163M 1s\n",
            " 39350K .......... .......... .......... .......... .......... 43%  141M 1s\n",
            " 39400K .......... .......... .......... .......... .......... 43%  174M 1s\n",
            " 39450K .......... .......... .......... .......... .......... 43%  190M 1s\n",
            " 39500K .......... .......... .......... .......... .......... 43% 42.0M 1s\n",
            " 39550K .......... .......... .......... .......... .......... 43%  158M 1s\n",
            " 39600K .......... .......... .......... .......... .......... 43%  160M 1s\n",
            " 39650K .......... .......... .......... .......... .......... 43%  179M 1s\n",
            " 39700K .......... .......... .......... .......... .......... 43%  169M 1s\n",
            " 39750K .......... .......... .......... .......... .......... 43%  171M 1s\n",
            " 39800K .......... .......... .......... .......... .......... 43%  174M 1s\n",
            " 39850K .......... .......... .......... .......... .......... 43%  155M 1s\n",
            " 39900K .......... .......... .......... .......... .......... 43%  182M 1s\n",
            " 39950K .......... .......... .......... .......... .......... 44%  140M 1s\n",
            " 40000K .......... .......... .......... .......... .......... 44%  180M 1s\n",
            " 40050K .......... .......... .......... .......... .......... 44%  176M 1s\n",
            " 40100K .......... .......... .......... .......... .......... 44%  194M 1s\n",
            " 40150K .......... .......... .......... .......... .......... 44%  169M 1s\n",
            " 40200K .......... .......... .......... .......... .......... 44%  184M 1s\n",
            " 40250K .......... .......... .......... .......... .......... 44%  186M 1s\n",
            " 40300K .......... .......... .......... .......... .......... 44%  109M 1s\n",
            " 40350K .......... .......... .......... .......... .......... 44%  122M 1s\n",
            " 40400K .......... .......... .......... .......... .......... 44%  167M 1s\n",
            " 40450K .......... .......... .......... .......... .......... 44%  180M 1s\n",
            " 40500K .......... .......... .......... .......... .......... 44%  145M 1s\n",
            " 40550K .......... .......... .......... .......... .......... 44%  163M 1s\n",
            " 40600K .......... .......... .......... .......... .......... 44%  172M 1s\n",
            " 40650K .......... .......... .......... .......... .......... 44%  180M 1s\n",
            " 40700K .......... .......... .......... .......... .......... 44%  172M 1s\n",
            " 40750K .......... .......... .......... .......... .......... 44%  157M 1s\n",
            " 40800K .......... .......... .......... .......... .......... 44%  169M 1s\n",
            " 40850K .......... .......... .......... .......... .......... 45%  175M 1s\n",
            " 40900K .......... .......... .......... .......... .......... 45%  187M 0s\n",
            " 40950K .......... .......... .......... .......... .......... 45%  156M 0s\n",
            " 41000K .......... .......... .......... .......... .......... 45%  149M 0s\n",
            " 41050K .......... .......... .......... .......... .......... 45%  167M 0s\n",
            " 41100K .......... .......... .......... .......... .......... 45%  183M 0s\n",
            " 41150K .......... .......... .......... .......... .......... 45%  144M 0s\n",
            " 41200K .......... .......... .......... .......... .......... 45%  166M 0s\n",
            " 41250K .......... .......... .......... .......... .......... 45%  189M 0s\n",
            " 41300K .......... .......... .......... .......... .......... 45%  183M 0s\n",
            " 41350K .......... .......... .......... .......... .......... 45%  172M 0s\n",
            " 41400K .......... .......... .......... .......... .......... 45%  173M 0s\n",
            " 41450K .......... .......... .......... .......... .......... 45%  183M 0s\n",
            " 41500K .......... .......... .......... .......... .......... 45%  180M 0s\n",
            " 41550K .......... .......... .......... .......... .......... 45% 38.6M 0s\n",
            " 41600K .......... .......... .......... .......... .......... 45%  192M 0s\n",
            " 41650K .......... .......... .......... .......... .......... 45%  176M 0s\n",
            " 41700K .......... .......... .......... .......... .......... 45%  179M 0s\n",
            " 41750K .......... .......... .......... .......... .......... 45%  163M 0s\n",
            " 41800K .......... .......... .......... .......... .......... 46%  181M 0s\n",
            " 41850K .......... .......... .......... .......... .......... 46%  188M 0s\n",
            " 41900K .......... .......... .......... .......... .......... 46%  200M 0s\n",
            " 41950K .......... .......... .......... .......... .......... 46%  153M 0s\n",
            " 42000K .......... .......... .......... .......... .......... 46%  183M 0s\n",
            " 42050K .......... .......... .......... .......... .......... 46%  182M 0s\n",
            " 42100K .......... .......... .......... .......... .......... 46%  181M 0s\n",
            " 42150K .......... .......... .......... .......... .......... 46%  149M 0s\n",
            " 42200K .......... .......... .......... .......... .......... 46%  174M 0s\n",
            " 42250K .......... .......... .......... .......... .......... 46%  201M 0s\n",
            " 42300K .......... .......... .......... .......... .......... 46%  157M 0s\n",
            " 42350K .......... .......... .......... .......... .......... 46%  138M 0s\n",
            " 42400K .......... .......... .......... .......... .......... 46%  166M 0s\n",
            " 42450K .......... .......... .......... .......... .......... 46%  171M 0s\n",
            " 42500K .......... .......... .......... .......... .......... 46%  190M 0s\n",
            " 42550K .......... .......... .......... .......... .......... 46%  132M 0s\n",
            " 42600K .......... .......... .......... .......... .......... 46%  178M 0s\n",
            " 42650K .......... .......... .......... .......... .......... 46%  183M 0s\n",
            " 42700K .......... .......... .......... .......... .......... 47%  186M 0s\n",
            " 42750K .......... .......... .......... .......... .......... 47%  161M 0s\n",
            " 42800K .......... .......... .......... .......... .......... 47%  185M 0s\n",
            " 42850K .......... .......... .......... .......... .......... 47%  167M 0s\n",
            " 42900K .......... .......... .......... .......... .......... 47%  160M 0s\n",
            " 42950K .......... .......... .......... .......... .......... 47%  166M 0s\n",
            " 43000K .......... .......... .......... .......... .......... 47%  175M 0s\n",
            " 43050K .......... .......... .......... .......... .......... 47%  159M 0s\n",
            " 43100K .......... .......... .......... .......... .......... 47%  176M 0s\n",
            " 43150K .......... .......... .......... .......... .......... 47%  136M 0s\n",
            " 43200K .......... .......... .......... .......... .......... 47%  196M 0s\n",
            " 43250K .......... .......... .......... .......... .......... 47%  167M 0s\n",
            " 43300K .......... .......... .......... .......... .......... 47%  149M 0s\n",
            " 43350K .......... .......... .......... .......... .......... 47%  150M 0s\n",
            " 43400K .......... .......... .......... .......... .......... 47%  178M 0s\n",
            " 43450K .......... .......... .......... .......... .......... 47%  183M 0s\n",
            " 43500K .......... .......... .......... .......... .......... 47%  189M 0s\n",
            " 43550K .......... .......... .......... .......... .......... 47%  135M 0s\n",
            " 43600K .......... .......... .......... .......... .......... 48% 36.3M 0s\n",
            " 43650K .......... .......... .......... .......... .......... 48%  164M 0s\n",
            " 43700K .......... .......... .......... .......... .......... 48%  177M 0s\n",
            " 43750K .......... .......... .......... .......... .......... 48%  153M 0s\n",
            " 43800K .......... .......... .......... .......... .......... 48%  153M 0s\n",
            " 43850K .......... .......... .......... .......... .......... 48%  172M 0s\n",
            " 43900K .......... .......... .......... .......... .......... 48%  190M 0s\n",
            " 43950K .......... .......... .......... .......... .......... 48%  147M 0s\n",
            " 44000K .......... .......... .......... .......... .......... 48%  178M 0s\n",
            " 44050K .......... .......... .......... .......... .......... 48%  191M 0s\n",
            " 44100K .......... .......... .......... .......... .......... 48%  196M 0s\n",
            " 44150K .......... .......... .......... .......... .......... 48%  190M 0s\n",
            " 44200K .......... .......... .......... .......... .......... 48%  210M 0s\n",
            " 44250K .......... .......... .......... .......... .......... 48% 43.9M 0s\n",
            " 44300K .......... .......... .......... .......... .......... 48%  306M 0s\n",
            " 44350K .......... .......... .......... .......... .......... 48%  246M 0s\n",
            " 44400K .......... .......... .......... .......... .......... 48%  280M 0s\n",
            " 44450K .......... .......... .......... .......... .......... 48%  193M 0s\n",
            " 44500K .......... .......... .......... .......... .......... 49%  192M 0s\n",
            " 44550K .......... .......... .......... .......... .......... 49%  172M 0s\n",
            " 44600K .......... .......... .......... .......... .......... 49%  180M 0s\n",
            " 44650K .......... .......... .......... .......... .......... 49%  189M 0s\n",
            " 44700K .......... .......... .......... .......... .......... 49%  200M 0s\n",
            " 44750K .......... .......... .......... .......... .......... 49%  160M 0s\n",
            " 44800K .......... .......... .......... .......... .......... 49%  181M 0s\n",
            " 44850K .......... .......... .......... .......... .......... 49%  176M 0s\n",
            " 44900K .......... .......... .......... .......... .......... 49%  173M 0s\n",
            " 44950K .......... .......... .......... .......... .......... 49%  167M 0s\n",
            " 45000K .......... .......... .......... .......... .......... 49%  181M 0s\n",
            " 45050K .......... .......... .......... .......... .......... 49%  192M 0s\n",
            " 45100K .......... .......... .......... .......... .......... 49%  180M 0s\n",
            " 45150K .......... .......... .......... .......... .......... 49%  149M 0s\n",
            " 45200K .......... .......... .......... .......... .......... 49%  196M 0s\n",
            " 45250K .......... .......... .......... .......... .......... 49%  183M 0s\n",
            " 45300K .......... .......... .......... .......... .......... 49%  185M 0s\n",
            " 45350K .......... .......... .......... .......... .......... 49%  162M 0s\n",
            " 45400K .......... .......... .......... .......... .......... 50%  174M 0s\n",
            " 45450K .......... .......... .......... .......... .......... 50%  190M 0s\n",
            " 45500K .......... .......... .......... .......... .......... 50% 43.4M 0s\n",
            " 45550K .......... .......... .......... .......... .......... 50%  157M 0s\n",
            " 45600K .......... .......... .......... .......... .......... 50%  194M 0s\n",
            " 45650K .......... .......... .......... .......... .......... 50%  189M 0s\n",
            " 45700K .......... .......... .......... .......... .......... 50% 5.92M 0s\n",
            " 45750K .......... .......... .......... .......... .......... 50%  112M 0s\n",
            " 45800K .......... .......... .......... .......... .......... 50%  171M 0s\n",
            " 45850K .......... .......... .......... .......... .......... 50%  183M 0s\n",
            " 45900K .......... .......... .......... .......... .......... 50%  165M 0s\n",
            " 45950K .......... .......... .......... .......... .......... 50% 61.3M 0s\n",
            " 46000K .......... .......... .......... .......... .......... 50%  115M 0s\n",
            " 46050K .......... .......... .......... .......... .......... 50%  117M 0s\n",
            " 46100K .......... .......... .......... .......... .......... 50%  114M 0s\n",
            " 46150K .......... .......... .......... .......... .......... 50%  102M 0s\n",
            " 46200K .......... .......... .......... .......... .......... 50%  120M 0s\n",
            " 46250K .......... .......... .......... .......... .......... 50%  123M 0s\n",
            " 46300K .......... .......... .......... .......... .......... 51%  127M 0s\n",
            " 46350K .......... .......... .......... .......... .......... 51%  127M 0s\n",
            " 46400K .......... .......... .......... .......... .......... 51% 76.3M 0s\n",
            " 46450K .......... .......... .......... .......... .......... 51%  123M 0s\n",
            " 46500K .......... .......... .......... .......... .......... 51%  119M 0s\n",
            " 46550K .......... .......... .......... .......... .......... 51% 95.3M 0s\n",
            " 46600K .......... .......... .......... .......... .......... 51%  145M 0s\n",
            " 46650K .......... .......... .......... .......... .......... 51%  190M 0s\n",
            " 46700K .......... .......... .......... .......... .......... 51%  178M 0s\n",
            " 46750K .......... .......... .......... .......... .......... 51%  158M 0s\n",
            " 46800K .......... .......... .......... .......... .......... 51%  189M 0s\n",
            " 46850K .......... .......... .......... .......... .......... 51%  191M 0s\n",
            " 46900K .......... .......... .......... .......... .......... 51%  169M 0s\n",
            " 46950K .......... .......... .......... .......... .......... 51%  171M 0s\n",
            " 47000K .......... .......... .......... .......... .......... 51%  192M 0s\n",
            " 47050K .......... .......... .......... .......... .......... 51%  187M 0s\n",
            " 47100K .......... .......... .......... .......... .......... 51%  195M 0s\n",
            " 47150K .......... .......... .......... .......... .......... 51%  156M 0s\n",
            " 47200K .......... .......... .......... .......... .......... 51%  191M 0s\n",
            " 47250K .......... .......... .......... .......... .......... 52%  182M 0s\n",
            " 47300K .......... .......... .......... .......... .......... 52%  193M 0s\n",
            " 47350K .......... .......... .......... .......... .......... 52% 82.0M 0s\n",
            " 47400K .......... .......... .......... .......... .......... 52%  147M 0s\n",
            " 47450K .......... .......... .......... .......... .......... 52%  187M 0s\n",
            " 47500K .......... .......... .......... .......... .......... 52%  184M 0s\n",
            " 47550K .......... .......... .......... .......... .......... 52% 39.7M 0s\n",
            " 47600K .......... .......... .......... .......... .......... 52%  153M 0s\n",
            " 47650K .......... .......... .......... .......... .......... 52%  155M 0s\n",
            " 47700K .......... .......... .......... .......... .......... 52%  148M 0s\n",
            " 47750K .......... .......... .......... .......... .......... 52%  170M 0s\n",
            " 47800K .......... .......... .......... .......... .......... 52%  124M 0s\n",
            " 47850K .......... .......... .......... .......... .......... 52%  128M 0s\n",
            " 47900K .......... .......... .......... .......... .......... 52%  139M 0s\n",
            " 47950K .......... .......... .......... .......... .......... 52% 84.4M 0s\n",
            " 48000K .......... .......... .......... .......... .......... 52%  130M 0s\n",
            " 48050K .......... .......... .......... .......... .......... 52%  187M 0s\n",
            " 48100K .......... .......... .......... .......... .......... 52%  137M 0s\n",
            " 48150K .......... .......... .......... .......... .......... 53%  113M 0s\n",
            " 48200K .......... .......... .......... .......... .......... 53%  119M 0s\n",
            " 48250K .......... .......... .......... .......... .......... 53%  113M 0s\n",
            " 48300K .......... .......... .......... .......... .......... 53%  126M 0s\n",
            " 48350K .......... .......... .......... .......... .......... 53% 91.1M 0s\n",
            " 48400K .......... .......... .......... .......... .......... 53%  107M 0s\n",
            " 48450K .......... .......... .......... .......... .......... 53%  109M 0s\n",
            " 48500K .......... .......... .......... .......... .......... 53%  130M 0s\n",
            " 48550K .......... .......... .......... .......... .......... 53%  109M 0s\n",
            " 48600K .......... .......... .......... .......... .......... 53%  121M 0s\n",
            " 48650K .......... .......... .......... .......... .......... 53%  134M 0s\n",
            " 48700K .......... .......... .......... .......... .......... 53%  104M 0s\n",
            " 48750K .......... .......... .......... .......... .......... 53%  139M 0s\n",
            " 48800K .......... .......... .......... .......... .......... 53%  192M 0s\n",
            " 48850K .......... .......... .......... .......... .......... 53%  182M 0s\n",
            " 48900K .......... .......... .......... .......... .......... 53%  189M 0s\n",
            " 48950K .......... .......... .......... .......... .......... 53% 89.1M 0s\n",
            " 49000K .......... .......... .......... .......... .......... 53%  111M 0s\n",
            " 49050K .......... .......... .......... .......... .......... 54%  122M 0s\n",
            " 49100K .......... .......... .......... .......... .......... 54%  112M 0s\n",
            " 49150K .......... .......... .......... .......... .......... 54%  110M 0s\n",
            " 49200K .......... .......... .......... .......... .......... 54%  149M 0s\n",
            " 49250K .......... .......... .......... .......... .......... 54%  181M 0s\n",
            " 49300K .......... .......... .......... .......... .......... 54%  191M 0s\n",
            " 49350K .......... .......... .......... .......... .......... 54%  123M 0s\n",
            " 49400K .......... .......... .......... .......... .......... 54%  108M 0s\n",
            " 49450K .......... .......... .......... .......... .......... 54% 71.8M 0s\n",
            " 49500K .......... .......... .......... .......... .......... 54%  119M 0s\n",
            " 49550K .......... .......... .......... .......... .......... 54% 73.1M 0s\n",
            " 49600K .......... .......... .......... .......... .......... 54% 38.2M 0s\n",
            " 49650K .......... .......... .......... .......... .......... 54%  116M 0s\n",
            " 49700K .......... .......... .......... .......... .......... 54%  132M 0s\n",
            " 49750K .......... .......... .......... .......... .......... 54%  167M 0s\n",
            " 49800K .......... .......... .......... .......... .......... 54%  182M 0s\n",
            " 49850K .......... .......... .......... .......... .......... 54%  194M 0s\n",
            " 49900K .......... .......... .......... .......... .......... 54%  177M 0s\n",
            " 49950K .......... .......... .......... .......... .......... 55%  135M 0s\n",
            " 50000K .......... .......... .......... .......... .......... 55%  180M 0s\n",
            " 50050K .......... .......... .......... .......... .......... 55%  125M 0s\n",
            " 50100K .......... .......... .......... .......... .......... 55%  127M 0s\n",
            " 50150K .......... .......... .......... .......... .......... 55%  140M 0s\n",
            " 50200K .......... .......... .......... .......... .......... 55%  174M 0s\n",
            " 50250K .......... .......... .......... .......... .......... 55%  189M 0s\n",
            " 50300K .......... .......... .......... .......... .......... 55%  182M 0s\n",
            " 50350K .......... .......... .......... .......... .......... 55%  149M 0s\n",
            " 50400K .......... .......... .......... .......... .......... 55%  182M 0s\n",
            " 50450K .......... .......... .......... .......... .......... 55%  159M 0s\n",
            " 50500K .......... .......... .......... .......... .......... 55%  187M 0s\n",
            " 50550K .......... .......... .......... .......... .......... 55%  105M 0s\n",
            " 50600K .......... .......... .......... .......... .......... 55% 88.2M 0s\n",
            " 50650K .......... .......... .......... .......... .......... 55%  114M 0s\n",
            " 50700K .......... .......... .......... .......... .......... 55%  157M 0s\n",
            " 50750K .......... .......... .......... .......... .......... 55% 85.8M 0s\n",
            " 50800K .......... .......... .......... .......... .......... 55%  125M 0s\n",
            " 50850K .......... .......... .......... .......... .......... 56%  148M 0s\n",
            " 50900K .......... .......... .......... .......... .......... 56%  171M 0s\n",
            " 50950K .......... .......... .......... .......... .......... 56%  152M 0s\n",
            " 51000K .......... .......... .......... .......... .......... 56%  186M 0s\n",
            " 51050K .......... .......... .......... .......... .......... 56% 79.3M 0s\n",
            " 51100K .......... .......... .......... .......... .......... 56%  119M 0s\n",
            " 51150K .......... .......... .......... .......... .......... 56%  102M 0s\n",
            " 51200K .......... .......... .......... .......... .......... 56%  121M 0s\n",
            " 51250K .......... .......... .......... .......... .......... 56%  111M 0s\n",
            " 51300K .......... .......... .......... .......... .......... 56%  126M 0s\n",
            " 51350K .......... .......... .......... .......... .......... 56%  124M 0s\n",
            " 51400K .......... .......... .......... .......... .......... 56%  131M 0s\n",
            " 51450K .......... .......... .......... .......... .......... 56%  157M 0s\n",
            " 51500K .......... .......... .......... .......... .......... 56%  188M 0s\n",
            " 51550K .......... .......... .......... .......... .......... 56%  152M 0s\n",
            " 51600K .......... .......... .......... .......... .......... 56%  187M 0s\n",
            " 51650K .......... .......... .......... .......... .......... 56% 40.8M 0s\n",
            " 51700K .......... .......... .......... .......... .......... 56%  189M 0s\n",
            " 51750K .......... .......... .......... .......... .......... 57%  151M 0s\n",
            " 51800K .......... .......... .......... .......... .......... 57%  191M 0s\n",
            " 51850K .......... .......... .......... .......... .......... 57%  188M 0s\n",
            " 51900K .......... .......... .......... .......... .......... 57%  168M 0s\n",
            " 51950K .......... .......... .......... .......... .......... 57%  161M 0s\n",
            " 52000K .......... .......... .......... .......... .......... 57%  183M 0s\n",
            " 52050K .......... .......... .......... .......... .......... 57%  195M 0s\n",
            " 52100K .......... .......... .......... .......... .......... 57%  186M 0s\n",
            " 52150K .......... .......... .......... .......... .......... 57%  172M 0s\n",
            " 52200K .......... .......... .......... .......... .......... 57%  188M 0s\n",
            " 52250K .......... .......... .......... .......... .......... 57%  205M 0s\n",
            " 52300K .......... .......... .......... .......... .......... 57%  153M 0s\n",
            " 52350K .......... .......... .......... .......... .......... 57%  107M 0s\n",
            " 52400K .......... .......... .......... .......... .......... 57%  125M 0s\n",
            " 52450K .......... .......... .......... .......... .......... 57%  104M 0s\n",
            " 52500K .......... .......... .......... .......... .......... 57%  135M 0s\n",
            " 52550K .......... .......... .......... .......... .......... 57% 67.7M 0s\n",
            " 52600K .......... .......... .......... .......... .......... 57%  118M 0s\n",
            " 52650K .......... .......... .......... .......... .......... 57%  174M 0s\n",
            " 52700K .......... .......... .......... .......... .......... 58%  154M 0s\n",
            " 52750K .......... .......... .......... .......... .......... 58%  158M 0s\n",
            " 52800K .......... .......... .......... .......... .......... 58%  183M 0s\n",
            " 52850K .......... .......... .......... .......... .......... 58%  196M 0s\n",
            " 52900K .......... .......... .......... .......... .......... 58%  183M 0s\n",
            " 52950K .......... .......... .......... .......... .......... 58%  153M 0s\n",
            " 53000K .......... .......... .......... .......... .......... 58%  194M 0s\n",
            " 53050K .......... .......... .......... .......... .......... 58%  189M 0s\n",
            " 53100K .......... .......... .......... .......... .......... 58%  191M 0s\n",
            " 53150K .......... .......... .......... .......... .......... 58%  147M 0s\n",
            " 53200K .......... .......... .......... .......... .......... 58%  194M 0s\n",
            " 53250K .......... .......... .......... .......... .......... 58%  188M 0s\n",
            " 53300K .......... .......... .......... .......... .......... 58%  197M 0s\n",
            " 53350K .......... .......... .......... .......... .......... 58%  165M 0s\n",
            " 53400K .......... .......... .......... .......... .......... 58%  196M 0s\n",
            " 53450K .......... .......... .......... .......... .......... 58%  179M 0s\n",
            " 53500K .......... .......... .......... .......... .......... 58%  185M 0s\n",
            " 53550K .......... .......... .......... .......... .......... 58%  151M 0s\n",
            " 53600K .......... .......... .......... .......... .......... 59%  183M 0s\n",
            " 53650K .......... .......... .......... .......... .......... 59%  186M 0s\n",
            " 53700K .......... .......... .......... .......... .......... 59% 43.9M 0s\n",
            " 53750K .......... .......... .......... .......... .......... 59%  162M 0s\n",
            " 53800K .......... .......... .......... .......... .......... 59%  103M 0s\n",
            " 53850K .......... .......... .......... .......... .......... 59%  140M 0s\n",
            " 53900K .......... .......... .......... .......... .......... 59%  162M 0s\n",
            " 53950K .......... .......... .......... .......... .......... 59%  158M 0s\n",
            " 54000K .......... .......... .......... .......... .......... 59%  193M 0s\n",
            " 54050K .......... .......... .......... .......... .......... 59%  184M 0s\n",
            " 54100K .......... .......... .......... .......... .......... 59% 12.3M 0s\n",
            " 54150K .......... .......... .......... .......... .......... 59%  116M 0s\n",
            " 54200K .......... .......... .......... .......... .......... 59%  150M 0s\n",
            " 54250K .......... .......... .......... .......... .......... 59%  165M 0s\n",
            " 54300K .......... .......... .......... .......... .......... 59% 80.1M 0s\n",
            " 54350K .......... .......... .......... .......... .......... 59% 95.8M 0s\n",
            " 54400K .......... .......... .......... .......... .......... 59%  115M 0s\n",
            " 54450K .......... .......... .......... .......... .......... 59%  113M 0s\n",
            " 54500K .......... .......... .......... .......... .......... 60%  115M 0s\n",
            " 54550K .......... .......... .......... .......... .......... 60%  100M 0s\n",
            " 54600K .......... .......... .......... .......... .......... 60%  134M 0s\n",
            " 54650K .......... .......... .......... .......... .......... 60%  138M 0s\n",
            " 54700K .......... .......... .......... .......... .......... 60%  121M 0s\n",
            " 54750K .......... .......... .......... .......... .......... 60% 70.0M 0s\n",
            " 54800K .......... .......... .......... .......... .......... 60%  113M 0s\n",
            " 54850K .......... .......... .......... .......... .......... 60%  174M 0s\n",
            " 54900K .......... .......... .......... .......... .......... 60%  184M 0s\n",
            " 54950K .......... .......... .......... .......... .......... 60%  160M 0s\n",
            " 55000K .......... .......... .......... .......... .......... 60%  150M 0s\n",
            " 55050K .......... .......... .......... .......... .......... 60%  172M 0s\n",
            " 55100K .......... .......... .......... .......... .......... 60%  172M 0s\n",
            " 55150K .......... .......... .......... .......... .......... 60%  155M 0s\n",
            " 55200K .......... .......... .......... .......... .......... 60%  181M 0s\n",
            " 55250K .......... .......... .......... .......... .......... 60%  189M 0s\n",
            " 55300K .......... .......... .......... .......... .......... 60%  178M 0s\n",
            " 55350K .......... .......... .......... .......... .......... 60%  173M 0s\n",
            " 55400K .......... .......... .......... .......... .......... 61%  128M 0s\n",
            " 55450K .......... .......... .......... .......... .......... 61%  156M 0s\n",
            " 55500K .......... .......... .......... .......... .......... 61%  172M 0s\n",
            " 55550K .......... .......... .......... .......... .......... 61%  154M 0s\n",
            " 55600K .......... .......... .......... .......... .......... 61%  179M 0s\n",
            " 55650K .......... .......... .......... .......... .......... 61%  114M 0s\n",
            " 55700K .......... .......... .......... .......... .......... 61%  133M 0s\n",
            " 55750K .......... .......... .......... .......... .......... 61% 35.9M 0s\n",
            " 55800K .......... .......... .......... .......... .......... 61%  125M 0s\n",
            " 55850K .......... .......... .......... .......... .......... 61%  187M 0s\n",
            " 55900K .......... .......... .......... .......... .......... 61%  179M 0s\n",
            " 55950K .......... .......... .......... .......... .......... 61%  162M 0s\n",
            " 56000K .......... .......... .......... .......... .......... 61%  185M 0s\n",
            " 56050K .......... .......... .......... .......... .......... 61%  182M 0s\n",
            " 56100K .......... .......... .......... .......... .......... 61%  188M 0s\n",
            " 56150K .......... .......... .......... .......... .......... 61%  124M 0s\n",
            " 56200K .......... .......... .......... .......... .......... 61%  121M 0s\n",
            " 56250K .......... .......... .......... .......... .......... 61%  153M 0s\n",
            " 56300K .......... .......... .......... .......... .......... 62%  119M 0s\n",
            " 56350K .......... .......... .......... .......... .......... 62%  112M 0s\n",
            " 56400K .......... .......... .......... .......... .......... 62%  130M 0s\n",
            " 56450K .......... .......... .......... .......... .......... 62%  111M 0s\n",
            " 56500K .......... .......... .......... .......... .......... 62%  132M 0s\n",
            " 56550K .......... .......... .......... .......... .......... 62%  113M 0s\n",
            " 56600K .......... .......... .......... .......... .......... 62%  114M 0s\n",
            " 56650K .......... .......... .......... .......... .......... 62%  118M 0s\n",
            " 56700K .......... .......... .......... .......... .......... 62%  118M 0s\n",
            " 56750K .......... .......... .......... .......... .......... 62%  129M 0s\n",
            " 56800K .......... .......... .......... .......... .......... 62%  185M 0s\n",
            " 56850K .......... .......... .......... .......... .......... 62%  170M 0s\n",
            " 56900K .......... .......... .......... .......... .......... 62%  193M 0s\n",
            " 56950K .......... .......... .......... .......... .......... 62%  162M 0s\n",
            " 57000K .......... .......... .......... .......... .......... 62%  191M 0s\n",
            " 57050K .......... .......... .......... .......... .......... 62%  180M 0s\n",
            " 57100K .......... .......... .......... .......... .......... 62%  194M 0s\n",
            " 57150K .......... .......... .......... .......... .......... 62%  147M 0s\n",
            " 57200K .......... .......... .......... .......... .......... 63%  195M 0s\n",
            " 57250K .......... .......... .......... .......... .......... 63%  170M 0s\n",
            " 57300K .......... .......... .......... .......... .......... 63%  184M 0s\n",
            " 57350K .......... .......... .......... .......... .......... 63%  120M 0s\n",
            " 57400K .......... .......... .......... .......... .......... 63%  125M 0s\n",
            " 57450K .......... .......... .......... .......... .......... 63%  122M 0s\n",
            " 57500K .......... .......... .......... .......... .......... 63%  107M 0s\n",
            " 57550K .......... .......... .......... .......... .......... 63%  109M 0s\n",
            " 57600K .......... .......... .......... .......... .......... 63%  148M 0s\n",
            " 57650K .......... .......... .......... .......... .......... 63%  175M 0s\n",
            " 57700K .......... .......... .......... .......... .......... 63%  180M 0s\n",
            " 57750K .......... .......... .......... .......... .......... 63%  117M 0s\n",
            " 57800K .......... .......... .......... .......... .......... 63% 38.6M 0s\n",
            " 57850K .......... .......... .......... .......... .......... 63%  198M 0s\n",
            " 57900K .......... .......... .......... .......... .......... 63%  189M 0s\n",
            " 57950K .......... .......... .......... .......... .......... 63%  163M 0s\n",
            " 58000K .......... .......... .......... .......... .......... 63%  177M 0s\n",
            " 58050K .......... .......... .......... .......... .......... 63%  189M 0s\n",
            " 58100K .......... .......... .......... .......... .......... 63%  197M 0s\n",
            " 58150K .......... .......... .......... .......... .......... 64%  165M 0s\n",
            " 58200K .......... .......... .......... .......... .......... 64%  197M 0s\n",
            " 58250K .......... .......... .......... .......... .......... 64%  187M 0s\n",
            " 58300K .......... .......... .......... .......... .......... 64%  196M 0s\n",
            " 58350K .......... .......... .......... .......... .......... 64%  153M 0s\n",
            " 58400K .......... .......... .......... .......... .......... 64%  195M 0s\n",
            " 58450K .......... .......... .......... .......... .......... 64%  190M 0s\n",
            " 58500K .......... .......... .......... .......... .......... 64%  195M 0s\n",
            " 58550K .......... .......... .......... .......... .......... 64%  153M 0s\n",
            " 58600K .......... .......... .......... .......... .......... 64%  188M 0s\n",
            " 58650K .......... .......... .......... .......... .......... 64%  189M 0s\n",
            " 58700K .......... .......... .......... .......... .......... 64% 65.5M 0s\n",
            " 58750K .......... .......... .......... .......... .......... 64%  115M 0s\n",
            " 58800K .......... .......... .......... .......... .......... 64%  146M 0s\n",
            " 58850K .......... .......... .......... .......... .......... 64%  175M 0s\n",
            " 58900K .......... .......... .......... .......... .......... 64%  185M 0s\n",
            " 58950K .......... .......... .......... .......... .......... 64% 34.2M 0s\n",
            " 59000K .......... .......... .......... .......... .......... 64%  117M 0s\n",
            " 59050K .......... .......... .......... .......... .......... 65%  121M 0s\n",
            " 59100K .......... .......... .......... .......... .......... 65%  123M 0s\n",
            " 59150K .......... .......... .......... .......... .......... 65%  109M 0s\n",
            " 59200K .......... .......... .......... .......... .......... 65%  128M 0s\n",
            " 59250K .......... .......... .......... .......... .......... 65%  116M 0s\n",
            " 59300K .......... .......... .......... .......... .......... 65%  159M 0s\n",
            " 59350K .......... .......... .......... .......... .......... 65%  156M 0s\n",
            " 59400K .......... .......... .......... .......... .......... 65%  122M 0s\n",
            " 59450K .......... .......... .......... .......... .......... 65% 87.2M 0s\n",
            " 59500K .......... .......... .......... .......... .......... 65%  131M 0s\n",
            " 59550K .......... .......... .......... .......... .......... 65%  108M 0s\n",
            " 59600K .......... .......... .......... .......... .......... 65%  189M 0s\n",
            " 59650K .......... .......... .......... .......... .......... 65%  189M 0s\n",
            " 59700K .......... .......... .......... .......... .......... 65%  192M 0s\n",
            " 59750K .......... .......... .......... .......... .......... 65%  144M 0s\n",
            " 59800K .......... .......... .......... .......... .......... 65%  186M 0s\n",
            " 59850K .......... .......... .......... .......... .......... 65% 39.8M 0s\n",
            " 59900K .......... .......... .......... .......... .......... 65%  132M 0s\n",
            " 59950K .......... .......... .......... .......... .......... 66%  138M 0s\n",
            " 60000K .......... .......... .......... .......... .......... 66%  189M 0s\n",
            " 60050K .......... .......... .......... .......... .......... 66%  197M 0s\n",
            " 60100K .......... .......... .......... .......... .......... 66%  185M 0s\n",
            " 60150K .......... .......... .......... .......... .......... 66%  114M 0s\n",
            " 60200K .......... .......... .......... .......... .......... 66%  152M 0s\n",
            " 60250K .......... .......... .......... .......... .......... 66%  148M 0s\n",
            " 60300K .......... .......... .......... .......... .......... 66%  190M 0s\n",
            " 60350K .......... .......... .......... .......... .......... 66%  161M 0s\n",
            " 60400K .......... .......... .......... .......... .......... 66%  183M 0s\n",
            " 60450K .......... .......... .......... .......... .......... 66%  198M 0s\n",
            " 60500K .......... .......... .......... .......... .......... 66%  133M 0s\n",
            " 60550K .......... .......... .......... .......... .......... 66%  114M 0s\n",
            " 60600K .......... .......... .......... .......... .......... 66%  132M 0s\n",
            " 60650K .......... .......... .......... .......... .......... 66%  132M 0s\n",
            " 60700K .......... .......... .......... .......... .......... 66%  122M 0s\n",
            " 60750K .......... .......... .......... .......... .......... 66%  107M 0s\n",
            " 60800K .......... .......... .......... .......... .......... 66%  122M 0s\n",
            " 60850K .......... .......... .......... .......... .......... 67%  156M 0s\n",
            " 60900K .......... .......... .......... .......... .......... 67%  191M 0s\n",
            " 60950K .......... .......... .......... .......... .......... 67%  178M 0s\n",
            " 61000K .......... .......... .......... .......... .......... 67%  131M 0s\n",
            " 61050K .......... .......... .......... .......... .......... 67%  129M 0s\n",
            " 61100K .......... .......... .......... .......... .......... 67%  122M 0s\n",
            " 61150K .......... .......... .......... .......... .......... 67% 95.8M 0s\n",
            " 61200K .......... .......... .......... .......... .......... 67%  148M 0s\n",
            " 61250K .......... .......... .......... .......... .......... 67%  178M 0s\n",
            " 61300K .......... .......... .......... .......... .......... 67%  178M 0s\n",
            " 61350K .......... .......... .......... .......... .......... 67%  174M 0s\n",
            " 61400K .......... .......... .......... .......... .......... 67%  181M 0s\n",
            " 61450K .......... .......... .......... .......... .......... 67%  190M 0s\n",
            " 61500K .......... .......... .......... .......... .......... 67%  184M 0s\n",
            " 61550K .......... .......... .......... .......... .......... 67%  161M 0s\n",
            " 61600K .......... .......... .......... .......... .......... 67%  176M 0s\n",
            " 61650K .......... .......... .......... .......... .......... 67%  191M 0s\n",
            " 61700K .......... .......... .......... .......... .......... 67%  191M 0s\n",
            " 61750K .......... .......... .......... .......... .......... 68%  176M 0s\n",
            " 61800K .......... .......... .......... .......... .......... 68%  142M 0s\n",
            " 61850K .......... .......... .......... .......... .......... 68%  122M 0s\n",
            " 61900K .......... .......... .......... .......... .......... 68% 40.3M 0s\n",
            " 61950K .......... .......... .......... .......... .......... 68%  152M 0s\n",
            " 62000K .......... .......... .......... .......... .......... 68%  196M 0s\n",
            " 62050K .......... .......... .......... .......... .......... 68%  176M 0s\n",
            " 62100K .......... .......... .......... .......... .......... 68%  183M 0s\n",
            " 62150K .......... .......... .......... .......... .......... 68%  167M 0s\n",
            " 62200K .......... .......... .......... .......... .......... 68%  189M 0s\n",
            " 62250K .......... .......... .......... .......... .......... 68%  131M 0s\n",
            " 62300K .......... .......... .......... .......... .......... 68%  118M 0s\n",
            " 62350K .......... .......... .......... .......... .......... 68%  120M 0s\n",
            " 62400K .......... .......... .......... .......... .......... 68%  183M 0s\n",
            " 62450K .......... .......... .......... .......... .......... 68%  123M 0s\n",
            " 62500K .......... .......... .......... .......... .......... 68% 63.5M 0s\n",
            " 62550K .......... .......... .......... .......... .......... 68%  161M 0s\n",
            " 62600K .......... .......... .......... .......... .......... 68%  185M 0s\n",
            " 62650K .......... .......... .......... .......... .......... 68%  185M 0s\n",
            " 62700K .......... .......... .......... .......... .......... 69%  136M 0s\n",
            " 62750K .......... .......... .......... .......... .......... 69% 87.9M 0s\n",
            " 62800K .......... .......... .......... .......... .......... 69%  108M 0s\n",
            " 62850K .......... .......... .......... .......... .......... 69%  119M 0s\n",
            " 62900K .......... .......... .......... .......... .......... 69%  116M 0s\n",
            " 62950K .......... .......... .......... .......... .......... 69%  107M 0s\n",
            " 63000K .......... .......... .......... .......... .......... 69%  124M 0s\n",
            " 63050K .......... .......... .......... .......... .......... 69%  124M 0s\n",
            " 63100K .......... .......... .......... .......... .......... 69%  119M 0s\n",
            " 63150K .......... .......... .......... .......... .......... 69%  113M 0s\n",
            " 63200K .......... .......... .......... .......... .......... 69%  151M 0s\n",
            " 63250K .......... .......... .......... .......... .......... 69%  191M 0s\n",
            " 63300K .......... .......... .......... .......... .......... 69%  167M 0s\n",
            " 63350K .......... .......... .......... .......... .......... 69%  168M 0s\n",
            " 63400K .......... .......... .......... .......... .......... 69%  113M 0s\n",
            " 63450K .......... .......... .......... .......... .......... 69%  133M 0s\n",
            " 63500K .......... .......... .......... .......... .......... 69%  133M 0s\n",
            " 63550K .......... .......... .......... .......... .......... 69% 98.9M 0s\n",
            " 63600K .......... .......... .......... .......... .......... 70%  127M 0s\n",
            " 63650K .......... .......... .......... .......... .......... 70%  128M 0s\n",
            " 63700K .......... .......... .......... .......... .......... 70%  121M 0s\n",
            " 63750K .......... .......... .......... .......... .......... 70%  128M 0s\n",
            " 63800K .......... .......... .......... .......... .......... 70%  179M 0s\n",
            " 63850K .......... .......... .......... .......... .......... 70%  174M 0s\n",
            " 63900K .......... .......... .......... .......... .......... 70%  177M 0s\n",
            " 63950K .......... .......... .......... .......... .......... 70% 42.3M 0s\n",
            " 64000K .......... .......... .......... .......... .......... 70%  189M 0s\n",
            " 64050K .......... .......... .......... .......... .......... 70%  170M 0s\n",
            " 64100K .......... .......... .......... .......... .......... 70%  193M 0s\n",
            " 64150K .......... .......... .......... .......... .......... 70%  170M 0s\n",
            " 64200K .......... .......... .......... .......... .......... 70%  190M 0s\n",
            " 64250K .......... .......... .......... .......... .......... 70%  184M 0s\n",
            " 64300K .......... .......... .......... .......... .......... 70%  188M 0s\n",
            " 64350K .......... .......... .......... .......... .......... 70%  124M 0s\n",
            " 64400K .......... .......... .......... .......... .......... 70%  173M 0s\n",
            " 64450K .......... .......... .......... .......... .......... 70%  103M 0s\n",
            " 64500K .......... .......... .......... .......... .......... 71%  115M 0s\n",
            " 64550K .......... .......... .......... .......... .......... 71%  127M 0s\n",
            " 64600K .......... .......... .......... .......... .......... 71%  117M 0s\n",
            " 64650K .......... .......... .......... .......... .......... 71%  117M 0s\n",
            " 64700K .......... .......... .......... .......... .......... 71%  134M 0s\n",
            " 64750K .......... .......... .......... .......... .......... 71%  112M 0s\n",
            " 64800K .......... .......... .......... .......... .......... 71%  177M 0s\n",
            " 64850K .......... .......... .......... .......... .......... 71%  140M 0s\n",
            " 64900K .......... .......... .......... .......... .......... 71% 76.9M 0s\n",
            " 64950K .......... .......... .......... .......... .......... 71%  147M 0s\n",
            " 65000K .......... .......... .......... .......... .......... 71%  179M 0s\n",
            " 65050K .......... .......... .......... .......... .......... 71%  172M 0s\n",
            " 65100K .......... .......... .......... .......... .......... 71%  184M 0s\n",
            " 65150K .......... .......... .......... .......... .......... 71%  147M 0s\n",
            " 65200K .......... .......... .......... .......... .......... 71%  176M 0s\n",
            " 65250K .......... .......... .......... .......... .......... 71%  187M 0s\n",
            " 65300K .......... .......... .......... .......... .......... 71%  149M 0s\n",
            " 65350K .......... .......... .......... .......... .......... 71%  101M 0s\n",
            " 65400K .......... .......... .......... .......... .......... 72%  156M 0s\n",
            " 65450K .......... .......... .......... .......... .......... 72%  184M 0s\n",
            " 65500K .......... .......... .......... .......... .......... 72%  188M 0s\n",
            " 65550K .......... .......... .......... .......... .......... 72%  156M 0s\n",
            " 65600K .......... .......... .......... .......... .......... 72%  184M 0s\n",
            " 65650K .......... .......... .......... .......... .......... 72%  185M 0s\n",
            " 65700K .......... .......... .......... .......... .......... 72%  176M 0s\n",
            " 65750K .......... .......... .......... .......... .......... 72%  114M 0s\n",
            " 65800K .......... .......... .......... .......... .......... 72% 81.6M 0s\n",
            " 65850K .......... .......... .......... .......... .......... 72% 89.5M 0s\n",
            " 65900K .......... .......... .......... .......... .......... 72%  121M 0s\n",
            " 65950K .......... .......... .......... .......... .......... 72%  110M 0s\n",
            " 66000K .......... .......... .......... .......... .......... 72% 39.7M 0s\n",
            " 66050K .......... .......... .......... .......... .......... 72%  169M 0s\n",
            " 66100K .......... .......... .......... .......... .......... 72%  185M 0s\n",
            " 66150K .......... .......... .......... .......... .......... 72%  166M 0s\n",
            " 66200K .......... .......... .......... .......... .......... 72%  195M 0s\n",
            " 66250K .......... .......... .......... .......... .......... 72%  176M 0s\n",
            " 66300K .......... .......... .......... .......... .......... 73%  190M 0s\n",
            " 66350K .......... .......... .......... .......... .......... 73%  151M 0s\n",
            " 66400K .......... .......... .......... .......... .......... 73%  182M 0s\n",
            " 66450K .......... .......... .......... .......... .......... 73%  191M 0s\n",
            " 66500K .......... .......... .......... .......... .......... 73%  184M 0s\n",
            " 66550K .......... .......... .......... .......... .......... 73% 70.3M 0s\n",
            " 66600K .......... .......... .......... .......... .......... 73%  110M 0s\n",
            " 66650K .......... .......... .......... .......... .......... 73% 89.7M 0s\n",
            " 66700K .......... .......... .......... .......... .......... 73%  126M 0s\n",
            " 66750K .......... .......... .......... .......... .......... 73%  108M 0s\n",
            " 66800K .......... .......... .......... .......... .......... 73%  139M 0s\n",
            " 66850K .......... .......... .......... .......... .......... 73%  119M 0s\n",
            " 66900K .......... .......... .......... .......... .......... 73%  170M 0s\n",
            " 66950K .......... .......... .......... .......... .......... 73%  172M 0s\n",
            " 67000K .......... .......... .......... .......... .......... 73%  184M 0s\n",
            " 67050K .......... .......... .......... .......... .......... 73%  162M 0s\n",
            " 67100K .......... .......... .......... .......... .......... 73%  111M 0s\n",
            " 67150K .......... .......... .......... .......... .......... 73% 89.8M 0s\n",
            " 67200K .......... .......... .......... .......... .......... 74%  148M 0s\n",
            " 67250K .......... .......... .......... .......... .......... 74%  184M 0s\n",
            " 67300K .......... .......... .......... .......... .......... 74%  183M 0s\n",
            " 67350K .......... .......... .......... .......... .......... 74%  152M 0s\n",
            " 67400K .......... .......... .......... .......... .......... 74%  145M 0s\n",
            " 67450K .......... .......... .......... .......... .......... 74%  116M 0s\n",
            " 67500K .......... .......... .......... .......... .......... 74%  152M 0s\n",
            " 67550K .......... .......... .......... .......... .......... 74%  158M 0s\n",
            " 67600K .......... .......... .......... .......... .......... 74%  183M 0s\n",
            " 67650K .......... .......... .......... .......... .......... 74%  177M 0s\n",
            " 67700K .......... .......... .......... .......... .......... 74%  207M 0s\n",
            " 67750K .......... .......... .......... .......... .......... 74%  163M 0s\n",
            " 67800K .......... .......... .......... .......... .......... 74%  193M 0s\n",
            " 67850K .......... .......... .......... .......... .......... 74%  168M 0s\n",
            " 67900K .......... .......... .......... .......... .......... 74%  192M 0s\n",
            " 67950K .......... .......... .......... .......... .......... 74%  147M 0s\n",
            " 68000K .......... .......... .......... .......... .......... 74%  179M 0s\n",
            " 68050K .......... .......... .......... .......... .......... 74% 43.8M 0s\n",
            " 68100K .......... .......... .......... .......... .......... 74%  184M 0s\n",
            " 68150K .......... .......... .......... .......... .......... 75%  170M 0s\n",
            " 68200K .......... .......... .......... .......... .......... 75%  190M 0s\n",
            " 68250K .......... .......... .......... .......... .......... 75%  169M 0s\n",
            " 68300K .......... .......... .......... .......... .......... 75%  189M 0s\n",
            " 68350K .......... .......... .......... .......... .......... 75%  156M 0s\n",
            " 68400K .......... .......... .......... .......... .......... 75%  177M 0s\n",
            " 68450K .......... .......... .......... .......... .......... 75%  196M 0s\n",
            " 68500K .......... .......... .......... .......... .......... 75%  190M 0s\n",
            " 68550K .......... .......... .......... .......... .......... 75%  174M 0s\n",
            " 68600K .......... .......... .......... .......... .......... 75%  188M 0s\n",
            " 68650K .......... .......... .......... .......... .......... 75%  193M 0s\n",
            " 68700K .......... .......... .......... .......... .......... 75%  184M 0s\n",
            " 68750K .......... .......... .......... .......... .......... 75%  162M 0s\n",
            " 68800K .......... .......... .......... .......... .......... 75%  178M 0s\n",
            " 68850K .......... .......... .......... .......... .......... 75% 8.53M 0s\n",
            " 68900K .......... .......... .......... .......... .......... 75%  142M 0s\n",
            " 68950K .......... .......... .......... .......... .......... 75% 96.1M 0s\n",
            " 69000K .......... .......... .......... .......... .......... 75%  147M 0s\n",
            " 69050K .......... .......... .......... .......... .......... 76%  167M 0s\n",
            " 69100K .......... .......... .......... .......... .......... 76%  161M 0s\n",
            " 69150K .......... .......... .......... .......... .......... 76%  130M 0s\n",
            " 69200K .......... .......... .......... .......... .......... 76%  153M 0s\n",
            " 69250K .......... .......... .......... .......... .......... 76%  186M 0s\n",
            " 69300K .......... .......... .......... .......... .......... 76%  191M 0s\n",
            " 69350K .......... .......... .......... .......... .......... 76%  154M 0s\n",
            " 69400K .......... .......... .......... .......... .......... 76%  183M 0s\n",
            " 69450K .......... .......... .......... .......... .......... 76%  177M 0s\n",
            " 69500K .......... .......... .......... .......... .......... 76% 6.26M 0s\n",
            " 69550K .......... .......... .......... .......... .......... 76%  140M 0s\n",
            " 69600K .......... .......... .......... .......... .......... 76%  153M 0s\n",
            " 69650K .......... .......... .......... .......... .......... 76%  177M 0s\n",
            " 69700K .......... .......... .......... .......... .......... 76%  121M 0s\n",
            " 69750K .......... .......... .......... .......... .......... 76% 11.3M 0s\n",
            " 69800K .......... .......... .......... .......... .......... 76%  143M 0s\n",
            " 69850K .......... .......... .......... .......... .......... 76%  163M 0s\n",
            " 69900K .......... .......... .......... .......... .......... 76%  153M 0s\n",
            " 69950K .......... .......... .......... .......... .......... 77% 36.2M 0s\n",
            " 70000K .......... .......... .......... .......... .......... 77%  169M 0s\n",
            " 70050K .......... .......... .......... .......... .......... 77%  162M 0s\n",
            " 70100K .......... .......... .......... .......... .......... 77%  173M 0s\n",
            " 70150K .......... .......... .......... .......... .......... 77%  148M 0s\n",
            " 70200K .......... .......... .......... .......... .......... 77%  173M 0s\n",
            " 70250K .......... .......... .......... .......... .......... 77%  196M 0s\n",
            " 70300K .......... .......... .......... .......... .......... 77%  178M 0s\n",
            " 70350K .......... .......... .......... .......... .......... 77%  141M 0s\n",
            " 70400K .......... .......... .......... .......... .......... 77%  169M 0s\n",
            " 70450K .......... .......... .......... .......... .......... 77%  153M 0s\n",
            " 70500K .......... .......... .......... .......... .......... 77%  169M 0s\n",
            " 70550K .......... .......... .......... .......... .......... 77%  150M 0s\n",
            " 70600K .......... .......... .......... .......... .......... 77%  174M 0s\n",
            " 70650K .......... .......... .......... .......... .......... 77%  164M 0s\n",
            " 70700K .......... .......... .......... .......... .......... 77%  154M 0s\n",
            " 70750K .......... .......... .......... .......... .......... 77%  134M 0s\n",
            " 70800K .......... .......... .......... .......... .......... 77%  170M 0s\n",
            " 70850K .......... .......... .......... .......... .......... 78%  155M 0s\n",
            " 70900K .......... .......... .......... .......... .......... 78%  158M 0s\n",
            " 70950K .......... .......... .......... .......... .......... 78%  166M 0s\n",
            " 71000K .......... .......... .......... .......... .......... 78%  193M 0s\n",
            " 71050K .......... .......... .......... .......... .......... 78%  173M 0s\n",
            " 71100K .......... .......... .......... .......... .......... 78%  191M 0s\n",
            " 71150K .......... .......... .......... .......... .......... 78%  135M 0s\n",
            " 71200K .......... .......... .......... .......... .......... 78%  139M 0s\n",
            " 71250K .......... .......... .......... .......... .......... 78%  156M 0s\n",
            " 71300K .......... .......... .......... .......... .......... 78%  169M 0s\n",
            " 71350K .......... .......... .......... .......... .......... 78%  146M 0s\n",
            " 71400K .......... .......... .......... .......... .......... 78%  157M 0s\n",
            " 71450K .......... .......... .......... .......... .......... 78%  179M 0s\n",
            " 71500K .......... .......... .......... .......... .......... 78%  191M 0s\n",
            " 71550K .......... .......... .......... .......... .......... 78%  152M 0s\n",
            " 71600K .......... .......... .......... .......... .......... 78%  164M 0s\n",
            " 71650K .......... .......... .......... .......... .......... 78%  181M 0s\n",
            " 71700K .......... .......... .......... .......... .......... 78%  150M 0s\n",
            " 71750K .......... .......... .......... .......... .......... 79%  158M 0s\n",
            " 71800K .......... .......... .......... .......... .......... 79%  184M 0s\n",
            " 71850K .......... .......... .......... .......... .......... 79%  178M 0s\n",
            " 71900K .......... .......... .......... .......... .......... 79%  160M 0s\n",
            " 71950K .......... .......... .......... .......... .......... 79%  141M 0s\n",
            " 72000K .......... .......... .......... .......... .......... 79% 40.0M 0s\n",
            " 72050K .......... .......... .......... .......... .......... 79%  174M 0s\n",
            " 72100K .......... .......... .......... .......... .......... 79%  169M 0s\n",
            " 72150K .......... .......... .......... .......... .......... 79%  167M 0s\n",
            " 72200K .......... .......... .......... .......... .......... 79%  198M 0s\n",
            " 72250K .......... .......... .......... .......... .......... 79%  154M 0s\n",
            " 72300K .......... .......... .......... .......... .......... 79%  140M 0s\n",
            " 72350K .......... .......... .......... .......... .......... 79%  147M 0s\n",
            " 72400K .......... .......... .......... .......... .......... 79%  176M 0s\n",
            " 72450K .......... .......... .......... .......... .......... 79%  187M 0s\n",
            " 72500K .......... .......... .......... .......... .......... 79%  179M 0s\n",
            " 72550K .......... .......... .......... .......... .......... 79%  158M 0s\n",
            " 72600K .......... .......... .......... .......... .......... 79%  198M 0s\n",
            " 72650K .......... .......... .......... .......... .......... 80%  174M 0s\n",
            " 72700K .......... .......... .......... .......... .......... 80%  189M 0s\n",
            " 72750K .......... .......... .......... .......... .......... 80%  154M 0s\n",
            " 72800K .......... .......... .......... .......... .......... 80%  189M 0s\n",
            " 72850K .......... .......... .......... .......... .......... 80%  209M 0s\n",
            " 72900K .......... .......... .......... .......... .......... 80%  191M 0s\n",
            " 72950K .......... .......... .......... .......... .......... 80%  163M 0s\n",
            " 73000K .......... .......... .......... .......... .......... 80%  154M 0s\n",
            " 73050K .......... .......... .......... .......... .......... 80%  197M 0s\n",
            " 73100K .......... .......... .......... .......... .......... 80%  179M 0s\n",
            " 73150K .......... .......... .......... .......... .......... 80% 77.3M 0s\n",
            " 73200K .......... .......... .......... .......... .......... 80%  175M 0s\n",
            " 73250K .......... .......... .......... .......... .......... 80%  167M 0s\n",
            " 73300K .......... .......... .......... .......... .......... 80%  187M 0s\n",
            " 73350K .......... .......... .......... .......... .......... 80%  149M 0s\n",
            " 73400K .......... .......... .......... .......... .......... 80%  160M 0s\n",
            " 73450K .......... .......... .......... .......... .......... 80%  158M 0s\n",
            " 73500K .......... .......... .......... .......... .......... 80%  147M 0s\n",
            " 73550K .......... .......... .......... .......... .......... 80%  138M 0s\n",
            " 73600K .......... .......... .......... .......... .......... 81%  191M 0s\n",
            " 73650K .......... .......... .......... .......... .......... 81%  168M 0s\n",
            " 73700K .......... .......... .......... .......... .......... 81%  189M 0s\n",
            " 73750K .......... .......... .......... .......... .......... 81%  137M 0s\n",
            " 73800K .......... .......... .......... .......... .......... 81%  189M 0s\n",
            " 73850K .......... .......... .......... .......... .......... 81%  178M 0s\n",
            " 73900K .......... .......... .......... .......... .......... 81%  176M 0s\n",
            " 73950K .......... .......... .......... .......... .......... 81%  156M 0s\n",
            " 74000K .......... .......... .......... .......... .......... 81%  155M 0s\n",
            " 74050K .......... .......... .......... .......... .......... 81% 39.5M 0s\n",
            " 74100K .......... .......... .......... .......... .......... 81%  181M 0s\n",
            " 74150K .......... .......... .......... .......... .......... 81%  176M 0s\n",
            " 74200K .......... .......... .......... .......... .......... 81%  182M 0s\n",
            " 74250K .......... .......... .......... .......... .......... 81%  181M 0s\n",
            " 74300K .......... .......... .......... .......... .......... 81%  197M 0s\n",
            " 74350K .......... .......... .......... .......... .......... 81%  154M 0s\n",
            " 74400K .......... .......... .......... .......... .......... 81%  182M 0s\n",
            " 74450K .......... .......... .......... .......... .......... 81%  174M 0s\n",
            " 74500K .......... .......... .......... .......... .......... 82%  182M 0s\n",
            " 74550K .......... .......... .......... .......... .......... 82%  171M 0s\n",
            " 74600K .......... .......... .......... .......... .......... 82%  181M 0s\n",
            " 74650K .......... .......... .......... .......... .......... 82%  190M 0s\n",
            " 74700K .......... .......... .......... .......... .......... 82%  190M 0s\n",
            " 74750K .......... .......... .......... .......... .......... 82%  155M 0s\n",
            " 74800K .......... .......... .......... .......... .......... 82%  184M 0s\n",
            " 74850K .......... .......... .......... .......... .......... 82%  195M 0s\n",
            " 74900K .......... .......... .......... .......... .......... 82%  201M 0s\n",
            " 74950K .......... .......... .......... .......... .......... 82%  170M 0s\n",
            " 75000K .......... .......... .......... .......... .......... 82%  166M 0s\n",
            " 75050K .......... .......... .......... .......... .......... 82%  193M 0s\n",
            " 75100K .......... .......... .......... .......... .......... 82%  190M 0s\n",
            " 75150K .......... .......... .......... .......... .......... 82%  161M 0s\n",
            " 75200K .......... .......... .......... .......... .......... 82%  184M 0s\n",
            " 75250K .......... .......... .......... .......... .......... 82%  190M 0s\n",
            " 75300K .......... .......... .......... .......... .......... 82%  188M 0s\n",
            " 75350K .......... .......... .......... .......... .......... 82%  164M 0s\n",
            " 75400K .......... .......... .......... .......... .......... 83%  191M 0s\n",
            " 75450K .......... .......... .......... .......... .......... 83%  191M 0s\n",
            " 75500K .......... .......... .......... .......... .......... 83%  180M 0s\n",
            " 75550K .......... .......... .......... .......... .......... 83%  155M 0s\n",
            " 75600K .......... .......... .......... .......... .......... 83%  189M 0s\n",
            " 75650K .......... .......... .......... .......... .......... 83%  158M 0s\n",
            " 75700K .......... .......... .......... .......... .......... 83%  193M 0s\n",
            " 75750K .......... .......... .......... .......... .......... 83%  146M 0s\n",
            " 75800K .......... .......... .......... .......... .......... 83% 28.1M 0s\n",
            " 75850K .......... .......... .......... .......... .......... 83%  175M 0s\n",
            " 75900K .......... .......... .......... .......... .......... 83%  190M 0s\n",
            " 75950K .......... .......... .......... .......... .......... 83% 28.7M 0s\n",
            " 76000K .......... .......... .......... .......... .......... 83% 15.4M 0s\n",
            " 76050K .......... .......... .......... .......... .......... 83%  165M 0s\n",
            " 76100K .......... .......... .......... .......... .......... 83% 36.6M 0s\n",
            " 76150K .......... .......... .......... .......... .......... 83%  148M 0s\n",
            " 76200K .......... .......... .......... .......... .......... 83%  167M 0s\n",
            " 76250K .......... .......... .......... .......... .......... 83%  169M 0s\n",
            " 76300K .......... .......... .......... .......... .......... 84%  162M 0s\n",
            " 76350K .......... .......... .......... .......... .......... 84% 96.1M 0s\n",
            " 76400K .......... .......... .......... .......... .......... 84%  178M 0s\n",
            " 76450K .......... .......... .......... .......... .......... 84%  180M 0s\n",
            " 76500K .......... .......... .......... .......... .......... 84%  178M 0s\n",
            " 76550K .......... .......... .......... .......... .......... 84%  155M 0s\n",
            " 76600K .......... .......... .......... .......... .......... 84%  156M 0s\n",
            " 76650K .......... .......... .......... .......... .......... 84%  161M 0s\n",
            " 76700K .......... .......... .......... .......... .......... 84% 99.4M 0s\n",
            " 76750K .......... .......... .......... .......... .......... 84%  141M 0s\n",
            " 76800K .......... .......... .......... .......... .......... 84%  159M 0s\n",
            " 76850K .......... .......... .......... .......... .......... 84%  160M 0s\n",
            " 76900K .......... .......... .......... .......... .......... 84%  158M 0s\n",
            " 76950K .......... .......... .......... .......... .......... 84%  139M 0s\n",
            " 77000K .......... .......... .......... .......... .......... 84%  145M 0s\n",
            " 77050K .......... .......... .......... .......... .......... 84%  159M 0s\n",
            " 77100K .......... .......... .......... .......... .......... 84%  165M 0s\n",
            " 77150K .......... .......... .......... .......... .......... 84%  143M 0s\n",
            " 77200K .......... .......... .......... .......... .......... 85%  169M 0s\n",
            " 77250K .......... .......... .......... .......... .......... 85%  147M 0s\n",
            " 77300K .......... .......... .......... .......... .......... 85% 96.3M 0s\n",
            " 77350K .......... .......... .......... .......... .......... 85%  148M 0s\n",
            " 77400K .......... .......... .......... .......... .......... 85%  164M 0s\n",
            " 77450K .......... .......... .......... .......... .......... 85%  153M 0s\n",
            " 77500K .......... .......... .......... .......... .......... 85%  169M 0s\n",
            " 77550K .......... .......... .......... .......... .......... 85%  137M 0s\n",
            " 77600K .......... .......... .......... .......... .......... 85%  165M 0s\n",
            " 77650K .......... .......... .......... .......... .......... 85%  161M 0s\n",
            " 77700K .......... .......... .......... .......... .......... 85%  159M 0s\n",
            " 77750K .......... .......... .......... .......... .......... 85%  160M 0s\n",
            " 77800K .......... .......... .......... .......... .......... 85%  177M 0s\n",
            " 77850K .......... .......... .......... .......... .......... 85%  191M 0s\n",
            " 77900K .......... .......... .......... .......... .......... 85%  192M 0s\n",
            " 77950K .......... .......... .......... .......... .......... 85% 98.8M 0s\n",
            " 78000K .......... .......... .......... .......... .......... 85%  165M 0s\n",
            " 78050K .......... .......... .......... .......... .......... 85%  142M 0s\n",
            " 78100K .......... .......... .......... .......... .......... 86%  162M 0s\n",
            " 78150K .......... .......... .......... .......... .......... 86% 40.4M 0s\n",
            " 78200K .......... .......... .......... .......... .......... 86%  182M 0s\n",
            " 78250K .......... .......... .......... .......... .......... 86%  186M 0s\n",
            " 78300K .......... .......... .......... .......... .......... 86%  173M 0s\n",
            " 78350K .......... .......... .......... .......... .......... 86%  145M 0s\n",
            " 78400K .......... .......... .......... .......... .......... 86%  152M 0s\n",
            " 78450K .......... .......... .......... .......... .......... 86%  184M 0s\n",
            " 78500K .......... .......... .......... .......... .......... 86%  189M 0s\n",
            " 78550K .......... .......... .......... .......... .......... 86%  160M 0s\n",
            " 78600K .......... .......... .......... .......... .......... 86%  196M 0s\n",
            " 78650K .......... .......... .......... .......... .......... 86%  173M 0s\n",
            " 78700K .......... .......... .......... .......... .......... 86%  189M 0s\n",
            " 78750K .......... .......... .......... .......... .......... 86%  157M 0s\n",
            " 78800K .......... .......... .......... .......... .......... 86%  197M 0s\n",
            " 78850K .......... .......... .......... .......... .......... 86%  187M 0s\n",
            " 78900K .......... .......... .......... .......... .......... 86%  158M 0s\n",
            " 78950K .......... .......... .......... .......... .......... 86%  145M 0s\n",
            " 79000K .......... .......... .......... .......... .......... 86%  148M 0s\n",
            " 79050K .......... .......... .......... .......... .......... 87%  164M 0s\n",
            " 79100K .......... .......... .......... .......... .......... 87%  168M 0s\n",
            " 79150K .......... .......... .......... .......... .......... 87%  140M 0s\n",
            " 79200K .......... .......... .......... .......... .......... 87%  178M 0s\n",
            " 79250K .......... .......... .......... .......... .......... 87%  155M 0s\n",
            " 79300K .......... .......... .......... .......... .......... 87%  157M 0s\n",
            " 79350K .......... .......... .......... .......... .......... 87%  167M 0s\n",
            " 79400K .......... .......... .......... .......... .......... 87%  183M 0s\n",
            " 79450K .......... .......... .......... .......... .......... 87%  185M 0s\n",
            " 79500K .......... .......... .......... .......... .......... 87%  176M 0s\n",
            " 79550K .......... .......... .......... .......... .......... 87%  148M 0s\n",
            " 79600K .......... .......... .......... .......... .......... 87%  179M 0s\n",
            " 79650K .......... .......... .......... .......... .......... 87%  182M 0s\n",
            " 79700K .......... .......... .......... .......... .......... 87%  191M 0s\n",
            " 79750K .......... .......... .......... .......... .......... 87%  137M 0s\n",
            " 79800K .......... .......... .......... .......... .......... 87%  171M 0s\n",
            " 79850K .......... .......... .......... .......... .......... 87%  151M 0s\n",
            " 79900K .......... .......... .......... .......... .......... 87%  227M 0s\n",
            " 79950K .......... .......... .......... .......... .......... 88%  127M 0s\n",
            " 80000K .......... .......... .......... .......... .......... 88%  143M 0s\n",
            " 80050K .......... .......... .......... .......... .......... 88%  156M 0s\n",
            " 80100K .......... .......... .......... .......... .......... 88%  161M 0s\n",
            " 80150K .......... .......... .......... .......... .......... 88% 35.8M 0s\n",
            " 80200K .......... .......... .......... .......... .......... 88%  151M 0s\n",
            " 80250K .......... .......... .......... .......... .......... 88%  168M 0s\n",
            " 80300K .......... .......... .......... .......... .......... 88%  140M 0s\n",
            " 80350K .......... .......... .......... .......... .......... 88%  138M 0s\n",
            " 80400K .......... .......... .......... .......... .......... 88%  154M 0s\n",
            " 80450K .......... .......... .......... .......... .......... 88%  147M 0s\n",
            " 80500K .......... .......... .......... .......... .......... 88%  174M 0s\n",
            " 80550K .......... .......... .......... .......... .......... 88%  162M 0s\n",
            " 80600K .......... .......... .......... .......... .......... 88%  183M 0s\n",
            " 80650K .......... .......... .......... .......... .......... 88%  182M 0s\n",
            " 80700K .......... .......... .......... .......... .......... 88%  135M 0s\n",
            " 80750K .......... .......... .......... .......... .......... 88%  139M 0s\n",
            " 80800K .......... .......... .......... .......... .......... 88%  110M 0s\n",
            " 80850K .......... .......... .......... .......... .......... 89%  162M 0s\n",
            " 80900K .......... .......... .......... .......... .......... 89%  182M 0s\n",
            " 80950K .......... .......... .......... .......... .......... 89%  156M 0s\n",
            " 81000K .......... .......... .......... .......... .......... 89%  184M 0s\n",
            " 81050K .......... .......... .......... .......... .......... 89%  185M 0s\n",
            " 81100K .......... .......... .......... .......... .......... 89%  167M 0s\n",
            " 81150K .......... .......... .......... .......... .......... 89%  128M 0s\n",
            " 81200K .......... .......... .......... .......... .......... 89%  151M 0s\n",
            " 81250K .......... .......... .......... .......... .......... 89%  151M 0s\n",
            " 81300K .......... .......... .......... .......... .......... 89%  161M 0s\n",
            " 81350K .......... .......... .......... .......... .......... 89%  145M 0s\n",
            " 81400K .......... .......... .......... .......... .......... 89%  182M 0s\n",
            " 81450K .......... .......... .......... .......... .......... 89%  192M 0s\n",
            " 81500K .......... .......... .......... .......... .......... 89%  175M 0s\n",
            " 81550K .......... .......... .......... .......... .......... 89%  137M 0s\n",
            " 81600K .......... .......... .......... .......... .......... 89%  162M 0s\n",
            " 81650K .......... .......... .......... .......... .......... 89%  153M 0s\n",
            " 81700K .......... .......... .......... .......... .......... 89%  186M 0s\n",
            " 81750K .......... .......... .......... .......... .......... 90%  162M 0s\n",
            " 81800K .......... .......... .......... .......... .......... 90%  179M 0s\n",
            " 81850K .......... .......... .......... .......... .......... 90%  154M 0s\n",
            " 81900K .......... .......... .......... .......... .......... 90%  175M 0s\n",
            " 81950K .......... .......... .......... .......... .......... 90%  130M 0s\n",
            " 82000K .......... .......... .......... .......... .......... 90%  168M 0s\n",
            " 82050K .......... .......... .......... .......... .......... 90%  158M 0s\n",
            " 82100K .......... .......... .......... .......... .......... 90%  165M 0s\n",
            " 82150K .......... .......... .......... .......... .......... 90%  149M 0s\n",
            " 82200K .......... .......... .......... .......... .......... 90% 38.9M 0s\n",
            " 82250K .......... .......... .......... .......... .......... 90%  151M 0s\n",
            " 82300K .......... .......... .......... .......... .......... 90%  184M 0s\n",
            " 82350K .......... .......... .......... .......... .......... 90%  161M 0s\n",
            " 82400K .......... .......... .......... .......... .......... 90%  190M 0s\n",
            " 82450K .......... .......... .......... .......... .......... 90%  159M 0s\n",
            " 82500K .......... .......... .......... .......... .......... 90%  177M 0s\n",
            " 82550K .......... .......... .......... .......... .......... 90%  173M 0s\n",
            " 82600K .......... .......... .......... .......... .......... 90%  183M 0s\n",
            " 82650K .......... .......... .......... .......... .......... 91%  194M 0s\n",
            " 82700K .......... .......... .......... .......... .......... 91%  187M 0s\n",
            " 82750K .......... .......... .......... .......... .......... 91%  157M 0s\n",
            " 82800K .......... .......... .......... .......... .......... 91%  181M 0s\n",
            " 82850K .......... .......... .......... .......... .......... 91%  190M 0s\n",
            " 82900K .......... .......... .......... .......... .......... 91%  190M 0s\n",
            " 82950K .......... .......... .......... .......... .......... 91%  136M 0s\n",
            " 83000K .......... .......... .......... .......... .......... 91%  170M 0s\n",
            " 83050K .......... .......... .......... .......... .......... 91%  151M 0s\n",
            " 83100K .......... .......... .......... .......... .......... 91%  169M 0s\n",
            " 83150K .......... .......... .......... .......... .......... 91%  146M 0s\n",
            " 83200K .......... .......... .......... .......... .......... 91%  191M 0s\n",
            " 83250K .......... .......... .......... .......... .......... 91%  192M 0s\n",
            " 83300K .......... .......... .......... .......... .......... 91%  132M 0s\n",
            " 83350K .......... .......... .......... .......... .......... 91%  123M 0s\n",
            " 83400K .......... .......... .......... .......... .......... 91%  179M 0s\n",
            " 83450K .......... .......... .......... .......... .......... 91%  180M 0s\n",
            " 83500K .......... .......... .......... .......... .......... 91%  189M 0s\n",
            " 83550K .......... .......... .......... .......... .......... 91%  148M 0s\n",
            " 83600K .......... .......... .......... .......... .......... 92%  150M 0s\n",
            " 83650K .......... .......... .......... .......... .......... 92%  158M 0s\n",
            " 83700K .......... .......... .......... .......... .......... 92%  146M 0s\n",
            " 83750K .......... .......... .......... .......... .......... 92%  139M 0s\n",
            " 83800K .......... .......... .......... .......... .......... 92%  186M 0s\n",
            " 83850K .......... .......... .......... .......... .......... 92%  151M 0s\n",
            " 83900K .......... .......... .......... .......... .......... 92%  163M 0s\n",
            " 83950K .......... .......... .......... .......... .......... 92%  124M 0s\n",
            " 84000K .......... .......... .......... .......... .......... 92%  157M 0s\n",
            " 84050K .......... .......... .......... .......... .......... 92%  194M 0s\n",
            " 84100K .......... .......... .......... .......... .......... 92%  164M 0s\n",
            " 84150K .......... .......... .......... .......... .......... 92%  163M 0s\n",
            " 84200K .......... .......... .......... .......... .......... 92%  172M 0s\n",
            " 84250K .......... .......... .......... .......... .......... 92% 33.1M 0s\n",
            " 84300K .......... .......... .......... .......... .......... 92%  143M 0s\n",
            " 84350K .......... .......... .......... .......... .......... 92%  132M 0s\n",
            " 84400K .......... .......... .......... .......... .......... 92%  155M 0s\n",
            " 84450K .......... .......... .......... .......... .......... 92%  177M 0s\n",
            " 84500K .......... .......... .......... .......... .......... 93%  185M 0s\n",
            " 84550K .......... .......... .......... .......... .......... 93%  164M 0s\n",
            " 84600K .......... .......... .......... .......... .......... 93%  188M 0s\n",
            " 84650K .......... .......... .......... .......... .......... 93%  185M 0s\n",
            " 84700K .......... .......... .......... .......... .......... 93%  163M 0s\n",
            " 84750K .......... .......... .......... .......... .......... 93%  138M 0s\n",
            " 84800K .......... .......... .......... .......... .......... 93%  174M 0s\n",
            " 84850K .......... .......... .......... .......... .......... 93%  186M 0s\n",
            " 84900K .......... .......... .......... .......... .......... 93%  182M 0s\n",
            " 84950K .......... .......... .......... .......... .......... 93%  174M 0s\n",
            " 85000K .......... .......... .......... .......... .......... 93%  186M 0s\n",
            " 85050K .......... .......... .......... .......... .......... 93%  178M 0s\n",
            " 85100K .......... .......... .......... .......... .......... 93%  158M 0s\n",
            " 85150K .......... .......... .......... .......... .......... 93%  144M 0s\n",
            " 85200K .......... .......... .......... .......... .......... 93%  185M 0s\n",
            " 85250K .......... .......... .......... .......... .......... 93%  181M 0s\n",
            " 85300K .......... .......... .......... .......... .......... 93%  193M 0s\n",
            " 85350K .......... .......... .......... .......... .......... 93%  161M 0s\n",
            " 85400K .......... .......... .......... .......... .......... 94%  187M 0s\n",
            " 85450K .......... .......... .......... .......... .......... 94%  168M 0s\n",
            " 85500K .......... .......... .......... .......... .......... 94%  197M 0s\n",
            " 85550K .......... .......... .......... .......... .......... 94%  156M 0s\n",
            " 85600K .......... .......... .......... .......... .......... 94%  172M 0s\n",
            " 85650K .......... .......... .......... .......... .......... 94%  193M 0s\n",
            " 85700K .......... .......... .......... .......... .......... 94%  194M 0s\n",
            " 85750K .......... .......... .......... .......... .......... 94%  155M 0s\n",
            " 85800K .......... .......... .......... .......... .......... 94%  182M 0s\n",
            " 85850K .......... .......... .......... .......... .......... 94%  180M 0s\n",
            " 85900K .......... .......... .......... .......... .......... 94%  186M 0s\n",
            " 85950K .......... .......... .......... .......... .......... 94%  150M 0s\n",
            " 86000K .......... .......... .......... .......... .......... 94%  188M 0s\n",
            " 86050K .......... .......... .......... .......... .......... 94%  193M 0s\n",
            " 86100K .......... .......... .......... .......... .......... 94%  165M 0s\n",
            " 86150K .......... .......... .......... .......... .......... 94%  144M 0s\n",
            " 86200K .......... .......... .......... .......... .......... 94%  188M 0s\n",
            " 86250K .......... .......... .......... .......... .......... 94%  179M 0s\n",
            " 86300K .......... .......... .......... .......... .......... 95% 42.9M 0s\n",
            " 86350K .......... .......... .......... .......... .......... 95%  143M 0s\n",
            " 86400K .......... .......... .......... .......... .......... 95%  191M 0s\n",
            " 86450K .......... .......... .......... .......... .......... 95%  192M 0s\n",
            " 86500K .......... .......... .......... .......... .......... 95%  195M 0s\n",
            " 86550K .......... .......... .......... .......... .......... 95%  163M 0s\n",
            " 86600K .......... .......... .......... .......... .......... 95%  194M 0s\n",
            " 86650K .......... .......... .......... .......... .......... 95%  189M 0s\n",
            " 86700K .......... .......... .......... .......... .......... 95%  184M 0s\n",
            " 86750K .......... .......... .......... .......... .......... 95%  158M 0s\n",
            " 86800K .......... .......... .......... .......... .......... 95%  194M 0s\n",
            " 86850K .......... .......... .......... .......... .......... 95%  187M 0s\n",
            " 86900K .......... .......... .......... .......... .......... 95%  184M 0s\n",
            " 86950K .......... .......... .......... .......... .......... 95%  172M 0s\n",
            " 87000K .......... .......... .......... .......... .......... 95%  153M 0s\n",
            " 87050K .......... .......... .......... .......... .......... 95%  189M 0s\n",
            " 87100K .......... .......... .......... .......... .......... 95%  178M 0s\n",
            " 87150K .......... .......... .......... .......... .......... 95%  158M 0s\n",
            " 87200K .......... .......... .......... .......... .......... 96%  188M 0s\n",
            " 87250K .......... .......... .......... .......... .......... 96%  185M 0s\n",
            " 87300K .......... .......... .......... .......... .......... 96%  197M 0s\n",
            " 87350K .......... .......... .......... .......... .......... 96%  176M 0s\n",
            " 87400K .......... .......... .......... .......... .......... 96%  190M 0s\n",
            " 87450K .......... .......... .......... .......... .......... 96%  192M 0s\n",
            " 87500K .......... .......... .......... .......... .......... 96%  314M 0s\n",
            " 87550K .......... .......... .......... .......... .......... 96%  269M 0s\n",
            " 87600K .......... .......... .......... .......... .......... 96%  253M 0s\n",
            " 87650K .......... .......... .......... .......... .......... 96%  250M 0s\n",
            " 87700K .......... .......... .......... .......... .......... 96%  300M 0s\n",
            " 87750K .......... .......... .......... .......... .......... 96%  129M 0s\n",
            " 87800K .......... .......... .......... .......... .......... 96% 6.99M 0s\n",
            " 87850K .......... .......... .......... .......... .......... 96%  125M 0s\n",
            " 87900K .......... .......... .......... .......... .......... 96%  111M 0s\n",
            " 87950K .......... .......... .......... .......... .......... 96% 69.4M 0s\n",
            " 88000K .......... .......... .......... .......... .......... 96%  120M 0s\n",
            " 88050K .......... .......... .......... .......... .......... 96%  133M 0s\n",
            " 88100K .......... .......... .......... .......... .......... 97%  105M 0s\n",
            " 88150K .......... .......... .......... .......... .......... 97%  109M 0s\n",
            " 88200K .......... .......... .......... .......... .......... 97%  133M 0s\n",
            " 88250K .......... .......... .......... .......... .......... 97%  118M 0s\n",
            " 88300K .......... .......... .......... .......... .......... 97%  127M 0s\n",
            " 88350K .......... .......... .......... .......... .......... 97% 35.7M 0s\n",
            " 88400K .......... .......... .......... .......... .......... 97%  123M 0s\n",
            " 88450K .......... .......... .......... .......... .......... 97%  138M 0s\n",
            " 88500K .......... .......... .......... .......... .......... 97%  120M 0s\n",
            " 88550K .......... .......... .......... .......... .......... 97%  138M 0s\n",
            " 88600K .......... .......... .......... .......... .......... 97%  182M 0s\n",
            " 88650K .......... .......... .......... .......... .......... 97%  187M 0s\n",
            " 88700K .......... .......... .......... .......... .......... 97%  195M 0s\n",
            " 88750K .......... .......... .......... .......... .......... 97%  160M 0s\n",
            " 88800K .......... .......... .......... .......... .......... 97%  198M 0s\n",
            " 88850K .......... .......... .......... .......... .......... 97%  183M 0s\n",
            " 88900K .......... .......... .......... .......... .......... 97%  166M 0s\n",
            " 88950K .......... .......... .......... .......... .......... 97%  169M 0s\n",
            " 89000K .......... .......... .......... .......... .......... 97%  164M 0s\n",
            " 89050K .......... .......... .......... .......... .......... 98%  197M 0s\n",
            " 89100K .......... .......... .......... .......... .......... 98%  190M 0s\n",
            " 89150K .......... .......... .......... .......... .......... 98%  164M 0s\n",
            " 89200K .......... .......... .......... .......... .......... 98%  185M 0s\n",
            " 89250K .......... .......... .......... .......... .......... 98%  193M 0s\n",
            " 89300K .......... .......... .......... .......... .......... 98%  188M 0s\n",
            " 89350K .......... .......... .......... .......... .......... 98%  118M 0s\n",
            " 89400K .......... .......... .......... .......... .......... 98%  196M 0s\n",
            " 89450K .......... .......... .......... .......... .......... 98%  189M 0s\n",
            " 89500K .......... .......... .......... .......... .......... 98%  196M 0s\n",
            " 89550K .......... .......... .......... .......... .......... 98%  155M 0s\n",
            " 89600K .......... .......... .......... .......... .......... 98%  191M 0s\n",
            " 89650K .......... .......... .......... .......... .......... 98%  184M 0s\n",
            " 89700K .......... .......... .......... .......... .......... 98%  196M 0s\n",
            " 89750K .......... .......... .......... .......... .......... 98%  167M 0s\n",
            " 89800K .......... .......... .......... .......... .......... 98%  180M 0s\n",
            " 89850K .......... .......... .......... .......... .......... 98%  197M 0s\n",
            " 89900K .......... .......... .......... .......... .......... 98%  186M 0s\n",
            " 89950K .......... .......... .......... .......... .......... 99%  161M 0s\n",
            " 90000K .......... .......... .......... .......... .......... 99%  194M 0s\n",
            " 90050K .......... .......... .......... .......... .......... 99%  198M 0s\n",
            " 90100K .......... .......... .......... .......... .......... 99%  181M 0s\n",
            " 90150K .......... .......... .......... .......... .......... 99% 19.3M 0s\n",
            " 90200K .......... .......... .......... .......... .......... 99%  106M 0s\n",
            " 90250K .......... .......... .......... .......... .......... 99%  139M 0s\n",
            " 90300K .......... .......... .......... .......... .......... 99%  149M 0s\n",
            " 90350K .......... .......... .......... .......... .......... 99%  145M 0s\n",
            " 90400K .......... .......... .......... .......... .......... 99% 45.7M 0s\n",
            " 90450K .......... .......... .......... .......... .......... 99% 17.2M 0s\n",
            " 90500K .......... .......... .......... .......... .......... 99%  177M 0s\n",
            " 90550K .......... .......... .......... .......... .......... 99% 12.5M 0s\n",
            " 90600K .......... .......... .......... .......... .......... 99%  143M 0s\n",
            " 90650K .......... .......... .......... .......... .......... 99%  196M 0s\n",
            " 90700K .......... .......... .......... .......... .......... 99% 13.1M 0s\n",
            " 90750K .......... .......... .......... .......... .......... 99%  119M 0s\n",
            " 90800K .......... .......... .......... .......... .......... 99%  174M 0s\n",
            " 90850K .......... .......... .                               100%  177M=0.8s\n",
            "\n",
            "2020-11-23 01:18:29 (110 MB/s) - ‘Miniconda3-latest-Linux-x86_64.sh’ saved [93052469/93052469]\n",
            "\n",
            "\r  0%|          | 0/35 [00:00<?, ?it/s]\rExtracting : sqlite-3.31.1-h62c20be_1.conda:   0%|          | 0/35 [00:00<?, ?it/s]\rExtracting : sqlite-3.31.1-h62c20be_1.conda:   3%|▎         | 1/35 [00:00<00:06,  5.31it/s]\rExtracting : conda-package-handling-1.6.1-py38h7b6447c_0.conda:   3%|▎         | 1/35 [00:00<00:06,  5.31it/s]\rExtracting : libgcc-ng-9.1.0-hdf63c60_0.conda:   6%|▌         | 2/35 [00:00<00:06,  5.31it/s]                 \rExtracting : libgcc-ng-9.1.0-hdf63c60_0.conda:   9%|▊         | 3/35 [00:00<00:04,  6.56it/s]\rExtracting : libedit-3.1.20181209-hc058e9b_0.conda:   9%|▊         | 3/35 [00:00<00:04,  6.56it/s]\rExtracting : readline-8.0-h7b6447c_0.conda:  11%|█▏        | 4/35 [00:00<00:04,  6.56it/s]        \rExtracting : cffi-1.14.0-py38he30daa8_1.conda:  14%|█▍        | 5/35 [00:00<00:04,  6.56it/s]\rExtracting : pysocks-1.7.1-py38_0.conda:  17%|█▋        | 6/35 [00:00<00:04,  6.56it/s]      \rExtracting : xz-5.2.5-h7b6447c_0.conda:  20%|██        | 7/35 [00:00<00:04,  6.56it/s] \rExtracting : tk-8.6.8-hbc83047_0.conda:  23%|██▎       | 8/35 [00:00<00:04,  6.56it/s]\rExtracting : tk-8.6.8-hbc83047_0.conda:  26%|██▌       | 9/35 [00:00<00:03,  7.80it/s]\rExtracting : pip-20.0.2-py38_3.conda:  26%|██▌       | 9/35 [00:00<00:03,  7.80it/s]  \rExtracting : pycparser-2.20-py_0.conda:  29%|██▊       | 10/35 [00:00<00:03,  7.80it/s]\rExtracting : certifi-2020.4.5.1-py38_0.conda:  31%|███▏      | 11/35 [00:00<00:03,  7.80it/s]\rExtracting : ld_impl_linux-64-2.33.1-h53a641e_7.conda:  34%|███▍      | 12/35 [00:00<00:02,  7.80it/s]\rExtracting : six-1.14.0-py38_0.conda:  37%|███▋      | 13/35 [00:00<00:02,  7.80it/s]                 \rExtracting : libffi-3.3-he6710b0_1.conda:  40%|████      | 14/35 [00:00<00:02,  7.80it/s]\rExtracting : openssl-1.1.1g-h7b6447c_0.conda:  43%|████▎     | 15/35 [00:00<00:02,  7.80it/s]\rExtracting : openssl-1.1.1g-h7b6447c_0.conda:  46%|████▌     | 16/35 [00:00<00:01, 10.30it/s]\rExtracting : cryptography-2.9.2-py38h1ba5d50_0.conda:  46%|████▌     | 16/35 [00:00<00:01, 10.30it/s]\rExtracting : ruamel_yaml-0.15.87-py38h7b6447c_0.conda:  49%|████▊     | 17/35 [00:00<00:01, 10.30it/s]\rExtracting : pyopenssl-19.1.0-py38_0.conda:  51%|█████▏    | 18/35 [00:00<00:01, 10.30it/s]           \rExtracting : _libgcc_mutex-0.1-main.conda:  54%|█████▍    | 19/35 [00:01<00:01, 10.30it/s] \rExtracting : _libgcc_mutex-0.1-main.conda:  57%|█████▋    | 20/35 [00:01<00:01, 12.92it/s]\rExtracting : idna-2.9-py_1.conda:  57%|█████▋    | 20/35 [00:01<00:01, 12.92it/s]         \rExtracting : ncurses-6.2-he6710b0_1.conda:  60%|██████    | 21/35 [00:01<00:01, 12.92it/s]\rExtracting : ca-certificates-2020.1.1-0.conda:  63%|██████▎   | 22/35 [00:01<00:01, 12.92it/s]\rExtracting : ca-certificates-2020.1.1-0.conda:  66%|██████▌   | 23/35 [00:01<00:00, 15.42it/s]\rExtracting : urllib3-1.25.8-py38_0.conda:  66%|██████▌   | 23/35 [00:01<00:00, 15.42it/s]     \rExtracting : zlib-1.2.11-h7b6447c_3.conda:  69%|██████▊   | 24/35 [00:01<00:00, 15.42it/s]\rExtracting : libstdcxx-ng-9.1.0-hdf63c60_0.conda:  71%|███████▏  | 25/35 [00:01<00:00, 15.42it/s]\rExtracting : libstdcxx-ng-9.1.0-hdf63c60_0.conda:  74%|███████▍  | 26/35 [00:01<00:00, 15.07it/s]\rExtracting : python-3.8.3-hcff3b4d_0.conda:  74%|███████▍  | 26/35 [00:02<00:00, 15.07it/s]      \rExtracting : pycosat-0.6.3-py38h7b6447c_1.conda:  77%|███████▋  | 27/35 [00:02<00:00, 15.07it/s]\rExtracting : yaml-0.1.7-had09818_2.conda:  80%|████████  | 28/35 [00:02<00:00, 15.07it/s]       \rExtracting : yaml-0.1.7-had09818_2.conda:  83%|████████▎ | 29/35 [00:02<00:00,  6.58it/s]\rExtracting : wheel-0.34.2-py38_0.conda:  83%|████████▎ | 29/35 [00:02<00:00,  6.58it/s]  \rExtracting : requests-2.23.0-py38_0.conda:  86%|████████▌ | 30/35 [00:02<00:00,  6.58it/s]\rExtracting : tqdm-4.46.0-py_0.conda:  89%|████████▊ | 31/35 [00:02<00:00,  6.58it/s]      \rExtracting : chardet-3.0.4-py38_1003.conda:  91%|█████████▏| 32/35 [00:02<00:00,  6.58it/s]\rExtracting : setuptools-46.4.0-py38_0.conda:  94%|█████████▍| 33/35 [00:02<00:00,  6.58it/s]\rExtracting : conda-4.8.3-py38_0.tar.bz2:  97%|█████████▋| 34/35 [00:02<00:00,  6.58it/s]    \rExtracting : conda-4.8.3-py38_0.tar.bz2: 100%|██████████| 35/35 [00:02<00:00,  8.59it/s]\r                                                                                        \r"
          ],
          "name": "stderr"
        }
      ]
    },
    {
      "cell_type": "markdown",
      "metadata": {
        "id": "jQyFL3ahsq7b"
      },
      "source": [
        "# **WHAT WILL YOU LEARN ?**\n",
        "### **Goal**\n",
        "In this training session, you`re going to create your own graph representation of chemicals from stratch.\n",
        "### **Learning Objectives**\n",
        "1. Basic Graph Construction from stratch\n",
        "2. Compound to Graph Representation from stratch"
      ]
    },
    {
      "cell_type": "markdown",
      "metadata": {
        "id": "zYDicFlktHnX"
      },
      "source": [
        "\n",
        "<p align=\"center\">\n",
        "  <img src='https://drive.google.com/uc?id=1D1n_XNCGPlsx2ueh3Ubuh5OCG1HbV66V' />\n",
        "</p>\n"
      ]
    },
    {
      "cell_type": "markdown",
      "metadata": {
        "id": "5KL1VL0OyF5F"
      },
      "source": [
        "[Figure 1: Learning Objectives ](https://training.hermee.dev/#/1)"
      ]
    },
    {
      "cell_type": "markdown",
      "metadata": {
        "id": "aJg1LQSKr3bE"
      },
      "source": [
        "## COLAB LIBRARY SETTING\n",
        "<details>\n",
        "<summary>\n",
        "<font size=\"3\" color=\"green\">\n",
        "<b>Optional hint for <code><font size=\"4\">colab python path</font></code></b>\n",
        "</font>\n",
        "</summary>\n",
        "\n",
        "1. System python path: '/usr/local/lib/python3.6/dist-packages/' (every packages installed by using '*pip install*' will be installed here )\n",
        "2. Conda python path: '/usr/local/lib/python3.7/site-packages/' (every packages installed by using '*conda install*' will be installed here)"
      ]
    },
    {
      "cell_type": "code",
      "metadata": {
        "colab": {
          "base_uri": "https://localhost:8080/"
        },
        "id": "qiXbObeCr_i6",
        "outputId": "0a46ae0a-9c6d-40c7-c585-a210a8325265"
      },
      "source": [
        "import sys\n",
        "sys.path"
      ],
      "execution_count": null,
      "outputs": [
        {
          "output_type": "execute_result",
          "data": {
            "text/plain": [
              "['',\n",
              " '/env/python',\n",
              " '/usr/lib/python36.zip',\n",
              " '/usr/lib/python3.6',\n",
              " '/usr/lib/python3.6/lib-dynload',\n",
              " '/usr/local/lib/python3.6/dist-packages',\n",
              " '/usr/lib/python3/dist-packages',\n",
              " '/usr/local/lib/python3.6/dist-packages/IPython/extensions',\n",
              " '/root/.ipython']"
            ]
          },
          "metadata": {
            "tags": []
          },
          "execution_count": 5
        }
      ]
    },
    {
      "cell_type": "code",
      "metadata": {
        "id": "60r_LeSkxZHm"
      },
      "source": [
        "import sys\n",
        "sys.path.append('/usr/local/lib/python3.7/site-packages/')\n",
        "!export DGLBACKEND=pytorch"
      ],
      "execution_count": null,
      "outputs": []
    },
    {
      "cell_type": "code",
      "metadata": {
        "colab": {
          "base_uri": "https://localhost:8080/"
        },
        "id": "o0q3egYOxf0O",
        "outputId": "1d96555e-e0e8-4e1c-ce47-ceaa676c32d3"
      },
      "source": [
        "import torch\n",
        "import dgl\n",
        "import dgllife\n",
        "import rdkit\n",
        "\n",
        "print(f'Pytorch version: {torch.__version__}')\n",
        "print(f'DGL version: {dgl.__version__}')\n",
        "print(f'DGLlife version: {dgllife.__version__}')\n",
        "print(f'RDKIT version: {rdkit.__version__}')"
      ],
      "execution_count": null,
      "outputs": [
        {
          "output_type": "stream",
          "text": [
            "DGL backend not selected or invalid.  Assuming PyTorch for now.\n",
            "Using backend: pytorch\n"
          ],
          "name": "stderr"
        },
        {
          "output_type": "stream",
          "text": [
            "Setting the default backend to \"pytorch\". You can change it in the ~/.dgl/config.json file or export the DGLBACKEND environment variable.  Valid options are: pytorch, mxnet, tensorflow (all lowercase)\n",
            "Pytorch version: 1.7.0+cu101\n",
            "DGL version: 0.5.2\n",
            "DGLlife version: 0.2.6\n",
            "RDKIT version: 2020.09.1\n"
          ],
          "name": "stdout"
        }
      ]
    },
    {
      "cell_type": "markdown",
      "metadata": {
        "id": "87qEf34eIwMA"
      },
      "source": [
        "#**1. Building Graph from Stratch (basic content)**\n",
        "\n"
      ]
    },
    {
      "cell_type": "markdown",
      "metadata": {
        "id": "-v4-Qi86orNS"
      },
      "source": [
        "## **1.1 Getting Started**\n"
      ]
    },
    {
      "cell_type": "markdown",
      "metadata": {
        "id": "0hgrMLPQ7Y0U"
      },
      "source": [
        "**Learning Objectives**\n",
        "\n",
        "You will begin by constructing graph from stratch and by using some useful packages (networkx, dgl). The example graph will help you create your graph. You are alos provided a vizualizer to help visualize the graph.\n",
        "* Building graph from stratch\n",
        "* Building graph using libraries (networkx, dgl)\n",
        "* Visualization\n",
        "\n",
        "---\n",
        "\n",
        "**A Graph**\n",
        "* Graph ($\\mathcal{G}$) is a type of data structure that models set of objects (nodes - $\\mathcal{V}$) and their relationships (edges - $\\mathcal{E}$)\n",
        "\n",
        "\\begin{align}\n",
        "\\mathcal{G} = (\\mathcal{V}, \\mathcal{E}),  \\text{where } \\mathcal{V}\\in  \\text{a set of vertices },  \\mathcal{E} \\subseteq (\\mathcal{u},\\mathcal{v}) \\tag{1}\n",
        "\\end{align}"
      ]
    },
    {
      "cell_type": "markdown",
      "metadata": {
        "id": "TikR_6zs1F9f"
      },
      "source": [
        "\n",
        "<!-- ![picture]() -->\n",
        "<p align=\"center\">\n",
        "  <img src='https://drive.google.com/uc?id=1diQ-q8gl5w8X-GtzQhIs5xVxPjhfhh6R' />\n",
        "</p>\n",
        "\n",
        "---\n",
        "**The Example Graph**\n",
        "* Nodes: {A, B, C, D, E, F, G}\n",
        "* Indices: {0, 1, 2, 3, 4, 5, 6}\n",
        "* Edges: [(0, 1), (1, 2), (1, 3), (1, 4),  (2, 5), (5, 6), (6, 3)]\n",
        "\n",
        "---\n",
        "\n",
        "Python has no built-in data type or class for graphs, but it is easy to implement them in Python. list and dictionary are ideal for representing graphs in Python.\n",
        "    \n",
        "\n",
        "1.   Graph Construction Using List Objects\n",
        "2.   Graph Construction Using Dictionary Objects\n",
        "\n"
      ]
    },
    {
      "cell_type": "markdown",
      "metadata": {
        "id": "NVZsvKc-29HN"
      },
      "source": [
        "## **1.2 Graph Construction Using List Objects**\n",
        "\n",
        "\n",
        "\n",
        "\n",
        "\n"
      ]
    },
    {
      "cell_type": "markdown",
      "metadata": {
        "id": "7hfVAl8_8vQA"
      },
      "source": [
        "To define graph from python list:\n",
        "\n",
        "1. Define nodes names\n",
        "2. Define indices list \n",
        "3. Define edge list\n",
        "4. Create First Graph Class\n",
        "\n",
        "<details>\n",
        "<summary>\n",
        "<font size=\"3\" color=\"green\">\n",
        "<b>Optional Hint for <code><font size=\"4\">node indices</font></code></b>\n",
        "</font>\n",
        "</summary>\n",
        "\n",
        "* Node indices usually used to represent node\n",
        "</details>"
      ]
    },
    {
      "cell_type": "code",
      "metadata": {
        "colab": {
          "base_uri": "https://localhost:8080/"
        },
        "id": "TaIKKCLM4w7x",
        "outputId": "b79be9f2-a99e-4dfd-f9b8-a578b7b3db0e"
      },
      "source": [
        "# nodes\n",
        "node_names = ['A', 'B', 'C', 'D', 'E', 'F', 'G']\n",
        "\n",
        "# node indices to represent nodes\n",
        "nodes = []\n",
        "\n",
        "for index, name in enumerate(node_names):\n",
        "    node_indices.append(index)\n",
        "    print(f'{index}: {name}')"
      ],
      "execution_count": null,
      "outputs": [
        {
          "output_type": "stream",
          "text": [
            "0: A\n",
            "1: B\n",
            "2: C\n",
            "3: D\n",
            "4: E\n",
            "5: F\n",
            "6: G\n"
          ],
          "name": "stdout"
        }
      ]
    },
    {
      "cell_type": "code",
      "metadata": {
        "colab": {
          "base_uri": "https://localhost:8080/"
        },
        "id": "xSwI7pEU9Mzc",
        "outputId": "a0dcbdaa-490b-4ba8-e134-e101178d52a3"
      },
      "source": [
        "nodes"
      ],
      "execution_count": null,
      "outputs": [
        {
          "output_type": "execute_result",
          "data": {
            "text/plain": [
              "[0, 1, 2, 3, 4, 5, 6]"
            ]
          },
          "metadata": {
            "tags": []
          },
          "execution_count": 19
        }
      ]
    },
    {
      "cell_type": "code",
      "metadata": {
        "id": "wMuI9geg9QwV"
      },
      "source": [
        "# edges \n",
        "edges = [(0, 1), \n",
        "         (1, 2), (1, 3), (1, 4), \n",
        "         (2, 5),\n",
        "         (5, 6),\n",
        "         (6, 3)\n",
        "        ]"
      ],
      "execution_count": null,
      "outputs": []
    },
    {
      "cell_type": "code",
      "metadata": {
        "colab": {
          "base_uri": "https://localhost:8080/"
        },
        "id": "Y5yscFg59a4L",
        "outputId": "adaf5c3f-41f9-4040-cd50-fd541a677e46"
      },
      "source": [
        "edges"
      ],
      "execution_count": null,
      "outputs": [
        {
          "output_type": "execute_result",
          "data": {
            "text/plain": [
              "[(0, 1), (1, 2), (1, 3), (1, 4), (2, 5), (5, 6), (6, 3)]"
            ]
          },
          "metadata": {
            "tags": []
          },
          "execution_count": 21
        }
      ]
    },
    {
      "cell_type": "markdown",
      "metadata": {
        "id": "y1vZEysU9fw1"
      },
      "source": [
        "**Getting Started**\n",
        "---\n",
        "Let`s define a graph object from list\n",
        "*   Graph class with 2 input parameters\n",
        "*   Nodes: represents node indices (type: python list)\n",
        "*   Edges: represents edges (type: python list)\n",
        "\n",
        "---\n",
        "<details>\n",
        "<summary>\n",
        "<font size=\"3\" color=\"green\">\n",
        "<b>Optional hints for python <code><font size=\"4\">dataclass</font></code></b>\n",
        "</font>\n",
        "</summary>\n",
        "\n",
        "1. A data class is a class typically containing mainly data (**starting from python 3.7**). It is created using the new @dataclass decorator.\n",
        "2. It simplifies the process of creating classes (less coding)\n",
        "2. See python dataclasses [here](https://docs.python.org/3/library/dataclasses.html)\n",
        "</details>"
      ]
    },
    {
      "cell_type": "code",
      "metadata": {
        "id": "YLBc4xMR49xV"
      },
      "source": [
        "# lets define simple graph class\n",
        "# simple graph class\n",
        "from dataclasses import dataclass\n",
        "from typing import Any, List\n",
        "\n",
        "\n",
        "@dataclass\n",
        "class Graph:\n",
        "    \"\"\"\"\n",
        "    Simple graph object\n",
        "\n",
        "    Parameters\n",
        "    ----------\n",
        "    nodes: List\n",
        "        Nodes of graph\n",
        "    edges: List \n",
        "        Edges of graph\n",
        "    \"\"\"\n",
        "\n",
        "    nodes: List=None\n",
        "    edges: List=None \n",
        "\n",
        "    def num_nodes(self) -> int:\n",
        "        # getting the number of nodes\n",
        "        return len(nodes)\n",
        "\n",
        "    def num_edges(self) -> int:\n",
        "        # getting the number of edges\n",
        "        return len(edges)\n",
        "\n",
        "    def info(self) -> None:\n",
        "        # displaying the graph we have defined\n",
        "        print(f\"# of nodes: {self.num_nodes()}\\n# of edges: {self.num_edges()}\")\n",
        "\n",
        "    def to_nx(self) -> None:\n",
        "        NotImplemented\n",
        "\n",
        "    def to_dgl(self) -> None\n",
        "        NotImplemented\n",
        "\n",
        "    def your_function(self):\n",
        "        NotImplemented \n"
      ],
      "execution_count": null,
      "outputs": []
    },
    {
      "cell_type": "markdown",
      "metadata": {
        "id": "GzDFLMVa-OAF"
      },
      "source": [
        "<details>\n",
        "<summary>\n",
        "<font size=\"3\" color=\"green\">\n",
        "<b>Previously defined <code><font size=\"4\">nodes and edges</font></code></b>\n",
        "</font>\n",
        "</summary>\n",
        "\n",
        "1. nodes = [0,1,2,3,4,5,6]\n",
        "2. edges = [(0, 1), (1, 2), (1, 3), (1, 4), (2, 5), (5, 6), (6, 3)]\n",
        "</details>\n"
      ]
    },
    {
      "cell_type": "code",
      "metadata": {
        "colab": {
          "base_uri": "https://localhost:8080/"
        },
        "id": "ntDLKDJg-NVR",
        "outputId": "c176fc1a-add5-407f-de29-428fed130b44"
      },
      "source": [
        "# creating first graph instance\n",
        "my_graph.info()"
      ],
      "execution_count": null,
      "outputs": [
        {
          "output_type": "stream",
          "text": [
            "# of nodes: 7\n",
            "# of edges: 7\n"
          ],
          "name": "stdout"
        }
      ]
    },
    {
      "cell_type": "code",
      "metadata": {
        "colab": {
          "base_uri": "https://localhost:8080/"
        },
        "id": "R_kWLZU84h8z",
        "outputId": "d9de9d5e-878c-4607-9f31-5dafa269ead4"
      },
      "source": [
        "my_graph"
      ],
      "execution_count": null,
      "outputs": [
        {
          "output_type": "execute_result",
          "data": {
            "text/plain": [
              "Graph(nodes=[0, 1, 2, 3, 4, 5, 6], edges=[(0, 1), (1, 2), (1, 3), (1, 4), (2, 5), (5, 6), (6, 3)])"
            ]
          },
          "metadata": {
            "tags": []
          },
          "execution_count": 33
        }
      ]
    },
    {
      "cell_type": "markdown",
      "metadata": {
        "id": "iu-vDoKhpPgF"
      },
      "source": [
        "## **1.3 Graph Construction by Existing Libraries**\n",
        "---\n",
        "\n",
        "Two common libraries used by most data scientist\n",
        "* networkx (link: [Networkx website](https://networkx.org/))\n",
        "* dgl (link: [DGL website](https://docs.dgl.ai/en/latest/))"
      ]
    },
    {
      "cell_type": "markdown",
      "metadata": {
        "id": "CF98zFEXTCYl"
      },
      "source": [
        "### **1.3.1 Graph Construction by Networkx**\n",
        "\n",
        "---\n",
        "\n",
        "Networkx is good for graph visualization topological and linkage analysis.\n",
        "Creating graph in networkx:\n",
        "  \n",
        "\n",
        "1.   create network graph\n",
        "2.   add nodes from (list or scalar)\n",
        "3.   add edges from (list or scalar)\n",
        "\n"
      ]
    },
    {
      "cell_type": "code",
      "metadata": {
        "id": "fjx3W2iRTOAG"
      },
      "source": [
        "import networkx as nx\n",
        "\n",
        "# create empty networkx graph\n",
        "nx_g = nx.Graph()\n",
        "\n",
        "\n"
      ],
      "execution_count": null,
      "outputs": []
    },
    {
      "cell_type": "code",
      "metadata": {
        "colab": {
          "base_uri": "https://localhost:8080/"
        },
        "id": "9sHCG2ghY_KF",
        "outputId": "b747f948-5326-4654-bba9-711f28834800"
      },
      "source": [
        "nx_g"
      ],
      "execution_count": null,
      "outputs": [
        {
          "output_type": "execute_result",
          "data": {
            "text/plain": [
              "<networkx.classes.graph.Graph at 0x7fba670bf3c8>"
            ]
          },
          "metadata": {
            "tags": []
          },
          "execution_count": 37
        }
      ]
    },
    {
      "cell_type": "code",
      "metadata": {
        "id": "FGQnzYsAY-S6"
      },
      "source": [
        "\"\"\"\n",
        "  Let`s use previously defined nodes and edges\n",
        "  1. nodes = [0,1,2,3,4,5,6]\n",
        "  2. edges = [(0, 1), (1, 2), (1, 3), (1, 4), (2, 5), (5, 6), (6, 3)]\n",
        "\"\"\"\n",
        "\n",
        "nx_g.add_nodes_from(nodes)\n",
        "nx_g.add_edges_from(edges)"
      ],
      "execution_count": null,
      "outputs": []
    },
    {
      "cell_type": "code",
      "metadata": {
        "colab": {
          "base_uri": "https://localhost:8080/",
          "height": 35
        },
        "id": "X92LGS5OZZAz",
        "outputId": "7552e1da-6db9-4bab-deb6-202fbf787dd8"
      },
      "source": [
        "# graph information display\n",
        "nx.info(nx_g)\n"
      ],
      "execution_count": null,
      "outputs": [
        {
          "output_type": "execute_result",
          "data": {
            "application/vnd.google.colaboratory.intrinsic+json": {
              "type": "string"
            },
            "text/plain": [
              "'Name: \\nType: Graph\\nNumber of nodes: 7\\nNumber of edges: 7\\nAverage degree:   2.0000'"
            ]
          },
          "metadata": {
            "tags": []
          },
          "execution_count": 40
        }
      ]
    },
    {
      "cell_type": "markdown",
      "metadata": {
        "id": "07LFYtfxZ0A9"
      },
      "source": [
        "**Simple Visualization**"
      ]
    },
    {
      "cell_type": "code",
      "metadata": {
        "colab": {
          "base_uri": "https://localhost:8080/",
          "height": 248
        },
        "id": "8QowPFT5Zxql",
        "outputId": "2a71f64b-6bc7-4bc8-ee1e-c469969ef2ed"
      },
      "source": [
        "%matplotlib inline\n",
        "import matplotlib.pylab as plt\n",
        "\n",
        "# predefiend position coordinates for each nodes\n",
        "pos = {0: (10, 10), 1: (15, 10), 2: (15, 20), 3: (20, 10), 4: (15, 0), 5: (20, 27), 6: (23, 19)}\n",
        "nx.draw_networkx(nx_g, pos)"
      ],
      "execution_count": null,
      "outputs": [
        {
          "output_type": "display_data",
          "data": {
            "image/png": "[encoded data removed]",
            "text/plain": [
              "<Figure size 432x288 with 1 Axes>"
            ]
          },
          "metadata": {
            "tags": []
          }
        }
      ]
    },
    {
      "cell_type": "markdown",
      "metadata": {
        "id": "hkYK6gOmaHei"
      },
      "source": [
        "**Simple Linkage Analysis**\n",
        "\n",
        "\n",
        "*   PageRank\n",
        "\n",
        "\\begin{align}\n",
        "\\mathcal{r_j^{(n)}} = (1-\\alpha)\\times r_j^{(0)} + (\\alpha) \\times \\sum_{i=1}^{n} \\frac{w_{ij}\\times r_j^{(0)}}{deg_{i}} \\tag{2}\n",
        "\\end{align} \n",
        "\n",
        "\n",
        "\n"
      ]
    },
    {
      "cell_type": "markdown",
      "metadata": {
        "id": "cGBgKIkmcyP6"
      },
      "source": [
        ""
      ]
    },
    {
      "cell_type": "code",
      "metadata": {
        "colab": {
          "base_uri": "https://localhost:8080/"
        },
        "id": "ebdta9hVZiL4",
        "outputId": "f9f4c195-7a1a-4349-861c-8c7a2a800402"
      },
      "source": [
        "# simple page rank\n",
        "rank = nx.pagerank(nx_g, alpha=0.85)\n",
        "rank"
      ],
      "execution_count": null,
      "outputs": [
        {
          "output_type": "execute_result",
          "data": {
            "text/plain": [
              "{0: 0.08032364359176883,\n",
              " 1: 0.2771509285521139,\n",
              " 2: 0.14020466399977227,\n",
              " 3: 0.14020466399977227,\n",
              " 4: 0.08032364359176883,\n",
              " 5: 0.14089622813240193,\n",
              " 6: 0.14089622813240193}"
            ]
          },
          "metadata": {
            "tags": []
          },
          "execution_count": 68
        }
      ]
    },
    {
      "cell_type": "code",
      "metadata": {
        "colab": {
          "base_uri": "https://localhost:8080/"
        },
        "id": "THyW5E2TctvU",
        "outputId": "53563d67-10b6-4209-e262-596cf219032c"
      },
      "source": [
        "# sort ranking result \n",
        "sorted(rank.items(), key=lambda x: x[1], reverse=True)\n",
        "\n"
      ],
      "execution_count": null,
      "outputs": [
        {
          "output_type": "execute_result",
          "data": {
            "text/plain": [
              "[(1, 0.2771509285521139),\n",
              " (5, 0.14089622813240193),\n",
              " (6, 0.14089622813240193),\n",
              " (2, 0.14020466399977227),\n",
              " (3, 0.14020466399977227),\n",
              " (0, 0.08032364359176883),\n",
              " (4, 0.08032364359176883)]"
            ]
          },
          "metadata": {
            "tags": []
          },
          "execution_count": 69
        }
      ]
    },
    {
      "cell_type": "markdown",
      "metadata": {
        "id": "Q7MqqI1KdHIO"
      },
      "source": [
        ""
      ]
    },
    {
      "cell_type": "code",
      "metadata": {
        "colab": {
          "base_uri": "https://localhost:8080/"
        },
        "id": "O4x9z2mdZvcx",
        "outputId": "8ac5a300-e850-45ce-cd2a-4bafacc368d7"
      },
      "source": [
        "prior_knowledge = {6:1}\n",
        "\n",
        "# page rank with initial knowledge\n",
        "rank_personalized = nx.pagerank(nx_g, alpha=0.85, personalization=prior_knowledge)\n",
        "\n",
        "sorted(rank_personalized.items(), key=lambda x: x[1], reverse=True)"
      ],
      "execution_count": null,
      "outputs": [
        {
          "output_type": "execute_result",
          "data": {
            "text/plain": [
              "[(6, 0.29235427899433736),\n",
              " (1, 0.18300575739512334),\n",
              " (5, 0.17181184250643114),\n",
              " (3, 0.16314002293541047),\n",
              " (2, 0.11190948273802326),\n",
              " (0, 0.03888930771533725),\n",
              " (4, 0.03888930771533725)]"
            ]
          },
          "metadata": {
            "tags": []
          },
          "execution_count": 70
        }
      ]
    },
    {
      "cell_type": "markdown",
      "metadata": {
        "id": "e8l2Epnchwko"
      },
      "source": [
        "**Simple Topological Analysis**\n",
        "\n",
        "\n",
        "*   Degree centrality\n",
        "*   Betweenness etc.\n",
        "\n"
      ]
    },
    {
      "cell_type": "code",
      "metadata": {
        "colab": {
          "base_uri": "https://localhost:8080/"
        },
        "id": "g-AAQYrtgFlY",
        "outputId": "0a8e9871-a4a8-45d4-d179-dc3a351226ea"
      },
      "source": [
        "d_centrality = nx.degree_centrality(nx_g)\n",
        "sorted(d_centrality.items(), key=lambda x: x[1], reverse=True)"
      ],
      "execution_count": null,
      "outputs": [
        {
          "output_type": "execute_result",
          "data": {
            "text/plain": [
              "[(1, 0.6666666666666666),\n",
              " (2, 0.3333333333333333),\n",
              " (3, 0.3333333333333333),\n",
              " (5, 0.3333333333333333),\n",
              " (6, 0.3333333333333333),\n",
              " (0, 0.16666666666666666),\n",
              " (4, 0.16666666666666666)]"
            ]
          },
          "metadata": {
            "tags": []
          },
          "execution_count": 72
        }
      ]
    },
    {
      "cell_type": "markdown",
      "metadata": {
        "id": "UM79wdoKiaLH"
      },
      "source": [
        "### **1.3.2 Graph Visualization**\n",
        "**Visualization of Graph with Labels and Weighted Edges**\n",
        "\n",
        "1.   Define initial labels\n",
        "2.   Define some weights\n",
        "3.   Add labels and weights to graph\n",
        "4.   Visualize labels and weights\n",
        "\n",
        "\n",
        "\n",
        "<!-- ![picture]() -->\n",
        "<p align=\"center\">\n",
        "  <img src=\"https://drive.google.com/uc?id=1ret2wNIt11XZRAr-jtKXpTFnMahYUEqT\" />\n",
        "</p>\n"
      ]
    },
    {
      "cell_type": "code",
      "metadata": {
        "id": "cFJjASoriV36"
      },
      "source": [
        "# initial labeles \n",
        "initial_knowdledges = [1, 0, 0, 0, 0, -1, 0]\n",
        "# weights \n",
        "initial_weights = [0.4, 0.4, 0.4, 0.9, 0.1, 0.4, 0.1]\n"
      ],
      "execution_count": null,
      "outputs": []
    },
    {
      "cell_type": "code",
      "metadata": {
        "colab": {
          "base_uri": "https://localhost:8080/"
        },
        "id": "FeP7UsNei2Y6",
        "outputId": "ffb324aa-f696-4e61-a70e-b81c30c95df9"
      },
      "source": [
        "# let`s remember information about our graph\n",
        "nx_g.nodes(), nx_g.edges()"
      ],
      "execution_count": null,
      "outputs": [
        {
          "output_type": "execute_result",
          "data": {
            "text/plain": [
              "(NodeView((0, 1, 2, 3, 4, 5, 6)),\n",
              " EdgeView([(0, 1), (1, 2), (1, 3), (1, 4), (2, 5), (3, 6), (5, 6)]))"
            ]
          },
          "metadata": {
            "tags": []
          },
          "execution_count": 75
        }
      ]
    },
    {
      "cell_type": "code",
      "metadata": {
        "colab": {
          "base_uri": "https://localhost:8080/"
        },
        "id": "-OkPwihHj2v4",
        "outputId": "f052ec44-34a4-4030-fea5-580f477f3da0"
      },
      "source": [
        ""
      ],
      "execution_count": null,
      "outputs": [
        {
          "output_type": "execute_result",
          "data": {
            "text/plain": [
              "{}"
            ]
          },
          "metadata": {
            "tags": []
          },
          "execution_count": 81
        }
      ]
    },
    {
      "cell_type": "code",
      "metadata": {
        "id": "MevkOKARjCms"
      },
      "source": [
        "# assign initial nodel labels\n",
        "for (node,  init_h) in zip(nx_g.nodes(), initial_knowdledges):\n",
        "    nx_g.nodes[node]['h'] = init_h\n",
        "\n",
        "# assign initial nodel labels\n",
        "for edge, init_w in zip(nx_g.edges(), initial_weights):\n",
        "    nx_g.edges[edge]['weights'] = init_w"
      ],
      "execution_count": null,
      "outputs": []
    },
    {
      "cell_type": "code",
      "metadata": {
        "colab": {
          "base_uri": "https://localhost:8080/",
          "height": 331
        },
        "id": "m6rgQtwckMj5",
        "outputId": "fe7c59be-6799-4405-8064-b82daea28d1a"
      },
      "source": [
        "import nx_altair as nxa\n",
        "\n",
        "viz = nxa.draw_networkx(\n",
        "    nx_g, pos=pos,\n",
        "    node_color='h',\n",
        "    cmap='viridis',\n",
        "    width='weights',\n",
        "    edge_color='black',\n",
        ")\n",
        "\n",
        "viz.interactive()"
      ],
      "execution_count": null,
      "outputs": [
        {
          "output_type": "execute_result",
          "data": {
            "text/plain": [
              "alt.LayerChart(...)"
            ],
            "text/html": [
              "\n",
              "<div id=\"altair-viz-9bd6878b495d43d2ab04afd757c799fd\"></div>\n",
              "<script type=\"text/javascript\">\n",
              "  (function(spec, embedOpt){\n",
              "    let outputDiv = document.currentScript.previousElementSibling;\n",
              "    if (outputDiv.id !== \"altair-viz-9bd6878b495d43d2ab04afd757c799fd\") {\n",
              "      outputDiv = document.getElementById(\"altair-viz-9bd6878b495d43d2ab04afd757c799fd\");\n",
              "    }\n",
              "    const paths = {\n",
              "      \"vega\": \"https://cdn.jsdelivr.net/npm//vega@5?noext\",\n",
              "      \"vega-lib\": \"https://cdn.jsdelivr.net/npm//vega-lib?noext\",\n",
              "      \"vega-lite\": \"https://cdn.jsdelivr.net/npm//vega-lite@4.8.1?noext\",\n",
              "      \"vega-embed\": \"https://cdn.jsdelivr.net/npm//vega-embed@6?noext\",\n",
              "    };\n",
              "\n",
              "    function loadScript(lib) {\n",
              "      return new Promise(function(resolve, reject) {\n",
              "        var s = document.createElement('script');\n",
              "        s.src = paths[lib];\n",
              "        s.async = true;\n",
              "        s.onload = () => resolve(paths[lib]);\n",
              "        s.onerror = () => reject(`Error loading script: ${paths[lib]}`);\n",
              "        document.getElementsByTagName(\"head\")[0].appendChild(s);\n",
              "      });\n",
              "    }\n",
              "\n",
              "    function showError(err) {\n",
              "      outputDiv.innerHTML = `<div class=\"error\" style=\"color:red;\">${err}</div>`;\n",
              "      throw err;\n",
              "    }\n",
              "\n",
              "    function displayChart(vegaEmbed) {\n",
              "      vegaEmbed(outputDiv, spec, embedOpt)\n",
              "        .catch(err => showError(`Javascript Error: ${err.message}<br>This usually means there's a typo in your chart specification. See the javascript console for the full traceback.`));\n",
              "    }\n",
              "\n",
              "    if(typeof define === \"function\" && define.amd) {\n",
              "      requirejs.config({paths});\n",
              "      require([\"vega-embed\"], displayChart, err => showError(`Error loading script: ${err.message}`));\n",
              "    } else if (typeof vegaEmbed === \"function\") {\n",
              "      displayChart(vegaEmbed);\n",
              "    } else {\n",
              "      loadScript(\"vega\")\n",
              "        .then(() => loadScript(\"vega-lite\"))\n",
              "        .then(() => loadScript(\"vega-embed\"))\n",
              "        .catch(showError)\n",
              "        .then(() => displayChart(vegaEmbed));\n",
              "    }\n",
              "  })({\"config\": {\"view\": {\"continuousWidth\": 400, \"continuousHeight\": 300}}, \"layer\": [{\"data\": {\"name\": \"data-2764baf9c344498d4d7132f473c3ef70\"}, \"mark\": {\"type\": \"line\", \"color\": \"black\", \"opacity\": 1}, \"encoding\": {\"detail\": {\"type\": \"quantitative\", \"field\": \"edge\"}, \"size\": {\"type\": \"quantitative\", \"field\": \"weights\", \"legend\": null}, \"x\": {\"type\": \"quantitative\", \"axis\": {\"grid\": false, \"labels\": false, \"ticks\": false, \"title\": \"\"}, \"field\": \"x\"}, \"y\": {\"type\": \"quantitative\", \"axis\": {\"grid\": false, \"labels\": false, \"ticks\": false, \"title\": \"\"}, \"field\": \"y\"}}, \"selection\": {\"selector001\": {\"type\": \"interval\", \"bind\": \"scales\", \"encodings\": [\"x\", \"y\"]}}}, {\"data\": {\"name\": \"data-7c085e41a0ba696f971001950deb034f\"}, \"mark\": {\"type\": \"point\", \"opacity\": 1, \"size\": 300, \"strokeWidth\": 1.0}, \"encoding\": {\"fill\": {\"type\": \"quantitative\", \"field\": \"h\", \"scale\": {\"scheme\": \"viridis\"}}, \"x\": {\"type\": \"quantitative\", \"axis\": {\"grid\": false, \"labels\": false, \"ticks\": false}, \"field\": \"x\"}, \"y\": {\"type\": \"quantitative\", \"axis\": {\"grid\": false, \"labels\": false, \"ticks\": false}, \"field\": \"y\"}}}], \"$schema\": \"https://vega.github.io/schema/vega-lite/v4.8.1.json\", \"datasets\": {\"data-2764baf9c344498d4d7132f473c3ef70\": [{\"target\": 1, \"y\": 10, \"edge\": 0, \"weights\": 0.4, \"x\": 10, \"pair\": [0, 1], \"source\": 0}, {\"target\": 1, \"y\": 10, \"edge\": 0, \"weights\": 0.4, \"x\": 15, \"pair\": [0, 1], \"source\": 0}, {\"target\": 2, \"y\": 10, \"edge\": 1, \"weights\": 0.4, \"x\": 15, \"pair\": [1, 2], \"source\": 1}, {\"target\": 2, \"y\": 20, \"edge\": 1, \"weights\": 0.4, \"x\": 15, \"pair\": [1, 2], \"source\": 1}, {\"target\": 3, \"y\": 10, \"edge\": 2, \"weights\": 0.4, \"x\": 15, \"pair\": [1, 3], \"source\": 1}, {\"target\": 3, \"y\": 10, \"edge\": 2, \"weights\": 0.4, \"x\": 20, \"pair\": [1, 3], \"source\": 1}, {\"target\": 4, \"y\": 10, \"edge\": 3, \"weights\": 0.9, \"x\": 15, \"pair\": [1, 4], \"source\": 1}, {\"target\": 4, \"y\": 0, \"edge\": 3, \"weights\": 0.9, \"x\": 15, \"pair\": [1, 4], \"source\": 1}, {\"target\": 5, \"y\": 20, \"edge\": 4, \"weights\": 0.1, \"x\": 15, \"pair\": [2, 5], \"source\": 2}, {\"target\": 5, \"y\": 27, \"edge\": 4, \"weights\": 0.1, \"x\": 20, \"pair\": [2, 5], \"source\": 2}, {\"target\": 6, \"y\": 10, \"edge\": 5, \"weights\": 0.4, \"x\": 20, \"pair\": [3, 6], \"source\": 3}, {\"target\": 6, \"y\": 19, \"edge\": 5, \"weights\": 0.4, \"x\": 23, \"pair\": [3, 6], \"source\": 3}, {\"target\": 6, \"y\": 27, \"edge\": 6, \"weights\": 0.1, \"x\": 20, \"pair\": [5, 6], \"source\": 5}, {\"target\": 6, \"y\": 19, \"edge\": 6, \"weights\": 0.1, \"x\": 23, \"pair\": [5, 6], \"source\": 5}], \"data-7c085e41a0ba696f971001950deb034f\": [{\"y\": 10, \"x\": 10, \"h\": 1}, {\"y\": 10, \"x\": 15, \"h\": 0}, {\"y\": 20, \"x\": 15, \"h\": 0}, {\"y\": 10, \"x\": 20, \"h\": 0}, {\"y\": 0, \"x\": 15, \"h\": 0}, {\"y\": 27, \"x\": 20, \"h\": -1}, {\"y\": 19, \"x\": 23, \"h\": 0}]}}, {\"mode\": \"vega-lite\"});\n",
              "</script>"
            ]
          },
          "metadata": {
            "tags": []
          },
          "execution_count": 83
        }
      ]
    },
    {
      "cell_type": "markdown",
      "metadata": {
        "id": "2a7jH_Vxkia3"
      },
      "source": [
        "### **1.3.3 Graph Construction by DGL**\n",
        "DGL library mostly used for graph neural network\n",
        "---\n",
        " - pytorch, mxnet\n",
        " - GCN, GAT, GraphSage etc (~ over 30 graph paper models)\n",
        " - backed by amazon\n",
        "\n",
        "---\n",
        "\n"
      ]
    },
    {
      "cell_type": "markdown",
      "metadata": {
        "id": "-j4vqfUaq8N-"
      },
      "source": [
        "Let`s create simple dgl graph\n",
        "\n",
        "*   dgl represents each node by a unique number (index)\n",
        "*   dgl represents nodes with 1-D integer tensor (e.g: torch.tensor)\n",
        "*   edges are represented in a tuple of node-tensors (U, V)\n",
        "* edge from $U_i$ to $V_i$\n",
        "\n"
      ]
    },
    {
      "cell_type": "code",
      "metadata": {
        "colab": {
          "base_uri": "https://localhost:8080/"
        },
        "id": "otDot4Hyq7iK",
        "outputId": "db26d413-2217-44f5-ae42-f6716725b336"
      },
      "source": [
        "nodes = [0, 1, 2, 3, 4, 5, 6]\n",
        "edges = [(0, 1), (1, 2), (1, 3), (1, 4), (2, 5), (5, 6), (6, 3)]\n",
        "nodes, edges"
      ],
      "execution_count": null,
      "outputs": [
        {
          "output_type": "execute_result",
          "data": {
            "text/plain": [
              "([0, 1, 2, 3, 4, 5, 6],\n",
              " [(0, 1), (1, 2), (1, 3), (1, 4), (2, 5), (5, 6), (6, 3)])"
            ]
          },
          "metadata": {
            "tags": []
          },
          "execution_count": 87
        }
      ]
    },
    {
      "cell_type": "markdown",
      "metadata": {
        "id": "xYx6axo0tRHH"
      },
      "source": [
        "Example Graph\n",
        "<!-- ![picture]() -->\n",
        "<p align=\"center\">\n",
        "  <img src='https://drive.google.com/uc?id=13C_XlRls-pczgxqyrS_eodxS6R9kcH-W' />\n",
        "</p>\n",
        "\n"
      ]
    },
    {
      "cell_type": "code",
      "metadata": {
        "colab": {
          "base_uri": "https://localhost:8080/"
        },
        "id": "Wi4khGowsts5",
        "outputId": "7cc6bc95-e4a7-4c78-f3d0-527e21993489"
      },
      "source": [
        "u = []\n",
        "v = []\n",
        "\n",
        "for edge in edges:\n",
        "    u.append(edge[0])\n",
        "    v.append(edge[1])\n",
        "\n",
        "print(f'U: {u}')\n",
        "print(f'V: {v}')"
      ],
      "execution_count": null,
      "outputs": [
        {
          "output_type": "stream",
          "text": [
            "U: [0, 1, 1, 1, 2, 5, 6]\n",
            "V: [1, 2, 3, 4, 5, 6, 3]\n"
          ],
          "name": "stdout"
        }
      ]
    },
    {
      "cell_type": "markdown",
      "metadata": {
        "id": "_JzIe29Kuy46"
      },
      "source": [
        "\n",
        "DGL is good for graph deep learning (>30 paper methods) and has better node and edge feature representation.\n",
        "Creating graph in dgl:\n",
        "  \n",
        "\n",
        "1.   creating dgl graph from edge tuples (u, v)\n",
        "2.   creating dgl graph from networkx \n",
        "\n",
        "\n"
      ]
    },
    {
      "cell_type": "code",
      "metadata": {
        "id": "PJTxGAxpuyLV"
      },
      "source": [
        "import dgl \n",
        "import torch\n",
        "\n",
        "# creating from edge tuples\n",
        "dgl_g = dgl.graph((u, v))\n"
      ],
      "execution_count": null,
      "outputs": []
    },
    {
      "cell_type": "code",
      "metadata": {
        "colab": {
          "base_uri": "https://localhost:8080/"
        },
        "id": "fQAqD_LJtXLU",
        "outputId": "a16a871e-66bb-41ea-936c-95982b65033d"
      },
      "source": [
        "dgl_g"
      ],
      "execution_count": null,
      "outputs": [
        {
          "output_type": "execute_result",
          "data": {
            "text/plain": [
              "Graph(num_nodes=7, num_edges=7,\n",
              "      ndata_schemes={}\n",
              "      edata_schemes={})"
            ]
          },
          "metadata": {
            "tags": []
          },
          "execution_count": 91
        }
      ]
    },
    {
      "cell_type": "code",
      "metadata": {
        "colab": {
          "base_uri": "https://localhost:8080/"
        },
        "id": "7xvBAkDmv_kf",
        "outputId": "412d04d5-4e90-4129-bc98-22d61a88fe5b"
      },
      "source": [
        "# creating from networkx\n",
        "\n",
        "dgl_from_nx = dgl.from_networkx(nx_g)\n",
        "dgl_from_nx"
      ],
      "execution_count": null,
      "outputs": [
        {
          "output_type": "execute_result",
          "data": {
            "text/plain": [
              "Graph(num_nodes=7, num_edges=14,\n",
              "      ndata_schemes={}\n",
              "      edata_schemes={})"
            ]
          },
          "metadata": {
            "tags": []
          },
          "execution_count": 92
        }
      ]
    },
    {
      "cell_type": "markdown",
      "metadata": {
        "id": "3Gdov3QivvZi"
      },
      "source": [
        "**Node and Edge Features**\n",
        "* DGLGraph has several used defined named features for storing graph-specific properties of **nodes** and **edges**\n",
        "* Node and edge features can be accessed via the <font color='red'>ndata</font> and <font color='red'>edata</font> interface.\n",
        "* <font color='red'>ndata</font>: node features\n",
        "* <font color='red'>edata</font>: edge features\n",
        "\n",
        "---\n",
        "<details>\n",
        "<summary>\n",
        "<font size=\"3\" color=\"green\">\n",
        "<b>Optional hint for <code><font size=\"4\">dgl features</font></code></b>\n",
        "</font>\n",
        "</summary>\n",
        "1. <font color='red'>DGL only accepts features in numerical types </font>\n",
        "</details>"
      ]
    },
    {
      "cell_type": "markdown",
      "metadata": {
        "id": "8wYTy_wPvyFg"
      },
      "source": [
        "<!-- ![picture]() -->\n",
        "<p align=\"center\">\n",
        "  <img src=\"https://drive.google.com/uc?id=1-XJPrpPIUdtgZcFoRdCp_S90tkpS0249\" />\n",
        "</p>"
      ]
    },
    {
      "cell_type": "markdown",
      "metadata": {
        "id": "YTA883HaxqZl"
      },
      "source": [
        "Let`s create toy set problem\n",
        "\n",
        "\n",
        "1.   lets assume each node represent a person \n",
        "2.   Each person has own features (e.g: ages, heights, weights) etc)\n",
        "3.   Each person have its own class label (e.g: basket player or not)\n",
        "4.   Let`s assume they have imaginary relationship defined by some weight\n",
        "\n"
      ]
    },
    {
      "cell_type": "code",
      "metadata": {
        "id": "HyrzXe7ZxibV"
      },
      "source": [
        "import pandas as pd\n",
        "\n",
        "# node features (person features)\n",
        "ages = [40, 30, 20, 45, 40, 20, 34]\n",
        "heights = [165, 175, 170, 165, 175, 200, 190]\n",
        "labels = ['A', 'Unknown', 'Unknown', 'Unknown', 'Unknown', 'B', 'Unknown']\n",
        "\n",
        "\n",
        "# edge features (friendship )\n",
        "edge_weights = [0.4, 0.4, 0.4, 0.9, 0.1, 0.4, 0.1]\n",
        "\n",
        "# let`s create dataframe holds node informations\n",
        "node_df = pd.DataFrame(list(zip(nodes, ages, heights, labels)), columns=['id', 'age', 'heights', 'labels'])\n",
        "\n",
        "# let`s create datafram holds edge informations\n",
        "edge_df = pd.DataFrame(list(zip(u, v, edge_weights)), columns=['src', 'dst', 'weights'])\n"
      ],
      "execution_count": null,
      "outputs": []
    },
    {
      "cell_type": "code",
      "metadata": {
        "colab": {
          "base_uri": "https://localhost:8080/",
          "height": 266
        },
        "id": "3iNC02NuvxWd",
        "outputId": "89278da1-75fd-4066-b6c6-27e57ebe8686"
      },
      "source": [
        "node_df"
      ],
      "execution_count": null,
      "outputs": [
        {
          "output_type": "execute_result",
          "data": {
            "text/html": [
              "<div>\n",
              "<style scoped>\n",
              "    .dataframe tbody tr th:only-of-type {\n",
              "        vertical-align: middle;\n",
              "    }\n",
              "\n",
              "    .dataframe tbody tr th {\n",
              "        vertical-align: top;\n",
              "    }\n",
              "\n",
              "    .dataframe thead th {\n",
              "        text-align: right;\n",
              "    }\n",
              "</style>\n",
              "<table border=\"1\" class=\"dataframe\">\n",
              "  <thead>\n",
              "    <tr style=\"text-align: right;\">\n",
              "      <th></th>\n",
              "      <th>id</th>\n",
              "      <th>age</th>\n",
              "      <th>heights</th>\n",
              "      <th>labels</th>\n",
              "    </tr>\n",
              "  </thead>\n",
              "  <tbody>\n",
              "    <tr>\n",
              "      <th>0</th>\n",
              "      <td>0</td>\n",
              "      <td>40</td>\n",
              "      <td>165</td>\n",
              "      <td>A</td>\n",
              "    </tr>\n",
              "    <tr>\n",
              "      <th>1</th>\n",
              "      <td>1</td>\n",
              "      <td>30</td>\n",
              "      <td>175</td>\n",
              "      <td>Unknown</td>\n",
              "    </tr>\n",
              "    <tr>\n",
              "      <th>2</th>\n",
              "      <td>2</td>\n",
              "      <td>20</td>\n",
              "      <td>170</td>\n",
              "      <td>Unknown</td>\n",
              "    </tr>\n",
              "    <tr>\n",
              "      <th>3</th>\n",
              "      <td>3</td>\n",
              "      <td>45</td>\n",
              "      <td>165</td>\n",
              "      <td>Unknown</td>\n",
              "    </tr>\n",
              "    <tr>\n",
              "      <th>4</th>\n",
              "      <td>4</td>\n",
              "      <td>40</td>\n",
              "      <td>175</td>\n",
              "      <td>Unknown</td>\n",
              "    </tr>\n",
              "    <tr>\n",
              "      <th>5</th>\n",
              "      <td>5</td>\n",
              "      <td>20</td>\n",
              "      <td>200</td>\n",
              "      <td>B</td>\n",
              "    </tr>\n",
              "    <tr>\n",
              "      <th>6</th>\n",
              "      <td>6</td>\n",
              "      <td>34</td>\n",
              "      <td>190</td>\n",
              "      <td>Unknown</td>\n",
              "    </tr>\n",
              "  </tbody>\n",
              "</table>\n",
              "</div>"
            ],
            "text/plain": [
              "   id  age  heights   labels\n",
              "0   0   40      165        A\n",
              "1   1   30      175  Unknown\n",
              "2   2   20      170  Unknown\n",
              "3   3   45      165  Unknown\n",
              "4   4   40      175  Unknown\n",
              "5   5   20      200        B\n",
              "6   6   34      190  Unknown"
            ]
          },
          "metadata": {
            "tags": []
          },
          "execution_count": 96
        }
      ]
    },
    {
      "cell_type": "code",
      "metadata": {
        "colab": {
          "base_uri": "https://localhost:8080/",
          "height": 266
        },
        "id": "UGB9D9C8vutP",
        "outputId": "d48c1c32-76ab-42c8-8176-25577d3881a0"
      },
      "source": [
        "edge_df"
      ],
      "execution_count": null,
      "outputs": [
        {
          "output_type": "execute_result",
          "data": {
            "text/html": [
              "<div>\n",
              "<style scoped>\n",
              "    .dataframe tbody tr th:only-of-type {\n",
              "        vertical-align: middle;\n",
              "    }\n",
              "\n",
              "    .dataframe tbody tr th {\n",
              "        vertical-align: top;\n",
              "    }\n",
              "\n",
              "    .dataframe thead th {\n",
              "        text-align: right;\n",
              "    }\n",
              "</style>\n",
              "<table border=\"1\" class=\"dataframe\">\n",
              "  <thead>\n",
              "    <tr style=\"text-align: right;\">\n",
              "      <th></th>\n",
              "      <th>src</th>\n",
              "      <th>dst</th>\n",
              "      <th>weights</th>\n",
              "    </tr>\n",
              "  </thead>\n",
              "  <tbody>\n",
              "    <tr>\n",
              "      <th>0</th>\n",
              "      <td>0</td>\n",
              "      <td>1</td>\n",
              "      <td>0.4</td>\n",
              "    </tr>\n",
              "    <tr>\n",
              "      <th>1</th>\n",
              "      <td>1</td>\n",
              "      <td>2</td>\n",
              "      <td>0.4</td>\n",
              "    </tr>\n",
              "    <tr>\n",
              "      <th>2</th>\n",
              "      <td>1</td>\n",
              "      <td>3</td>\n",
              "      <td>0.4</td>\n",
              "    </tr>\n",
              "    <tr>\n",
              "      <th>3</th>\n",
              "      <td>1</td>\n",
              "      <td>4</td>\n",
              "      <td>0.9</td>\n",
              "    </tr>\n",
              "    <tr>\n",
              "      <th>4</th>\n",
              "      <td>2</td>\n",
              "      <td>5</td>\n",
              "      <td>0.1</td>\n",
              "    </tr>\n",
              "    <tr>\n",
              "      <th>5</th>\n",
              "      <td>5</td>\n",
              "      <td>6</td>\n",
              "      <td>0.4</td>\n",
              "    </tr>\n",
              "    <tr>\n",
              "      <th>6</th>\n",
              "      <td>6</td>\n",
              "      <td>3</td>\n",
              "      <td>0.1</td>\n",
              "    </tr>\n",
              "  </tbody>\n",
              "</table>\n",
              "</div>"
            ],
            "text/plain": [
              "   src  dst  weights\n",
              "0    0    1      0.4\n",
              "1    1    2      0.4\n",
              "2    1    3      0.4\n",
              "3    1    4      0.9\n",
              "4    2    5      0.1\n",
              "5    5    6      0.4\n",
              "6    6    3      0.1"
            ]
          },
          "metadata": {
            "tags": []
          },
          "execution_count": 97
        }
      ]
    },
    {
      "cell_type": "markdown",
      "metadata": {
        "id": "8CO7DiqTzoAa"
      },
      "source": [
        "**Adding node and edge features to graph**"
      ]
    },
    {
      "cell_type": "code",
      "metadata": {
        "colab": {
          "base_uri": "https://localhost:8080/"
        },
        "id": "wVzN6n7KzneJ",
        "outputId": "8e483d91-2960-4e9f-f6cf-89bffd6840b8"
      },
      "source": [
        "dgl_g, dgl_g.nodes(), dgl_g.edges()"
      ],
      "execution_count": null,
      "outputs": [
        {
          "output_type": "execute_result",
          "data": {
            "text/plain": [
              "(Graph(num_nodes=7, num_edges=7,\n",
              "       ndata_schemes={}\n",
              "       edata_schemes={}),\n",
              " tensor([0, 1, 2, 3, 4, 5, 6]),\n",
              " (tensor([0, 1, 1, 1, 2, 5, 6]), tensor([1, 2, 3, 4, 5, 6, 3])))"
            ]
          },
          "metadata": {
            "tags": []
          },
          "execution_count": 100
        }
      ]
    },
    {
      "cell_type": "code",
      "metadata": {
        "id": "DOng9LcdvtBr"
      },
      "source": [
        "import torch.nn.functional as F\n",
        "\n",
        "# adding node features\n",
        "dgl_g.ndata['ages'] = torch.tensor(ages,dtype=torch.float)/ 100\n",
        "dgl_g.ndata['heights'] = torch.tensor(heights, dtype=torch.float) / 100\n",
        "_classes = torch.tensor([label == 'A' for label in labels]).long()\n",
        "dgl_g.ndata['labels'] = _classes\n",
        "dgl_g.ndata['labels_one_hot'] = F.one_hot(_classes)\n",
        "\n",
        "# adding edge features\n",
        "dgl_g.edata['weights'] = torch.tensor(edge_weights)\n"
      ],
      "execution_count": null,
      "outputs": []
    },
    {
      "cell_type": "code",
      "metadata": {
        "colab": {
          "base_uri": "https://localhost:8080/"
        },
        "id": "YPMTxDr605CH",
        "outputId": "3d5c9e56-2f38-46db-96a5-b4da258a3dbf"
      },
      "source": [
        "# node features\n",
        "dgl_g.ndata"
      ],
      "execution_count": null,
      "outputs": [
        {
          "output_type": "execute_result",
          "data": {
            "text/plain": [
              "{'ages': tensor([0.4000, 0.3000, 0.2000, 0.4500, 0.4000, 0.2000, 0.3400]), 'heights': tensor([1.6500, 1.7500, 1.7000, 1.6500, 1.7500, 2.0000, 1.9000]), 'labels': tensor([1, 0, 0, 0, 0, 0, 0]), 'labels_one_hot': tensor([[0, 1],\n",
              "        [1, 0],\n",
              "        [1, 0],\n",
              "        [1, 0],\n",
              "        [1, 0],\n",
              "        [1, 0],\n",
              "        [1, 0]])}"
            ]
          },
          "metadata": {
            "tags": []
          },
          "execution_count": 104
        }
      ]
    },
    {
      "cell_type": "code",
      "metadata": {
        "colab": {
          "base_uri": "https://localhost:8080/"
        },
        "id": "NKF4bviR1GtI",
        "outputId": "fad6126f-3f7c-41f1-84c5-afad04f519d0"
      },
      "source": [
        "# edge features\n",
        "dgl_g.edata['weights']\n"
      ],
      "execution_count": null,
      "outputs": [
        {
          "output_type": "execute_result",
          "data": {
            "text/plain": [
              "tensor([0.4000, 0.4000, 0.4000, 0.9000, 0.1000, 0.4000, 0.1000])"
            ]
          },
          "metadata": {
            "tags": []
          },
          "execution_count": 105
        }
      ]
    },
    {
      "cell_type": "code",
      "metadata": {
        "id": "uppT2niY1S4A"
      },
      "source": [
        ""
      ],
      "execution_count": null,
      "outputs": []
    },
    {
      "cell_type": "markdown",
      "metadata": {
        "id": "DtZjxB5tnPzk"
      },
      "source": [
        "#**2. Compound to Graph (advanced content)**\n",
        "\n",
        "\n"
      ]
    },
    {
      "cell_type": "markdown",
      "metadata": {
        "id": "DuVJvKFC3EUp"
      },
      "source": [
        "## **2.1 Getting Started**\n",
        "\n",
        "**Learning Objectives**\n",
        "\n",
        "You will learn to construct graph from compound.\n",
        "* Compound Representation by libraries\n",
        "* Node Featurization from stratch\n",
        "* Edge Featurization from stratch\n",
        "* Compound to Graph\n",
        "* Downstream analysis by using your own representation you learnt\n",
        "\n",
        "---\n",
        "\n",
        "### GOAL: Compound to Graph (Data Augmentation)\n",
        "<p align=\"center\">\n",
        "  <img src=\"https://drive.google.com/uc?id=1GY5rH8STQqRprA-SYFnGw1o7aWsrsUt7\" />\n",
        "</p>\n"
      ]
    },
    {
      "cell_type": "markdown",
      "metadata": {
        "id": "nwjKHyZ1nEyB"
      },
      "source": [
        "Let`s start with simple chemical\n",
        "\n",
        "\n",
        "*   Read and visualization with RDKIT \n",
        "\n",
        "\n",
        "\n"
      ]
    },
    {
      "cell_type": "code",
      "metadata": {
        "colab": {
          "base_uri": "https://localhost:8080/",
          "height": 171
        },
        "id": "osaPsQE_4dml",
        "outputId": "293d1c60-92b9-4b0f-fd83-747651f5405d"
      },
      "source": [
        "from rdkit import Chem\n",
        "from rdkit.Chem.Draw import IPythonConsole\n",
        "from rdkit.Chem import Draw\n",
        "IPythonConsole.ipython_useSVG=True\n",
        "\n",
        "\n",
        "smile = 'C(=O)O' # formic \n",
        "mol = Chem.MolFromSmiles(smile)\n",
        "mol"
      ],
      "execution_count": null,
      "outputs": [
        {
          "output_type": "execute_result",
          "data": {
            "image/png": "[encoded data removed]",
            "text/plain": [
              "<rdkit.Chem.rdchem.Mol at 0x7fba622fc170>"
            ],
            "image/svg+xml": "<?xml version='1.0' encoding='iso-8859-1'?>\n<svg version='1.1' baseProfile='full'\n              xmlns='http://www.w3.org/2000/svg'\n                      xmlns:rdkit='http://www.rdkit.org/xml'\n                      xmlns:xlink='http://www.w3.org/1999/xlink'\n                  xml:space='preserve'\nwidth='450px' height='150px' viewBox='0 0 450 150'>\n<!-- END OF HEADER -->\n<rect style='opacity:1.0;fill:#FFFFFF;stroke:none' width='450' height='150' x='0' y='0'> </rect>\n<path class='bond-0' d='M 223.84,115.68 L 142.398,68.6589' style='fill:none;fill-rule:evenodd;stroke:#000000;stroke-width:2.0px;stroke-linecap:butt;stroke-linejoin:miter;stroke-opacity:1' />\n<path class='bond-0' d='M 142.398,68.6589 L 60.9557,21.6382' style='fill:none;fill-rule:evenodd;stroke:#FF0000;stroke-width:2.0px;stroke-linecap:butt;stroke-linejoin:miter;stroke-opacity:1' />\n<path class='bond-0' d='M 202.927,151.902 L 121.485,104.881' style='fill:none;fill-rule:evenodd;stroke:#000000;stroke-width:2.0px;stroke-linecap:butt;stroke-linejoin:miter;stroke-opacity:1' />\n<path class='bond-0' d='M 121.485,104.881 L 40.0427,57.8607' style='fill:none;fill-rule:evenodd;stroke:#FF0000;stroke-width:2.0px;stroke-linecap:butt;stroke-linejoin:miter;stroke-opacity:1' />\n<path class='bond-1' d='M 213.384,133.791 L 294.826,86.7701' style='fill:none;fill-rule:evenodd;stroke:#000000;stroke-width:2.0px;stroke-linecap:butt;stroke-linejoin:miter;stroke-opacity:1' />\n<path class='bond-1' d='M 294.826,86.7701 L 376.268,39.7495' style='fill:none;fill-rule:evenodd;stroke:#FF0000;stroke-width:2.0px;stroke-linecap:butt;stroke-linejoin:miter;stroke-opacity:1' />\n<path  class='atom-1' d='M 19.2709 29.3054\nQ 19.2709 22.5054, 22.6309 18.7054\nQ 25.9909 14.9054, 32.2709 14.9054\nQ 38.5509 14.9054, 41.9109 18.7054\nQ 45.2709 22.5054, 45.2709 29.3054\nQ 45.2709 36.1854, 41.8709 40.1054\nQ 38.4709 43.9854, 32.2709 43.9854\nQ 26.0309 43.9854, 22.6309 40.1054\nQ 19.2709 36.2254, 19.2709 29.3054\nM 32.2709 40.7854\nQ 36.5909 40.7854, 38.9109 37.9054\nQ 41.2709 34.9854, 41.2709 29.3054\nQ 41.2709 23.7454, 38.9109 20.9454\nQ 36.5909 18.1054, 32.2709 18.1054\nQ 27.9509 18.1054, 25.5909 20.9054\nQ 23.2709 23.7054, 23.2709 29.3054\nQ 23.2709 35.0254, 25.5909 37.9054\nQ 27.9509 40.7854, 32.2709 40.7854\n' fill='#FF0000'/>\n<path  class='atom-2' d='M 381.496 29.3054\nQ 381.496 22.5054, 384.856 18.7054\nQ 388.216 14.9054, 394.496 14.9054\nQ 400.776 14.9054, 404.136 18.7054\nQ 407.496 22.5054, 407.496 29.3054\nQ 407.496 36.1854, 404.096 40.1054\nQ 400.696 43.9854, 394.496 43.9854\nQ 388.256 43.9854, 384.856 40.1054\nQ 381.496 36.2254, 381.496 29.3054\nM 394.496 40.7854\nQ 398.816 40.7854, 401.136 37.9054\nQ 403.496 34.9854, 403.496 29.3054\nQ 403.496 23.7454, 401.136 20.9454\nQ 398.816 18.1054, 394.496 18.1054\nQ 390.176 18.1054, 387.816 20.9054\nQ 385.496 23.7054, 385.496 29.3054\nQ 385.496 35.0254, 387.816 37.9054\nQ 390.176 40.7854, 394.496 40.7854\n' fill='#FF0000'/>\n<path  class='atom-2' d='M 410.896 15.2254\nL 414.736 15.2254\nL 414.736 27.2654\nL 429.216 27.2654\nL 429.216 15.2254\nL 433.056 15.2254\nL 433.056 43.5454\nL 429.216 43.5454\nL 429.216 30.4654\nL 414.736 30.4654\nL 414.736 43.5454\nL 410.896 43.5454\nL 410.896 15.2254\n' fill='#FF0000'/>\n</svg>\n"
          },
          "metadata": {
            "tags": []
          },
          "execution_count": 106
        }
      ]
    },
    {
      "cell_type": "markdown",
      "metadata": {
        "id": "91VDwwGX6p9R"
      },
      "source": [
        "Mostly when we representing compounds to graph, we represent atoms as nodes and chemical bonds as edges.\n",
        "\n",
        "\n",
        "*   Atom features\n",
        "\n",
        "|    Node Features  |   Elements|\n",
        "|------|------|\n",
        "|   atom  | C, O, N, S, F, Cl, Br, ..,  etc| \n",
        "|   Formal Charge  | -1, 0, +1| \n",
        "|   Implicit H  | 0, 1, 2 ,3 , 4, 5, 6|\n",
        "|   Chirality  | None, S, R| \n",
        "|   Degree of Atom  | topological feature|\n",
        "|   etc.  | etc. |\n",
        "\n",
        "*   Edge features\n",
        "\n",
        "\n",
        "|    Bond Features  |   Elements|\n",
        "|------|------|\n",
        "|   Bond Types  | Single, Double, Triple, Aromatic, ..,  etc| \n",
        "|   etc.  | etc. |\n",
        "\n",
        "\n",
        "---\n",
        "<p align=\"center\">\n",
        "  <img src=\"https://drive.google.com/uc?id=10iiTNDL9CyCP1Nnq_S4cWr5AEJPehShZ\" />\n",
        "</p>"
      ]
    },
    {
      "cell_type": "markdown",
      "metadata": {
        "id": "gDoO0KL2nE01"
      },
      "source": [
        "## **2.2 Compound to Graph by using external libraries**\n",
        "\n"
      ]
    },
    {
      "cell_type": "markdown",
      "metadata": {
        "id": "1Z4fq6RY5mE9"
      },
      "source": [
        "**External Libraries**\n",
        "\n",
        "---\n",
        "\n",
        "\n",
        "1.   [DGL - pytorch, mxnet](https://github.com/dmlc/dgl) - **dgllife**\n",
        "2.   [Geometric - pytorch](https://pytorch-geometric.readthedocs.io/en/latest/)\n",
        "3.   [Spektral - tensorflow](https://github.com/danielegrattarola/spektral)\n",
        "\n",
        "Most of external libraries uses built-in node and edge featurizer functions to represent atom and edge features of compounds. To represent compounds to graph following steps are usually followed.\n",
        "\n",
        "\n",
        "1.   Atom Representation by built-in NodeFeaturizer function \n",
        "2.   Bond Representation by built-in EdgeFeaturizer function\n",
        "3.   Built-in Graph construction with node and edge representation\n",
        "\n",
        "\n",
        "\n",
        "\n"
      ]
    },
    {
      "cell_type": "code",
      "metadata": {
        "id": "WHd4a00I5Wzo"
      },
      "source": [
        "# let`s start with dgl-life library\n",
        "from dgllife.utils import CanonicalAtomFeaturizer, CanonicalBondFeaturizer\n",
        "\n",
        "\"\"\"\n",
        "dgllife library provides built-in featurization package for chemicals\n",
        "    BaseAtomFeaturizer, BaseBondFeaturizer\n",
        "    CanonicalAtomFeaturizer, CanonicalBondFeaturizer -> default \n",
        "    WeaveAtomFeaturizer, WeaveBondFeaturizer -> Steven et. al. 2016\n",
        "    PreTrainAtomFeaturizer, PreTrain -> Weihua Hu et. al. 2019\n",
        "    AttentiveFPAtomFeaturizer, AttentiveFPBondFeaturizer -> Zhaoping Xiong et. al. 2019\n",
        "\"\"\"\n",
        "\n",
        "# calling built-ing node and bond representation\n",
        "atom_featurizer = CanonicalAtomFeaturizer('atom_feat')\n",
        "edge_featurizer = CanonicalBondFeaturizer('edge_feat')"
      ],
      "execution_count": null,
      "outputs": []
    },
    {
      "cell_type": "code",
      "metadata": {
        "colab": {
          "base_uri": "https://localhost:8080/",
          "height": 171
        },
        "id": "p1kObyqe85xh",
        "outputId": "d2cd45b7-5d5f-41b6-88e3-effe1c664b19"
      },
      "source": [
        "mol"
      ],
      "execution_count": null,
      "outputs": [
        {
          "output_type": "execute_result",
          "data": {
            "image/png": "[encoded data removed]",
            "text/plain": [
              "<rdkit.Chem.rdchem.Mol at 0x7fba622fc170>"
            ],
            "image/svg+xml": "<?xml version='1.0' encoding='iso-8859-1'?>\n<svg version='1.1' baseProfile='full'\n              xmlns='http://www.w3.org/2000/svg'\n                      xmlns:rdkit='http://www.rdkit.org/xml'\n                      xmlns:xlink='http://www.w3.org/1999/xlink'\n                  xml:space='preserve'\nwidth='450px' height='150px' viewBox='0 0 450 150'>\n<!-- END OF HEADER -->\n<rect style='opacity:1.0;fill:#FFFFFF;stroke:none' width='450' height='150' x='0' y='0'> </rect>\n<path class='bond-0' d='M 223.84,115.68 L 142.398,68.6589' style='fill:none;fill-rule:evenodd;stroke:#000000;stroke-width:2.0px;stroke-linecap:butt;stroke-linejoin:miter;stroke-opacity:1' />\n<path class='bond-0' d='M 142.398,68.6589 L 60.9557,21.6382' style='fill:none;fill-rule:evenodd;stroke:#FF0000;stroke-width:2.0px;stroke-linecap:butt;stroke-linejoin:miter;stroke-opacity:1' />\n<path class='bond-0' d='M 202.927,151.902 L 121.485,104.881' style='fill:none;fill-rule:evenodd;stroke:#000000;stroke-width:2.0px;stroke-linecap:butt;stroke-linejoin:miter;stroke-opacity:1' />\n<path class='bond-0' d='M 121.485,104.881 L 40.0427,57.8607' style='fill:none;fill-rule:evenodd;stroke:#FF0000;stroke-width:2.0px;stroke-linecap:butt;stroke-linejoin:miter;stroke-opacity:1' />\n<path class='bond-1' d='M 213.384,133.791 L 294.826,86.7701' style='fill:none;fill-rule:evenodd;stroke:#000000;stroke-width:2.0px;stroke-linecap:butt;stroke-linejoin:miter;stroke-opacity:1' />\n<path class='bond-1' d='M 294.826,86.7701 L 376.268,39.7495' style='fill:none;fill-rule:evenodd;stroke:#FF0000;stroke-width:2.0px;stroke-linecap:butt;stroke-linejoin:miter;stroke-opacity:1' />\n<path  class='atom-1' d='M 19.2709 29.3054\nQ 19.2709 22.5054, 22.6309 18.7054\nQ 25.9909 14.9054, 32.2709 14.9054\nQ 38.5509 14.9054, 41.9109 18.7054\nQ 45.2709 22.5054, 45.2709 29.3054\nQ 45.2709 36.1854, 41.8709 40.1054\nQ 38.4709 43.9854, 32.2709 43.9854\nQ 26.0309 43.9854, 22.6309 40.1054\nQ 19.2709 36.2254, 19.2709 29.3054\nM 32.2709 40.7854\nQ 36.5909 40.7854, 38.9109 37.9054\nQ 41.2709 34.9854, 41.2709 29.3054\nQ 41.2709 23.7454, 38.9109 20.9454\nQ 36.5909 18.1054, 32.2709 18.1054\nQ 27.9509 18.1054, 25.5909 20.9054\nQ 23.2709 23.7054, 23.2709 29.3054\nQ 23.2709 35.0254, 25.5909 37.9054\nQ 27.9509 40.7854, 32.2709 40.7854\n' fill='#FF0000'/>\n<path  class='atom-2' d='M 381.496 29.3054\nQ 381.496 22.5054, 384.856 18.7054\nQ 388.216 14.9054, 394.496 14.9054\nQ 400.776 14.9054, 404.136 18.7054\nQ 407.496 22.5054, 407.496 29.3054\nQ 407.496 36.1854, 404.096 40.1054\nQ 400.696 43.9854, 394.496 43.9854\nQ 388.256 43.9854, 384.856 40.1054\nQ 381.496 36.2254, 381.496 29.3054\nM 394.496 40.7854\nQ 398.816 40.7854, 401.136 37.9054\nQ 403.496 34.9854, 403.496 29.3054\nQ 403.496 23.7454, 401.136 20.9454\nQ 398.816 18.1054, 394.496 18.1054\nQ 390.176 18.1054, 387.816 20.9054\nQ 385.496 23.7054, 385.496 29.3054\nQ 385.496 35.0254, 387.816 37.9054\nQ 390.176 40.7854, 394.496 40.7854\n' fill='#FF0000'/>\n<path  class='atom-2' d='M 410.896 15.2254\nL 414.736 15.2254\nL 414.736 27.2654\nL 429.216 27.2654\nL 429.216 15.2254\nL 433.056 15.2254\nL 433.056 43.5454\nL 429.216 43.5454\nL 429.216 30.4654\nL 414.736 30.4654\nL 414.736 43.5454\nL 410.896 43.5454\nL 410.896 15.2254\n' fill='#FF0000'/>\n</svg>\n"
          },
          "metadata": {
            "tags": []
          },
          "execution_count": 109
        }
      ]
    },
    {
      "cell_type": "markdown",
      "metadata": {
        "id": "WV5N1Yg095QX"
      },
      "source": [
        "### **2.2.1 Atom Representation**"
      ]
    },
    {
      "cell_type": "code",
      "metadata": {
        "colab": {
          "base_uri": "https://localhost:8080/"
        },
        "id": "RH8ldZRz8yKG",
        "outputId": "2cc23e84-3271-4d48-c2ce-5bb45acf05d2"
      },
      "source": [
        "atom_representation = atom_featurizer(mol)\n",
        "atom_representation\n"
      ],
      "execution_count": null,
      "outputs": [
        {
          "output_type": "execute_result",
          "data": {
            "text/plain": [
              "{'atom_feat': tensor([[1., 0., 0., 0., 0., 0., 0., 0., 0., 0., 0., 0., 0., 0., 0., 0., 0., 0.,\n",
              "          0., 0., 0., 0., 0., 0., 0., 0., 0., 0., 0., 0., 0., 0., 0., 0., 0., 0.,\n",
              "          0., 0., 0., 0., 0., 0., 0., 0., 0., 1., 0., 0., 0., 0., 0., 0., 0., 0.,\n",
              "          0., 1., 0., 0., 0., 0., 0., 0., 0., 0., 1., 0., 0., 0., 0., 0., 1., 0.,\n",
              "          0., 0.],\n",
              "         [0., 0., 1., 0., 0., 0., 0., 0., 0., 0., 0., 0., 0., 0., 0., 0., 0., 0.,\n",
              "          0., 0., 0., 0., 0., 0., 0., 0., 0., 0., 0., 0., 0., 0., 0., 0., 0., 0.,\n",
              "          0., 0., 0., 0., 0., 0., 0., 0., 1., 0., 0., 0., 0., 0., 0., 0., 0., 0.,\n",
              "          1., 0., 0., 0., 0., 0., 0., 0., 0., 0., 1., 0., 0., 0., 0., 1., 0., 0.,\n",
              "          0., 0.],\n",
              "         [0., 0., 1., 0., 0., 0., 0., 0., 0., 0., 0., 0., 0., 0., 0., 0., 0., 0.,\n",
              "          0., 0., 0., 0., 0., 0., 0., 0., 0., 0., 0., 0., 0., 0., 0., 0., 0., 0.,\n",
              "          0., 0., 0., 0., 0., 0., 0., 0., 1., 0., 0., 0., 0., 0., 0., 0., 0., 0.,\n",
              "          0., 1., 0., 0., 0., 0., 0., 0., 0., 0., 1., 0., 0., 0., 0., 0., 1., 0.,\n",
              "          0., 0.]])}"
            ]
          },
          "metadata": {
            "tags": []
          },
          "execution_count": 115
        }
      ]
    },
    {
      "cell_type": "code",
      "metadata": {
        "colab": {
          "base_uri": "https://localhost:8080/"
        },
        "id": "pTetIZRU8222",
        "outputId": "ab83f8fe-4c0c-4d9e-ea70-026fe7b74ed6"
      },
      "source": [
        "atom_representation['atom_feat'].size()"
      ],
      "execution_count": null,
      "outputs": [
        {
          "output_type": "execute_result",
          "data": {
            "text/plain": [
              "torch.Size([3, 74])"
            ]
          },
          "metadata": {
            "tags": []
          },
          "execution_count": 117
        }
      ]
    },
    {
      "cell_type": "markdown",
      "metadata": {
        "id": "SgPLnzUVS3B7"
      },
      "source": [
        "### **2.2.2 Edge Representation**"
      ]
    },
    {
      "cell_type": "code",
      "metadata": {
        "colab": {
          "base_uri": "https://localhost:8080/"
        },
        "id": "AAnLD1Fw9Udw",
        "outputId": "698e30d8-5982-445d-8dc6-be2164157fd5"
      },
      "source": [
        "edge_representation = edge_featurizer(mol)\n",
        "edge_representation"
      ],
      "execution_count": null,
      "outputs": [
        {
          "output_type": "execute_result",
          "data": {
            "text/plain": [
              "{'edge_feat': tensor([[0., 1., 0., 0., 1., 0., 1., 0., 0., 0., 0., 0.],\n",
              "         [0., 1., 0., 0., 1., 0., 1., 0., 0., 0., 0., 0.],\n",
              "         [1., 0., 0., 0., 1., 0., 1., 0., 0., 0., 0., 0.],\n",
              "         [1., 0., 0., 0., 1., 0., 1., 0., 0., 0., 0., 0.]])}"
            ]
          },
          "metadata": {
            "tags": []
          },
          "execution_count": 125
        }
      ]
    },
    {
      "cell_type": "code",
      "metadata": {
        "colab": {
          "base_uri": "https://localhost:8080/"
        },
        "id": "Jlai6Sgs9rmY",
        "outputId": "2b1922f0-37bb-48a6-d4b7-fd7739343598"
      },
      "source": [
        "edge_representation['edge_feat'].size()"
      ],
      "execution_count": null,
      "outputs": [
        {
          "output_type": "execute_result",
          "data": {
            "text/plain": [
              "torch.Size([4, 12])"
            ]
          },
          "metadata": {
            "tags": []
          },
          "execution_count": 129
        }
      ]
    },
    {
      "cell_type": "markdown",
      "metadata": {
        "id": "lYWaS8KkTgg6"
      },
      "source": [
        "### **2.2.3 Compound to Graph**\n",
        "\n",
        "\n",
        "\n",
        "*   Graph from SMILE with pre-defined node and edge featurizer\n",
        "*   Graph from MOL (rdkit) with pre-defined node and edge featurizer\n",
        "\n"
      ]
    },
    {
      "cell_type": "code",
      "metadata": {
        "id": "CXQUdoxGTfsB"
      },
      "source": [
        "# let`s start with dgl-life library\n",
        "from dgllife.utils import smiles_to_bigraph, mol_to_bigraph\n",
        "\n",
        "smile = 'C(=O)O' # formic \n",
        "mol = Chem.MolFromSmiles(smile)\n",
        "\n"
      ],
      "execution_count": null,
      "outputs": []
    },
    {
      "cell_type": "code",
      "metadata": {
        "id": "heo3sRRMUk-Z"
      },
      "source": [
        "# graph from smiles\n",
        "g_from_smiles = smiles_to_bigraph(smile, \n",
        "                                  node_featurizer=atom_featurizer,\n",
        "                                  edge_featurizer=edge_featurizer,\n",
        "                                  )"
      ],
      "execution_count": null,
      "outputs": []
    },
    {
      "cell_type": "code",
      "metadata": {
        "colab": {
          "base_uri": "https://localhost:8080/"
        },
        "id": "3Hy5iEDQUn_Q",
        "outputId": "6805b8dc-f398-42ec-ee0a-dc86abf08124"
      },
      "source": [
        "g_from_smiles"
      ],
      "execution_count": null,
      "outputs": [
        {
          "output_type": "execute_result",
          "data": {
            "text/plain": [
              "Graph(num_nodes=3, num_edges=4,\n",
              "      ndata_schemes={'atom_feat': Scheme(shape=(74,), dtype=torch.float32)}\n",
              "      edata_schemes={'edge_feat': Scheme(shape=(12,), dtype=torch.float32)})"
            ]
          },
          "metadata": {
            "tags": []
          },
          "execution_count": 131
        }
      ]
    },
    {
      "cell_type": "code",
      "metadata": {
        "id": "LaM631qfWHCy"
      },
      "source": [
        "# graph from mol\n",
        "g_from_mol = mol_to_bigraph(mol, \n",
        "                            node_featurizer=atom_featurizer,\n",
        "                            edge_featurizer=edge_featurizer,\n",
        "                            )"
      ],
      "execution_count": null,
      "outputs": []
    },
    {
      "cell_type": "code",
      "metadata": {
        "colab": {
          "base_uri": "https://localhost:8080/"
        },
        "id": "qVldbETYWZv6",
        "outputId": "245c9b7b-3ff1-4f40-dd04-9b67f62e3092"
      },
      "source": [
        "g_from_mol"
      ],
      "execution_count": null,
      "outputs": [
        {
          "output_type": "execute_result",
          "data": {
            "text/plain": [
              "Graph(num_nodes=3, num_edges=4,\n",
              "      ndata_schemes={'atom_feat': Scheme(shape=(74,), dtype=torch.float32)}\n",
              "      edata_schemes={'edge_feat': Scheme(shape=(12,), dtype=torch.float32)})"
            ]
          },
          "metadata": {
            "tags": []
          },
          "execution_count": 136
        }
      ]
    },
    {
      "cell_type": "code",
      "metadata": {
        "colab": {
          "base_uri": "https://localhost:8080/"
        },
        "id": "amDD-yfzWdal",
        "outputId": "94a42188-3925-44b5-aee2-2c260c1fc916"
      },
      "source": [
        "g_from_mol.ndata['atom_feat'], g_from_mol.ndata['atom_feat'].size()"
      ],
      "execution_count": null,
      "outputs": [
        {
          "output_type": "execute_result",
          "data": {
            "text/plain": [
              "(tensor([[0., 0., 1., 0., 0., 0., 0., 0., 0., 0., 0., 0., 0., 0., 0., 0., 0., 0.,\n",
              "          0., 0., 0., 0., 0., 0., 0., 0., 0., 0., 0., 0., 0., 0., 0., 0., 0., 0.,\n",
              "          0., 0., 0., 0., 0., 0., 0., 0., 1., 0., 0., 0., 0., 0., 0., 0., 0., 0.,\n",
              "          0., 1., 0., 0., 0., 0., 0., 0., 0., 0., 1., 0., 0., 0., 0., 0., 1., 0.,\n",
              "          0., 0.],\n",
              "         [1., 0., 0., 0., 0., 0., 0., 0., 0., 0., 0., 0., 0., 0., 0., 0., 0., 0.,\n",
              "          0., 0., 0., 0., 0., 0., 0., 0., 0., 0., 0., 0., 0., 0., 0., 0., 0., 0.,\n",
              "          0., 0., 0., 0., 0., 0., 0., 0., 0., 1., 0., 0., 0., 0., 0., 0., 0., 0.,\n",
              "          0., 1., 0., 0., 0., 0., 0., 0., 0., 0., 1., 0., 0., 0., 0., 0., 1., 0.,\n",
              "          0., 0.],\n",
              "         [0., 0., 1., 0., 0., 0., 0., 0., 0., 0., 0., 0., 0., 0., 0., 0., 0., 0.,\n",
              "          0., 0., 0., 0., 0., 0., 0., 0., 0., 0., 0., 0., 0., 0., 0., 0., 0., 0.,\n",
              "          0., 0., 0., 0., 0., 0., 0., 0., 1., 0., 0., 0., 0., 0., 0., 0., 0., 0.,\n",
              "          1., 0., 0., 0., 0., 0., 0., 0., 0., 0., 1., 0., 0., 0., 0., 1., 0., 0.,\n",
              "          0., 0.]]), torch.Size([3, 74]))"
            ]
          },
          "metadata": {
            "tags": []
          },
          "execution_count": 139
        }
      ]
    },
    {
      "cell_type": "code",
      "metadata": {
        "colab": {
          "base_uri": "https://localhost:8080/"
        },
        "id": "KrjRzZP2WqbF",
        "outputId": "6369a781-baa5-41c9-8199-94a1c0f99fa2"
      },
      "source": [
        "g_from_mol.edata['edge_feat'], g_from_mol.edata['edge_feat'].size()"
      ],
      "execution_count": null,
      "outputs": [
        {
          "output_type": "execute_result",
          "data": {
            "text/plain": [
              "(tensor([[0., 1., 0., 0., 1., 0., 1., 0., 0., 0., 0., 0.],\n",
              "         [0., 1., 0., 0., 1., 0., 1., 0., 0., 0., 0., 0.],\n",
              "         [1., 0., 0., 0., 1., 0., 1., 0., 0., 0., 0., 0.],\n",
              "         [1., 0., 0., 0., 1., 0., 1., 0., 0., 0., 0., 0.]]),\n",
              " torch.Size([4, 12]))"
            ]
          },
          "metadata": {
            "tags": []
          },
          "execution_count": 141
        }
      ]
    },
    {
      "cell_type": "markdown",
      "metadata": {
        "id": "5Gg1l5apMSd-"
      },
      "source": [
        " ## **2.3 Understanding Featurization**\n",
        "\n",
        ">  The CanonicalAtomFeaturizer function includes following features:\n",
        "\n",
        "*   Atom_features: **43 types**\n",
        "    * [\"C\", \"N\", \"O\", \"S\", \"F\", \"Si\", \"P\", \"Cl\", \"Br\", \"Mg\",\n",
        "     \"Na\", \"Ca\", \"Fe\", \"As\", \"Al\", \"I\", \"B\", \"V\", \"K\", \"Tl\",\n",
        "     \"Yb\", \"Sb\", \"Sn\", \"Ag\", \"Pd\", \"Co\", \"Se\", \"Ti\", \"Zn\",\n",
        "     \"H\", \"Li\", \"Ge\", \"Cu\", \"Au\", \"Ni\", \"Cd\", \"In\", \"Mn\", \"Zr\",\n",
        "     \"Cr\", \"Pt\", \"Hg\", \"Pb\"]\n",
        "*   Atom degree: **10 types**\n",
        "    * 0-10\n",
        "*   ImplicitH: **6 types**\n",
        "    * 0-6\n",
        "*   Formal Charges: **4 types**\n",
        "*   Atom hybridization: **5 types**\n",
        "    * \"SP\", \"SP2\", \"SP3\", \"SP3D\", \"SP3D2\".\n",
        "*   Is Aromatic (boolean): **2 types**\n",
        "    * True, False\n",
        "*   Total Hs on the atom: **4 types**\n",
        "    * 0-4\n",
        "\n",
        "<font color='red'>TOTAL NODE FEATURES = 43 + 10 + 6 + 4 + 5 + 2 + 4 = 74</font>\n",
        "\n",
        "\n",
        "> The CanonicalEdgeFeaturizer includes following features:\n",
        "\n",
        "*   Bond type: **4 types**\n",
        "    * Single, Double, Triple, Aromatic\n",
        "*   Whether bond is in a ring of any size: **2 types**\n",
        "    * boolean (True, False)\n",
        "*   Stereo configuration of bond: **6 types**\n",
        "    * \n",
        "\n",
        "\n",
        "\n",
        "\n",
        "<font color='red'>TOTAL EDGE FEATURES = 4 + 2 + 6 = 12</font>\n",
        "\n",
        "----"
      ]
    },
    {
      "cell_type": "markdown",
      "metadata": {
        "id": "EcmzHArzMULq"
      },
      "source": [
        "**Most of time you will use external libraries, however sometimes there are some issues**\n",
        "\n",
        "\n",
        "*   it is over engineered and hard to understand\n",
        "*   based on your objectives and infrastructure, sometimes you do not need sparse feature representation (e.g: de novo drug design)\n",
        "*   in data science, you need to fully understand what you doing\n",
        "\n",
        "> **WHAT I CAN NOT CREATE, I DO NOT UNDERSTAND**\n",
        ">> Richard Feynman\n",
        "\n",
        "**SO it is better to write your own featurizers**\n"
      ]
    },
    {
      "cell_type": "markdown",
      "metadata": {
        "id": "g2OkwC4HW324"
      },
      "source": [
        "## **2.4 Writing Your Own Representation from Stratch**\n",
        "\n",
        "### **Goal**\n",
        "To create your own graph representation of chemicals from stratch.\n",
        "### **Learning Objectives**\n",
        "1. Node Representation from stratch\n",
        "2. Edge Representation from stratch\n",
        "3. Creating graph with your own node and edge featurizers"
      ]
    },
    {
      "cell_type": "markdown",
      "metadata": {
        "id": "z0vHRKS-XU1J"
      },
      "source": [
        "### **2.4.1 Node Representation from Stratch**\n",
        "\n",
        "Let`s start with simple atom features\n",
        "\n",
        "## Seleted Atom Features\n",
        "---\n",
        "\n",
        "|    Node Features  |   Elements|\n",
        "|------|------|\n",
        "|   atom  | C, O, N, S, F, Cl, Br, ..,  etc| \n",
        "|   Formal Charge  | -1, 0, +1| \n",
        "|   Implicit H  | 0, 1, 2 ,3 , 4, 5, 6|\n",
        "|   Chirality  | None, S, R| \n",
        "|   Degree of Atom  | topological feature|\n",
        "|   etc.  | etc. |\n"
      ]
    },
    {
      "cell_type": "markdown",
      "metadata": {
        "id": "v1dvdH4Wsm2f"
      },
      "source": [
        "\n",
        "You will begin by constructing graph from stratch and by defining atom features into .\n",
        "* Define atom level features\n",
        "* Define encoder that encodes features into one-hot-feature vector\n",
        "* Define featurizer class\n",
        "\n",
        "\n",
        "---\n",
        "<details>\n",
        "<summary>\n",
        "<font size=\"3\" color=\"green\">\n",
        "<b>Optional hints for python <code><font size=\"4\">enum class</font></code></b>\n",
        "</font>\n",
        "</summary>\n",
        "\n",
        "1. An enumeration is a set of symbolic names (members) bound to unique, constant values.\n",
        "2. More readable and easy to get value by name\n",
        "3. Easier deployment and microservices communcation\n",
        "4. See more about python enum class [here](https://docs.python.org/3/library/enum.html)\n",
        "</details>"
      ]
    },
    {
      "cell_type": "code",
      "metadata": {
        "id": "U8KfAsBSXBjX"
      },
      "source": [
        "from enum import Enum, unique\n",
        "\n",
        "\n",
        "# creating atom types class\n",
        "@unique\n",
        "class Atoms(Enum):\n",
        "    CARBON = 'C'\n",
        "    OXYGEN = 'O'\n",
        "    NITROGEN = 'N'\n",
        "    SULFUR = 'S'\n",
        "    FLOURINE = 'F'\n",
        "    CHLORINE = 'Cl'\n",
        "    BROMINE = 'Br'\n",
        "    # you can add based on your research\n",
        "    # SODIUM = 'Na'\n",
        "\n",
        "# creating atom charges\n",
        "@unique\n",
        "class Charges(Enum):\n",
        "    MINUS = -1\n",
        "    ZERO = 0\n",
        "    PLUS = 1\n",
        "\n",
        "# creating atom chirality\n",
        "@unique\n",
        "class Chirality(Enum):\n",
        "    NONE = 'None'\n",
        "    S = 'S'\n",
        "    R = 'R'\n",
        "\n",
        "# creating atom charges\n",
        "@unique\n",
        "class ImplicitH(Enum):\n",
        "    SINGLE = 0\n",
        "    DOUBLE = 1\n",
        "    TRIPLE = 2\n",
        "\n",
        "# creating own atom features\n",
        "@unique\n",
        "class YourOwnFeatures(Enum):\n",
        "    NotImplemented\n",
        "\n",
        "\n",
        "# chosen list\n",
        "atom_list = [atom.value for atom in Atoms]\n",
        "charge_list = [charge.value for charge in Charges]\n",
        "chiralirty_list = [c.value for c in Chirality]\n",
        "impH_list = [impH.value for impH in ImplicitH]\n",
        "\n"
      ],
      "execution_count": null,
      "outputs": []
    },
    {
      "cell_type": "code",
      "metadata": {
        "colab": {
          "base_uri": "https://localhost:8080/"
        },
        "id": "Z1XNMwxGuScc",
        "outputId": "9b925867-7949-42d0-d0a7-2f7f9b94985d"
      },
      "source": [
        "atom_list, charge_list, chiralirty_list, impH_list"
      ],
      "execution_count": null,
      "outputs": [
        {
          "output_type": "execute_result",
          "data": {
            "text/plain": [
              "(['C', 'O', 'N', 'S', 'F', 'Cl', 'Br'],\n",
              " [-1, 0, 1],\n",
              " ['None', 'S', 'R'],\n",
              " [0, 1, 2])"
            ]
          },
          "metadata": {
            "tags": []
          },
          "execution_count": 144
        }
      ]
    },
    {
      "cell_type": "markdown",
      "metadata": {
        "id": "qkpOwbFPuh6e"
      },
      "source": [
        "**OHE ENCODER**"
      ]
    },
    {
      "cell_type": "code",
      "metadata": {
        "id": "33gVNC2xuWE-"
      },
      "source": [
        "from typing import Any, List\n",
        "## one hot encoder function\n",
        "def to_ohe(x: Any, _list: List) -> List:\n",
        "    \"\"\"\n",
        "        Atom feature encoder\n",
        "\n",
        "        Parameters:\n",
        "        -----------\n",
        "        x: Any \n",
        "            any atom feature type\n",
        "        _list: List\n",
        "            atom feature types \n",
        "\n",
        "        return: List\n",
        "        ------\n",
        "            one hot feature boolean vector\n",
        "    \"\"\"\n",
        "    return list(map(lambda s: x ==s, _list))"
      ],
      "execution_count": null,
      "outputs": []
    },
    {
      "cell_type": "code",
      "metadata": {
        "colab": {
          "base_uri": "https://localhost:8080/"
        },
        "id": "WSBL-UEJu9Ve",
        "outputId": "8347ef15-e98f-4d72-d580-f53bc3da1783"
      },
      "source": [
        "print(atom_list)\n",
        "to_ohe('C', atom_list)"
      ],
      "execution_count": null,
      "outputs": [
        {
          "output_type": "stream",
          "text": [
            "['C', 'O', 'N', 'S', 'F', 'Cl', 'Br']\n"
          ],
          "name": "stdout"
        },
        {
          "output_type": "execute_result",
          "data": {
            "text/plain": [
              "[True, False, False, False, False, False, False]"
            ]
          },
          "metadata": {
            "tags": []
          },
          "execution_count": 147
        }
      ]
    },
    {
      "cell_type": "markdown",
      "metadata": {
        "id": "vfoOfRxovoMO"
      },
      "source": [
        "#### **Version 1**\n",
        "**BASE NODE REPRESENTATION CLASS**\n",
        "\n",
        "*   4 arguments with default values\n",
        "\n",
        "    * atom = ['C', 'O', 'N', 'S', 'F', 'Cl', 'Br']\n",
        "    * charges = [-1, 0, 1]\n",
        "    * implicit_h = \n",
        "\n",
        "*   self __call__ function\n",
        "*   4 different atom feature encoder function\n",
        "\n"
      ]
    },
    {
      "cell_type": "code",
      "metadata": {
        "id": "4-7RkWgdvbiY"
      },
      "source": [
        "from dataclasses import dataclass, field\n",
        "from typing import List\n",
        "from rdkit import Chem\n",
        "\n",
        "# define new type (rdkit library mol type) and lets name it as MOLTYPE\n",
        "MOLTYPE = Chem.rdchem.Mol\n",
        "\n",
        "\n",
        "# defining node representation class\n",
        "@dataclass\n",
        "class NodeFeaturizer_V1:\n",
        "    \"\"\"\n",
        "    Tutorial NodeFeaturizer Class (version 1)\n",
        "\n",
        "    Arguments:\n",
        "    ---------\n",
        "    atoms: List\n",
        "        list contains atom types specifically chosen for this tutorial\n",
        "    charges: List\n",
        "        list contains formal charges values\n",
        "    implicit_h: List\n",
        "        list contains implicit_h values\n",
        "    chirality: List\n",
        "        list contains chirality\n",
        "    \"\"\"\n",
        "\n",
        "    atoms: List = field(default_factory=lambda: atom_list)\n",
        "    charges: List = field(default_factory=lambda: charge_list)\n",
        "    implicit_h: List = field(default_factory=lambda: impH_list)\n",
        "    chirality: List = field(default_factory=lambda: chiralirty_list) \n",
        "\n",
        "    def __call__(self, mol: MOLTYPE):\n",
        "        # instance self calling function\n",
        "\n",
        "        if mol:\n",
        "            nodes = mol.GetNumAtoms()\n",
        "\n",
        "            return nodes\n",
        "        else:\n",
        "            print(\"You need to enter some mol\")\n",
        "\n",
        "    def node_features_from_atom_type(self, node: Chem.rdchem.Atom) -> List:\n",
        "        # converting atom type features to one hot vector\n",
        "        NotImplemented\n",
        "\n",
        "    def node_features_from_formal_charge(self, node: Chem.rdchem.Atom) -> List:\n",
        "        # converting atom formal charge one hot vector\n",
        "        NotImplemented\n",
        "\n",
        "    def node_features_from_implicit_h(self, node: Chem.rdchem.Atom) -> List:\n",
        "        # converting atom implicit_h to one hot vector\n",
        "        NotImplemented\n",
        "\n",
        "    def node_features_from_chirality(self, node: Chem.rdchem.Atom) -> List:\n",
        "        NotImplemented\n"
      ],
      "execution_count": null,
      "outputs": []
    },
    {
      "cell_type": "code",
      "metadata": {
        "colab": {
          "base_uri": "https://localhost:8080/"
        },
        "id": "XmzZSmq0yZYn",
        "outputId": "2e5c223d-8c7f-4092-d7d5-16abb1737ca9"
      },
      "source": [
        "# instance initialization\n",
        "foo = NodeFeaturizer_V1()\n",
        "foo"
      ],
      "execution_count": null,
      "outputs": [
        {
          "output_type": "execute_result",
          "data": {
            "text/plain": [
              "NodeFeaturizer_V1(atoms=['C', 'O', 'N', 'S', 'F', 'Cl', 'Br'], charges=[-1, 0, 1], implicit_h=[0, 1, 2], chirality=['None', 'S', 'R'])"
            ]
          },
          "metadata": {
            "tags": []
          },
          "execution_count": 151
        }
      ]
    },
    {
      "cell_type": "code",
      "metadata": {
        "colab": {
          "base_uri": "https://localhost:8080/"
        },
        "id": "qsNf4FuYycqi",
        "outputId": "69b4bdd5-f152-461d-9878-6c3274145a2f"
      },
      "source": [
        "foo(mol)"
      ],
      "execution_count": null,
      "outputs": [
        {
          "output_type": "execute_result",
          "data": {
            "text/plain": [
              "3"
            ]
          },
          "metadata": {
            "tags": []
          },
          "execution_count": 160
        }
      ]
    },
    {
      "cell_type": "markdown",
      "metadata": {
        "id": "2ARthfLszNy4"
      },
      "source": [
        "#### **Version 2**\n",
        "IMPROVMENT ON CLASS (Node Features to OHE - one-hot-encoding)\n",
        "**bold text**let`s improve basic class \n",
        "\n",
        "\n",
        "*   let`s add function to get atom features\n",
        "*   let`s improve __call__ function \n",
        "\n",
        "\n"
      ]
    },
    {
      "cell_type": "code",
      "metadata": {
        "id": "Ddy5i2k1y8oe"
      },
      "source": [
        "from dataclasses import dataclass, field\n",
        "from typing import List\n",
        "from rdkit import Chem\n",
        "from collections import defaultdict\n",
        "import itertools\n",
        "import numpy as np\n",
        "import dgl.backend as F\n",
        "\n",
        "\n",
        "MOLTYPE = Chem.rdchem.Mol\n",
        "\n",
        "@dataclass\n",
        "class NodeFeaturizer_V2:\n",
        "    \"\"\"\n",
        "    Tutorial NodeFeaturizer Class (version 2)\n",
        "\n",
        "    Arguments:\n",
        "    ---------\n",
        "    atoms: \n",
        "        list contains atom types specifically chosen for this tutorial\n",
        "    charges:\n",
        "        list contains formal charges values\n",
        "    impliciti_h: \n",
        "        list contains implicit_h values\n",
        "    chirality:\n",
        "        list contains chirality\n",
        "    \"\"\"\n",
        "\n",
        "    atoms: List = field(default_factory=lambda: atom_list)\n",
        "    charges: List = field(default_factory=lambda: charge_list)\n",
        "    implicit_h: List = field(default_factory=lambda: impH_list)\n",
        "    chirality: List = field(default_factory=lambda: chiralirty_list)\n",
        "\n",
        "\n",
        "    def __call__(self, mol: MOLTYPE):\n",
        "\n",
        "        if mol:\n",
        "\n",
        "            # nodes = mol.GetNumAtoms()\n",
        "\n",
        "            # return nodes\n",
        "            \n",
        "            features = defaultdict(list)\n",
        "\n",
        "            for node in mol.GetAtoms():\n",
        "                \n",
        "                _iter = itertools.chain(\n",
        "                    self.node_features_from_atom_type(node),\n",
        "                    self.node_features_from_formal_charge(node),\n",
        "                    self.node_features_from_implicit_h(node),\n",
        "                    self.node_features_from_chirality(node)\n",
        "                )\n",
        "                \n",
        "                feature_vector = np.fromiter(_iter, int)\n",
        "\n",
        "                features['node_feats'].append(feature_vector)\n",
        "            \n",
        "            return features\n",
        "\n",
        "        else:\n",
        "            print(\"You need to enter some mol\")\n",
        "\n",
        "\n",
        "    def node_features_from_atom_type(self, node: Chem.rdchem.Atom) -> List:\n",
        "\n",
        "        # converting atom type features to one hot vector\n",
        "\n",
        "        return to_ohe(node.GetSymbol(), self.atoms)\n",
        "\n",
        "    def node_features_from_formal_charge(self, node: Chem.rdchem.Atom) -> List:\n",
        "\n",
        "        # converting atom formal charge feature to one hot vector\n",
        "        return to_ohe(node.GetFormalCharge(), self.charges)\n",
        "\n",
        "    def node_features_from_implicit_h(self, node: Chem.rdchem.Atom) -> List:\n",
        "\n",
        "        # converting implicith feature to one hot vector\n",
        "        return to_ohe(node.GetTotalNumHs(), self.implicit_h)\n",
        "\n",
        "    def node_features_from_chirality(self, node: Chem.rdchem.Atom) -> List:\n",
        "        try:\n",
        "            chiral_state = node.GetProp(\"_CIPCode\")\n",
        "        except KeyError:\n",
        "            chiral_state = self.chirality[0]  # \"None\"\n",
        "\n",
        "        return to_ohe(chiral_state, self.chirality)\n",
        "\n",
        "    ## at home try only one function to encode atom features with NAME\n",
        "    # def node_features_to_ohe(self, node:Chem.rdchem.Atom, name:str) -> List:\n",
        "\n",
        "    #     if name == 'atom_type':\n",
        "    #         return to_ohe(node.GetSymbol(), self.atoms)\n",
        "    #     elif name == 'charge':\n",
        "    #         return to_ohe(node.GetFormalCharge(), self.charge)\n",
        "    #     elif name == 'impH':\n",
        "    #         return to_ohe(node.GetTotalNumberHs(), self.implicit_h)\n",
        "    #     elif name == 'chirality'\n",
        "    #         try:\n",
        "    #             chiral_state = node.GetProp(\"_CIPCode\")\n",
        "    #         except KeyError:\n",
        "    #                 chiral_state = self._chirality[0]  # \"None\"\n",
        "\n",
        "    #         return to_ohe(chiral_state, self.chirality)\n",
        "    #     else:\n",
        "    #         raise ValueError('Not supported type name')\n",
        "     \n",
        "\n",
        "\n",
        "\n"
      ],
      "execution_count": null,
      "outputs": []
    },
    {
      "cell_type": "code",
      "metadata": {
        "colab": {
          "base_uri": "https://localhost:8080/"
        },
        "id": "lSwkEVSHzADA",
        "outputId": "88045d8d-c51a-40ec-8759-2521c0c81b40"
      },
      "source": [
        "# creating instance from version 2\n",
        "bar = NodeFeaturizer_V2()\n",
        "bar(mol)"
      ],
      "execution_count": null,
      "outputs": [
        {
          "output_type": "execute_result",
          "data": {
            "text/plain": [
              "defaultdict(list,\n",
              "            {'node_feats': [array([1, 0, 0, 0, 0, 0, 0, 0, 1, 0, 0, 1, 0, 1, 0, 0]),\n",
              "              array([0, 1, 0, 0, 0, 0, 0, 0, 1, 0, 1, 0, 0, 1, 0, 0]),\n",
              "              array([0, 1, 0, 0, 0, 0, 0, 0, 1, 0, 0, 1, 0, 1, 0, 0])]})"
            ]
          },
          "metadata": {
            "tags": []
          },
          "execution_count": 182
        }
      ]
    },
    {
      "cell_type": "code",
      "metadata": {
        "colab": {
          "base_uri": "https://localhost:8080/",
          "height": 171
        },
        "id": "sIfqXAjp1Gp4",
        "outputId": "cddca11f-c66c-4dc2-8f25-a148a37ef9ef"
      },
      "source": [
        "mol"
      ],
      "execution_count": null,
      "outputs": [
        {
          "output_type": "execute_result",
          "data": {
            "image/png": "[encoded data removed]",
            "text/plain": [
              "<rdkit.Chem.rdchem.Mol at 0x7fba622fc170>"
            ],
            "image/svg+xml": "<?xml version='1.0' encoding='iso-8859-1'?>\n<svg version='1.1' baseProfile='full'\n              xmlns='http://www.w3.org/2000/svg'\n                      xmlns:rdkit='http://www.rdkit.org/xml'\n                      xmlns:xlink='http://www.w3.org/1999/xlink'\n                  xml:space='preserve'\nwidth='450px' height='150px' viewBox='0 0 450 150'>\n<!-- END OF HEADER -->\n<rect style='opacity:1.0;fill:#FFFFFF;stroke:none' width='450' height='150' x='0' y='0'> </rect>\n<path class='bond-0' d='M 223.84,115.68 L 142.398,68.6589' style='fill:none;fill-rule:evenodd;stroke:#000000;stroke-width:2.0px;stroke-linecap:butt;stroke-linejoin:miter;stroke-opacity:1' />\n<path class='bond-0' d='M 142.398,68.6589 L 60.9557,21.6382' style='fill:none;fill-rule:evenodd;stroke:#FF0000;stroke-width:2.0px;stroke-linecap:butt;stroke-linejoin:miter;stroke-opacity:1' />\n<path class='bond-0' d='M 202.927,151.902 L 121.485,104.881' style='fill:none;fill-rule:evenodd;stroke:#000000;stroke-width:2.0px;stroke-linecap:butt;stroke-linejoin:miter;stroke-opacity:1' />\n<path class='bond-0' d='M 121.485,104.881 L 40.0427,57.8607' style='fill:none;fill-rule:evenodd;stroke:#FF0000;stroke-width:2.0px;stroke-linecap:butt;stroke-linejoin:miter;stroke-opacity:1' />\n<path class='bond-1' d='M 213.384,133.791 L 294.826,86.7701' style='fill:none;fill-rule:evenodd;stroke:#000000;stroke-width:2.0px;stroke-linecap:butt;stroke-linejoin:miter;stroke-opacity:1' />\n<path class='bond-1' d='M 294.826,86.7701 L 376.268,39.7495' style='fill:none;fill-rule:evenodd;stroke:#FF0000;stroke-width:2.0px;stroke-linecap:butt;stroke-linejoin:miter;stroke-opacity:1' />\n<path  class='atom-1' d='M 19.2709 29.3054\nQ 19.2709 22.5054, 22.6309 18.7054\nQ 25.9909 14.9054, 32.2709 14.9054\nQ 38.5509 14.9054, 41.9109 18.7054\nQ 45.2709 22.5054, 45.2709 29.3054\nQ 45.2709 36.1854, 41.8709 40.1054\nQ 38.4709 43.9854, 32.2709 43.9854\nQ 26.0309 43.9854, 22.6309 40.1054\nQ 19.2709 36.2254, 19.2709 29.3054\nM 32.2709 40.7854\nQ 36.5909 40.7854, 38.9109 37.9054\nQ 41.2709 34.9854, 41.2709 29.3054\nQ 41.2709 23.7454, 38.9109 20.9454\nQ 36.5909 18.1054, 32.2709 18.1054\nQ 27.9509 18.1054, 25.5909 20.9054\nQ 23.2709 23.7054, 23.2709 29.3054\nQ 23.2709 35.0254, 25.5909 37.9054\nQ 27.9509 40.7854, 32.2709 40.7854\n' fill='#FF0000'/>\n<path  class='atom-2' d='M 381.496 29.3054\nQ 381.496 22.5054, 384.856 18.7054\nQ 388.216 14.9054, 394.496 14.9054\nQ 400.776 14.9054, 404.136 18.7054\nQ 407.496 22.5054, 407.496 29.3054\nQ 407.496 36.1854, 404.096 40.1054\nQ 400.696 43.9854, 394.496 43.9854\nQ 388.256 43.9854, 384.856 40.1054\nQ 381.496 36.2254, 381.496 29.3054\nM 394.496 40.7854\nQ 398.816 40.7854, 401.136 37.9054\nQ 403.496 34.9854, 403.496 29.3054\nQ 403.496 23.7454, 401.136 20.9454\nQ 398.816 18.1054, 394.496 18.1054\nQ 390.176 18.1054, 387.816 20.9054\nQ 385.496 23.7054, 385.496 29.3054\nQ 385.496 35.0254, 387.816 37.9054\nQ 390.176 40.7854, 394.496 40.7854\n' fill='#FF0000'/>\n<path  class='atom-2' d='M 410.896 15.2254\nL 414.736 15.2254\nL 414.736 27.2654\nL 429.216 27.2654\nL 429.216 15.2254\nL 433.056 15.2254\nL 433.056 43.5454\nL 429.216 43.5454\nL 429.216 30.4654\nL 414.736 30.4654\nL 414.736 43.5454\nL 410.896 43.5454\nL 410.896 15.2254\n' fill='#FF0000'/>\n</svg>\n"
          },
          "metadata": {
            "tags": []
          },
          "execution_count": 164
        }
      ]
    },
    {
      "cell_type": "code",
      "metadata": {
        "colab": {
          "base_uri": "https://localhost:8080/"
        },
        "id": "lpQqWxtQ1c11",
        "outputId": "31da67bd-80c4-4fc2-dff7-8d42706662b4"
      },
      "source": [
        "print(bar.atoms)\n",
        "print(bar.charges)\n",
        "print(bar.chirality)\n",
        "print(bar.implicit_h)\n",
        "print('------------')\n",
        "\n",
        "for node in mol.GetAtoms():\n",
        "    _atom_symbol = node.GetSymbol()\n",
        "    print(_atom_symbol)\n",
        "    features_from_atom = bar.node_features_from_formal_charge(node)\n",
        "    print(features_from_atom)\n",
        "    print(np.array(features_from_atom, dtype=np.int))"
      ],
      "execution_count": null,
      "outputs": [
        {
          "output_type": "stream",
          "text": [
            "['C', 'O', 'N', 'S', 'F', 'Cl', 'Br']\n",
            "[-1, 0, 1]\n",
            "['None', 'S', 'R']\n",
            "[0, 1, 2]\n",
            "------------\n",
            "C\n",
            "[False, True, False]\n",
            "[0 1 0]\n",
            "O\n",
            "[False, True, False]\n",
            "[0 1 0]\n",
            "O\n",
            "[False, True, False]\n",
            "[0 1 0]\n"
          ],
          "name": "stdout"
        }
      ]
    },
    {
      "cell_type": "code",
      "metadata": {
        "colab": {
          "base_uri": "https://localhost:8080/",
          "height": 283
        },
        "id": "Le0Uqsm16VVH",
        "outputId": "74427878-2d32-4ee2-fef9-841a55222945"
      },
      "source": [
        "bar('d')"
      ],
      "execution_count": null,
      "outputs": [
        {
          "output_type": "error",
          "ename": "AttributeError",
          "evalue": "ignored",
          "traceback": [
            "\u001b[0;31m---------------------------------------------------------------------------\u001b[0m",
            "\u001b[0;31mAttributeError\u001b[0m                            Traceback (most recent call last)",
            "\u001b[0;32m<ipython-input-192-691953478cac>\u001b[0m in \u001b[0;36m<module>\u001b[0;34m()\u001b[0m\n\u001b[0;32m----> 1\u001b[0;31m \u001b[0mbar\u001b[0m\u001b[0;34m(\u001b[0m\u001b[0;34m'd'\u001b[0m\u001b[0;34m)\u001b[0m\u001b[0;34m\u001b[0m\u001b[0;34m\u001b[0m\u001b[0m\n\u001b[0m",
            "\u001b[0;32m<ipython-input-181-5097d2b996bf>\u001b[0m in \u001b[0;36m__call__\u001b[0;34m(self, mol)\u001b[0m\n\u001b[1;32m     43\u001b[0m             \u001b[0mfeatures\u001b[0m \u001b[0;34m=\u001b[0m \u001b[0mdefaultdict\u001b[0m\u001b[0;34m(\u001b[0m\u001b[0mlist\u001b[0m\u001b[0;34m)\u001b[0m\u001b[0;34m\u001b[0m\u001b[0;34m\u001b[0m\u001b[0m\n\u001b[1;32m     44\u001b[0m \u001b[0;34m\u001b[0m\u001b[0m\n\u001b[0;32m---> 45\u001b[0;31m             \u001b[0;32mfor\u001b[0m \u001b[0mnode\u001b[0m \u001b[0;32min\u001b[0m \u001b[0mmol\u001b[0m\u001b[0;34m.\u001b[0m\u001b[0mGetAtoms\u001b[0m\u001b[0;34m(\u001b[0m\u001b[0;34m)\u001b[0m\u001b[0;34m:\u001b[0m\u001b[0;34m\u001b[0m\u001b[0;34m\u001b[0m\u001b[0m\n\u001b[0m\u001b[1;32m     46\u001b[0m \u001b[0;34m\u001b[0m\u001b[0m\n\u001b[1;32m     47\u001b[0m                 _iter = itertools.chain(\n",
            "\u001b[0;31mAttributeError\u001b[0m: 'str' object has no attribute 'GetAtoms'"
          ]
        }
      ]
    },
    {
      "cell_type": "markdown",
      "metadata": {
        "id": "ux7TE7gN5PP0"
      },
      "source": [
        "#### **Final Version** \n",
        "\n",
        "*   default name attribute\n",
        "*   type checking in call function\n",
        "*   node features to pytorch tensor"
      ]
    },
    {
      "cell_type": "code",
      "metadata": {
        "id": "1bC0uz1V5Oop"
      },
      "source": [
        "from dataclasses import dataclass, field\n",
        "from typing import List\n",
        "from rdkit import Chem\n",
        "from collections import defaultdict\n",
        "import itertools\n",
        "import numpy as np\n",
        "import dgl.backend as F\n",
        "\n",
        "MOLTYPE = Chem.rdchem.Mol\n",
        "\n",
        "## Final NodeFeaturizer\n",
        "@dataclass\n",
        "class NodeFeaturizer:\n",
        "    \"\"\"\n",
        "    Tutorial NodeFeaturizer Class (final version)\n",
        "\n",
        "    Arguments:\n",
        "    ---------\n",
        "    atoms: \n",
        "        list contains atom types specifically chosen for this tutorial\n",
        "    charges:\n",
        "        list contains formal charges values\n",
        "    impliciti_h: \n",
        "        list contains implicit_h values\n",
        "    chirality:\n",
        "        list contains chirality\n",
        "    \"\"\"\n",
        "\n",
        "    name: str = 'node_features'\n",
        "    atoms: List = field(default_factory=lambda: atom_list)\n",
        "    charges: List = field(default_factory=lambda: charge_list)\n",
        "    implicit_h: List = field(default_factory=lambda: impH_list)\n",
        "    chirality: List = field(default_factory=lambda: chiralirty_list)\n",
        "\n",
        "\n",
        "    def __call__(self, mol: MOLTYPE):\n",
        "\n",
        "        if isinstance(mol, MOLTYPE):\n",
        "            \n",
        "            features = defaultdict(list)\n",
        "\n",
        "            for node in mol.GetAtoms():\n",
        "                _iter = itertools.chain(\n",
        "                    self.node_features_from_atom_type(node),\n",
        "                    self.node_features_from_formal_charge(node),\n",
        "                    self.node_features_from_implicit_h(node),\n",
        "                    self.node_features_from_chirality(node)\n",
        "                )\n",
        "\n",
        "                feature_vector = np.fromiter(_iter, int)\n",
        "                features[self.name].append(feature_vector)\n",
        "\n",
        "            last_features = defaultdict(list)\n",
        "\n",
        "            # converting numpy array to pytorch tensors\n",
        "            for key, items in features.items():\n",
        "                values = np.stack(items)\n",
        "                last_features[key] = F.zerocopy_from_numpy(values.astype(np.float32))\n",
        "\n",
        "            return last_features\n",
        "\n",
        "        else:\n",
        "            raise ValueError('You can only input rdkit mol type')\n",
        "\n",
        "\n",
        "    def node_features_from_atom_type(self, node: Chem.rdchem.Atom) -> List:\n",
        "\n",
        "        # converting atom type features to one hot vector\n",
        "        return to_ohe(node.GetSymbol(), self.atoms)\n",
        "\n",
        "    def node_features_from_formal_charge(self, node: Chem.rdchem.Atom) -> List:\n",
        "\n",
        "        # converting atom formal charge feature to one hot vector\n",
        "        return to_ohe(node.GetFormalCharge(), self.charges)\n",
        "\n",
        "    def node_features_from_implicit_h(self, node: Chem.rdchem.Atom) -> List:\n",
        "\n",
        "        # converting implicith feature to one hot vector\n",
        "        return to_ohe(node.GetTotalNumHs(), self.implicit_h)\n",
        "\n",
        "    def node_features_from_chirality(self, node: Chem.rdchem.Atom) -> List:\n",
        "        try:\n",
        "            chiral_state = node.GetProp(\"_CIPCode\")\n",
        "        except KeyError:\n",
        "            chiral_state = self.chirality[0]  # \"None\"\n",
        "\n",
        "        return to_ohe(chiral_state, self.chirality)\n",
        "\n"
      ],
      "execution_count": null,
      "outputs": []
    },
    {
      "cell_type": "code",
      "metadata": {
        "colab": {
          "base_uri": "https://localhost:8080/",
          "height": 317
        },
        "id": "5T5RN8BA1hYP",
        "outputId": "533489b0-0de1-4c74-8bb6-c1dda18c192e"
      },
      "source": [
        "# let`s check type error\n",
        "zoo = NodeFeaturizer()\n",
        "# zoo('adfdf')"
      ],
      "execution_count": null,
      "outputs": [
        {
          "output_type": "error",
          "ename": "ValueError",
          "evalue": "ignored",
          "traceback": [
            "\u001b[0;31m---------------------------------------------------------------------------\u001b[0m",
            "\u001b[0;31mValueError\u001b[0m                                Traceback (most recent call last)",
            "\u001b[0;32m<ipython-input-200-8bb98cefa0dd>\u001b[0m in \u001b[0;36m<module>\u001b[0;34m()\u001b[0m\n\u001b[1;32m      1\u001b[0m \u001b[0;31m# let`s check type error\u001b[0m\u001b[0;34m\u001b[0m\u001b[0;34m\u001b[0m\u001b[0;34m\u001b[0m\u001b[0m\n\u001b[1;32m      2\u001b[0m \u001b[0mzoo\u001b[0m \u001b[0;34m=\u001b[0m \u001b[0mNodeFeaturizer\u001b[0m\u001b[0;34m(\u001b[0m\u001b[0;34m)\u001b[0m\u001b[0;34m\u001b[0m\u001b[0;34m\u001b[0m\u001b[0m\n\u001b[0;32m----> 3\u001b[0;31m \u001b[0mzoo\u001b[0m\u001b[0;34m(\u001b[0m\u001b[0;34m'adfdf'\u001b[0m\u001b[0;34m)\u001b[0m\u001b[0;34m\u001b[0m\u001b[0;34m\u001b[0m\u001b[0m\n\u001b[0m",
            "\u001b[0;32m<ipython-input-199-fc2bda55cad0>\u001b[0m in \u001b[0;36m__call__\u001b[0;34m(self, mol)\u001b[0m\n\u001b[1;32m     61\u001b[0m \u001b[0;34m\u001b[0m\u001b[0m\n\u001b[1;32m     62\u001b[0m         \u001b[0;32melse\u001b[0m\u001b[0;34m:\u001b[0m\u001b[0;34m\u001b[0m\u001b[0;34m\u001b[0m\u001b[0m\n\u001b[0;32m---> 63\u001b[0;31m             \u001b[0;32mraise\u001b[0m \u001b[0mValueError\u001b[0m\u001b[0;34m(\u001b[0m\u001b[0;34m'You can only input rdkit mol type'\u001b[0m\u001b[0;34m)\u001b[0m\u001b[0;34m\u001b[0m\u001b[0;34m\u001b[0m\u001b[0m\n\u001b[0m\u001b[1;32m     64\u001b[0m \u001b[0;34m\u001b[0m\u001b[0m\n\u001b[1;32m     65\u001b[0m \u001b[0;34m\u001b[0m\u001b[0m\n",
            "\u001b[0;31mValueError\u001b[0m: You can only input rdkit mol type"
          ]
        }
      ]
    },
    {
      "cell_type": "code",
      "metadata": {
        "colab": {
          "base_uri": "https://localhost:8080/"
        },
        "id": "YH2zhFVX61Ae",
        "outputId": "9c33379f-b501-45c7-afba-746abd7a0d5e"
      },
      "source": [
        "# let`s call with mol type\n",
        "zoo = NodeFeaturizer()\n",
        "zoo(mol)"
      ],
      "execution_count": null,
      "outputs": [
        {
          "output_type": "execute_result",
          "data": {
            "text/plain": [
              "defaultdict(list,\n",
              "            {'node_features': tensor([[1., 0., 0., 0., 0., 0., 0., 0., 1., 0., 0., 1., 0., 1., 0., 0.],\n",
              "                     [0., 1., 0., 0., 0., 0., 0., 0., 1., 0., 1., 0., 0., 1., 0., 0.],\n",
              "                     [0., 1., 0., 0., 0., 0., 0., 0., 1., 0., 0., 1., 0., 1., 0., 0.]])})"
            ]
          },
          "metadata": {
            "tags": []
          },
          "execution_count": 201
        }
      ]
    },
    {
      "cell_type": "code",
      "metadata": {
        "colab": {
          "base_uri": "https://localhost:8080/"
        },
        "id": "UCsjpWTk7HaE",
        "outputId": "109afc08-6c66-47c1-9f15-9209519e0ecd"
      },
      "source": [
        "# let`s check size\n",
        "zoo(mol)['node_features'].size()"
      ],
      "execution_count": null,
      "outputs": [
        {
          "output_type": "execute_result",
          "data": {
            "text/plain": [
              "torch.Size([3, 16])"
            ]
          },
          "metadata": {
            "tags": []
          },
          "execution_count": 202
        }
      ]
    },
    {
      "cell_type": "markdown",
      "metadata": {
        "id": "o4TOQsN_7U17"
      },
      "source": [
        "FINAL VERSION of YOUR PRESENTATION\n",
        "\n",
        "<p align=\"center\">\n",
        "  <img src=\"https://drive.google.com/uc?id=1yzszhfwOuZWxpEvTWdYpVIynjyYu-ZTH\" />\n",
        "</p>\n",
        "\n"
      ]
    },
    {
      "cell_type": "markdown",
      "metadata": {
        "id": "GZyvdZmO7vUO"
      },
      "source": [
        "### **2.4.2 Edge Representation from Stratch**\n",
        "\n",
        "Let`s start with simple edge features\n",
        "\n",
        "## Seleted Bond Features\n",
        "---\n",
        "\n",
        "\n",
        "|    Bond Features  |   Elements|\n",
        "|------|------|\n",
        "|   Bond Types  | Single, Double, Triple, Aromatic, ..,  etc| \n",
        "|   etc.  | etc. |"
      ]
    },
    {
      "cell_type": "code",
      "metadata": {
        "id": "_zst5xkN7une"
      },
      "source": [
        "from enum import Enum, unique\n",
        "from rdkit.Chem import BondType\n",
        "\n",
        "\n",
        "BONDTYPE = Chem.BondType\n",
        "\n",
        "@unique\n",
        "class Bonds(Enum):\n",
        "    SINGLE = BondType.SINGLE\n",
        "    DOUBLE = BondType.DOUBLE\n",
        "    TRIPLE = BondType.TRIPLE\n",
        "    AROMATIC = BondType.AROMATIC\n",
        "\n",
        "\n",
        "bond_types = [bond.value for bond in Bonds]\n"
      ],
      "execution_count": null,
      "outputs": []
    },
    {
      "cell_type": "code",
      "metadata": {
        "colab": {
          "base_uri": "https://localhost:8080/"
        },
        "id": "PqwRssCp756d",
        "outputId": "b6fa7c2d-4b0e-4f74-929f-1d73d28c5151"
      },
      "source": [
        "bond_types"
      ],
      "execution_count": null,
      "outputs": [
        {
          "output_type": "execute_result",
          "data": {
            "text/plain": [
              "[rdkit.Chem.rdchem.BondType.SINGLE,\n",
              " rdkit.Chem.rdchem.BondType.DOUBLE,\n",
              " rdkit.Chem.rdchem.BondType.TRIPLE,\n",
              " rdkit.Chem.rdchem.BondType.AROMATIC]"
            ]
          },
          "metadata": {
            "tags": []
          },
          "execution_count": 204
        }
      ]
    },
    {
      "cell_type": "code",
      "metadata": {
        "id": "Zj-66Vgj768u"
      },
      "source": [
        "@dataclass\n",
        "class EdgeFeaturizer:\n",
        "    \"\"\"\n",
        "    Tutorial NodeFeaturizer Class\n",
        "\n",
        "    Arguments:\n",
        "    ---------\n",
        "    name: str\n",
        "        name in feature dictionary\n",
        "    bonds: List[BondType]\n",
        "        list contains bondtype types specifically chosen for this tutorial\n",
        "   \n",
        "    \"\"\"\n",
        "    name: str = 'edge_features'\n",
        "    bonds: List = field(default_factory=lambda: bond_types)\n",
        "\n",
        "    def __call__(self, mol:MOLTYPE):\n",
        "\n",
        "        if isinstance(mol, MOLTYPE):\n",
        "            features = defaultdict(list)\n",
        "            for bond in mol.GetBonds():\n",
        "                # \n",
        "                btype = bond_types.index(bond.GetBondType())\n",
        "                \n",
        "                _iter = itertools.chain(\n",
        "                    self.edge_features_from_bond_type(bond)\n",
        "                )\n",
        "\n",
        "                feature_vector = np.fromiter(_iter, int)\n",
        "\n",
        "                # One bond between atom u and v corresponds to two edges (u, v) and (v, u)\n",
        "                features[self.name].extend([feature_vector, feature_vector.copy()])\n",
        "\n",
        "            last_features = defaultdict(list)\n",
        "\n",
        "            for key, items in features.items():\n",
        "                values = np.stack(items)\n",
        "                last_features[key] = F.zerocopy_from_numpy(values.astype(np.float32))\n",
        "            return last_features\n",
        "\n",
        "\n",
        "        else:\n",
        "            raise ValueError('You can only input rdkit mol type')\n",
        "    \n",
        "    def edge_features_from_bond_type(self, edge):\n",
        "        \n",
        "        return to_ohe(edge.GetBondType(), self.bonds)"
      ],
      "execution_count": null,
      "outputs": []
    },
    {
      "cell_type": "code",
      "metadata": {
        "colab": {
          "base_uri": "https://localhost:8080/"
        },
        "id": "7MT5UNyp8WYU",
        "outputId": "d8f6d225-e7ae-4450-dcba-4570009f7626"
      },
      "source": [
        "for bond in mol.GetBonds():\n",
        "    btype = bond_types.index(bond.GetBondType())\n",
        "    print(btype)"
      ],
      "execution_count": null,
      "outputs": [
        {
          "output_type": "stream",
          "text": [
            "1\n",
            "0\n"
          ],
          "name": "stdout"
        }
      ]
    },
    {
      "cell_type": "code",
      "metadata": {
        "colab": {
          "base_uri": "https://localhost:8080/"
        },
        "id": "sJn_EyDe8X0y",
        "outputId": "ea0121f5-d7ec-43f2-c593-89767b07b786"
      },
      "source": [
        "e = EdgeFeaturizer()\n",
        "e(mol)"
      ],
      "execution_count": null,
      "outputs": [
        {
          "output_type": "execute_result",
          "data": {
            "text/plain": [
              "defaultdict(list, {'edge_features': tensor([[0., 1., 0., 0.],\n",
              "                     [0., 1., 0., 0.],\n",
              "                     [1., 0., 0., 0.],\n",
              "                     [1., 0., 0., 0.]])})"
            ]
          },
          "metadata": {
            "tags": []
          },
          "execution_count": 209
        }
      ]
    },
    {
      "cell_type": "markdown",
      "metadata": {
        "id": "jbzOchh78z0o"
      },
      "source": [
        "<p align=\"center\">\n",
        "  <img src=\"https://drive.google.com/uc?id=1g1RWRnLaSi0qjWfcOZ5xL1tkYaC5iyyb\" />\n",
        "</p>\n"
      ]
    },
    {
      "cell_type": "code",
      "metadata": {
        "colab": {
          "base_uri": "https://localhost:8080/"
        },
        "id": "gDPJ06y0_pS9",
        "outputId": "02356673-601b-468a-e48b-0b70b47dd006"
      },
      "source": [
        "my_node_featurizer = NodeFeaturizer()\n",
        "my_edge_featurizer = EdgeFeaturizer()\n",
        "\n",
        "my_node_featurizer(mol), my_edge_featurizer(mol)"
      ],
      "execution_count": null,
      "outputs": [
        {
          "output_type": "execute_result",
          "data": {
            "text/plain": [
              "(defaultdict(list,\n",
              "             {'node_features': tensor([[1., 0., 0., 0., 0., 0., 0., 0., 1., 0., 0., 1., 0., 1., 0., 0.],\n",
              "                      [0., 1., 0., 0., 0., 0., 0., 0., 1., 0., 1., 0., 0., 1., 0., 0.],\n",
              "                      [0., 1., 0., 0., 0., 0., 0., 0., 1., 0., 0., 1., 0., 1., 0., 0.]])}),\n",
              " defaultdict(list, {'edge_features': tensor([[0., 1., 0., 0.],\n",
              "                      [0., 1., 0., 0.],\n",
              "                      [1., 0., 0., 0.],\n",
              "                      [1., 0., 0., 0.]])}))"
            ]
          },
          "metadata": {
            "tags": []
          },
          "execution_count": 219
        }
      ]
    },
    {
      "cell_type": "markdown",
      "metadata": {
        "id": "fyx68xQx9JI0"
      },
      "source": [
        "## **2.5 Creating graph with your own node and edge featurizers**"
      ]
    },
    {
      "cell_type": "markdown",
      "metadata": {
        "id": "3y2rRpGN9yF6"
      },
      "source": [
        "let`s how we created graph using external libraries\n"
      ]
    },
    {
      "cell_type": "code",
      "metadata": {
        "colab": {
          "base_uri": "https://localhost:8080/",
          "height": 171
        },
        "id": "ADeT1FaT9xOY",
        "outputId": "011f3363-a657-4c71-b281-c191558644d0"
      },
      "source": [
        "mol"
      ],
      "execution_count": null,
      "outputs": [
        {
          "output_type": "execute_result",
          "data": {
            "image/png": "[encoded data removed]",
            "text/plain": [
              "<rdkit.Chem.rdchem.Mol at 0x7fba622fc170>"
            ],
            "image/svg+xml": "<?xml version='1.0' encoding='iso-8859-1'?>\n<svg version='1.1' baseProfile='full'\n              xmlns='http://www.w3.org/2000/svg'\n                      xmlns:rdkit='http://www.rdkit.org/xml'\n                      xmlns:xlink='http://www.w3.org/1999/xlink'\n                  xml:space='preserve'\nwidth='450px' height='150px' viewBox='0 0 450 150'>\n<!-- END OF HEADER -->\n<rect style='opacity:1.0;fill:#FFFFFF;stroke:none' width='450' height='150' x='0' y='0'> </rect>\n<path class='bond-0' d='M 223.84,115.68 L 142.398,68.6589' style='fill:none;fill-rule:evenodd;stroke:#000000;stroke-width:2.0px;stroke-linecap:butt;stroke-linejoin:miter;stroke-opacity:1' />\n<path class='bond-0' d='M 142.398,68.6589 L 60.9557,21.6382' style='fill:none;fill-rule:evenodd;stroke:#FF0000;stroke-width:2.0px;stroke-linecap:butt;stroke-linejoin:miter;stroke-opacity:1' />\n<path class='bond-0' d='M 202.927,151.902 L 121.485,104.881' style='fill:none;fill-rule:evenodd;stroke:#000000;stroke-width:2.0px;stroke-linecap:butt;stroke-linejoin:miter;stroke-opacity:1' />\n<path class='bond-0' d='M 121.485,104.881 L 40.0427,57.8607' style='fill:none;fill-rule:evenodd;stroke:#FF0000;stroke-width:2.0px;stroke-linecap:butt;stroke-linejoin:miter;stroke-opacity:1' />\n<path class='bond-1' d='M 213.384,133.791 L 294.826,86.7701' style='fill:none;fill-rule:evenodd;stroke:#000000;stroke-width:2.0px;stroke-linecap:butt;stroke-linejoin:miter;stroke-opacity:1' />\n<path class='bond-1' d='M 294.826,86.7701 L 376.268,39.7495' style='fill:none;fill-rule:evenodd;stroke:#FF0000;stroke-width:2.0px;stroke-linecap:butt;stroke-linejoin:miter;stroke-opacity:1' />\n<path  class='atom-1' d='M 19.2709 29.3054\nQ 19.2709 22.5054, 22.6309 18.7054\nQ 25.9909 14.9054, 32.2709 14.9054\nQ 38.5509 14.9054, 41.9109 18.7054\nQ 45.2709 22.5054, 45.2709 29.3054\nQ 45.2709 36.1854, 41.8709 40.1054\nQ 38.4709 43.9854, 32.2709 43.9854\nQ 26.0309 43.9854, 22.6309 40.1054\nQ 19.2709 36.2254, 19.2709 29.3054\nM 32.2709 40.7854\nQ 36.5909 40.7854, 38.9109 37.9054\nQ 41.2709 34.9854, 41.2709 29.3054\nQ 41.2709 23.7454, 38.9109 20.9454\nQ 36.5909 18.1054, 32.2709 18.1054\nQ 27.9509 18.1054, 25.5909 20.9054\nQ 23.2709 23.7054, 23.2709 29.3054\nQ 23.2709 35.0254, 25.5909 37.9054\nQ 27.9509 40.7854, 32.2709 40.7854\n' fill='#FF0000'/>\n<path  class='atom-2' d='M 381.496 29.3054\nQ 381.496 22.5054, 384.856 18.7054\nQ 388.216 14.9054, 394.496 14.9054\nQ 400.776 14.9054, 404.136 18.7054\nQ 407.496 22.5054, 407.496 29.3054\nQ 407.496 36.1854, 404.096 40.1054\nQ 400.696 43.9854, 394.496 43.9854\nQ 388.256 43.9854, 384.856 40.1054\nQ 381.496 36.2254, 381.496 29.3054\nM 394.496 40.7854\nQ 398.816 40.7854, 401.136 37.9054\nQ 403.496 34.9854, 403.496 29.3054\nQ 403.496 23.7454, 401.136 20.9454\nQ 398.816 18.1054, 394.496 18.1054\nQ 390.176 18.1054, 387.816 20.9054\nQ 385.496 23.7054, 385.496 29.3054\nQ 385.496 35.0254, 387.816 37.9054\nQ 390.176 40.7854, 394.496 40.7854\n' fill='#FF0000'/>\n<path  class='atom-2' d='M 410.896 15.2254\nL 414.736 15.2254\nL 414.736 27.2654\nL 429.216 27.2654\nL 429.216 15.2254\nL 433.056 15.2254\nL 433.056 43.5454\nL 429.216 43.5454\nL 429.216 30.4654\nL 414.736 30.4654\nL 414.736 43.5454\nL 410.896 43.5454\nL 410.896 15.2254\n' fill='#FF0000'/>\n</svg>\n"
          },
          "metadata": {
            "tags": []
          },
          "execution_count": 213
        }
      ]
    },
    {
      "cell_type": "code",
      "metadata": {
        "colab": {
          "base_uri": "https://localhost:8080/",
          "height": 35
        },
        "id": "-U1yiFpe-S1f",
        "outputId": "b953682d-9648-4a24-bb89-c5a8db82687a"
      },
      "source": [
        "smile"
      ],
      "execution_count": null,
      "outputs": [
        {
          "output_type": "execute_result",
          "data": {
            "application/vnd.google.colaboratory.intrinsic+json": {
              "type": "string"
            },
            "text/plain": [
              "'C(=O)O'"
            ]
          },
          "metadata": {
            "tags": []
          },
          "execution_count": 214
        }
      ]
    },
    {
      "cell_type": "code",
      "metadata": {
        "id": "Oq1WIUgY9ISK"
      },
      "source": [
        "from dgllife.utils import CanonicalAtomFeaturizer, CanonicalBondFeaturizer, smiles_to_bigraph, mol_to_bigraph\n",
        "\n",
        "\n",
        "\n",
        "# calling built-ing node and bond representation\n",
        "atom_featurizer = CanonicalAtomFeaturizer('atom_feat')\n",
        "edge_featurizer = CanonicalBondFeaturizer('edge_feat')\n",
        "\n",
        "# graph from smiles\n",
        "g_from_smiles = smiles_to_bigraph(smile, \n",
        "                                  node_featurizer=atom_featurizer,\n",
        "                                  edge_featurizer=edge_featurizer,\n",
        "                                  )\n",
        "# graph from mol\n",
        "g_from_mol = mol_to_bigraph(mol, \n",
        "                            node_featurizer=atom_featurizer,\n",
        "                            edge_featurizer=edge_featurizer,\n",
        "                            )\n"
      ],
      "execution_count": null,
      "outputs": []
    },
    {
      "cell_type": "code",
      "metadata": {
        "colab": {
          "base_uri": "https://localhost:8080/"
        },
        "id": "GGrkOG7V-ctq",
        "outputId": "c97f4f60-16f2-405e-b7f8-10fabbfd5a33"
      },
      "source": [
        "g_from_mol"
      ],
      "execution_count": null,
      "outputs": [
        {
          "output_type": "execute_result",
          "data": {
            "text/plain": [
              "Graph(num_nodes=3, num_edges=4,\n",
              "      ndata_schemes={'atom_feat': Scheme(shape=(74,), dtype=torch.float32)}\n",
              "      edata_schemes={'edge_feat': Scheme(shape=(12,), dtype=torch.float32)})"
            ]
          },
          "metadata": {
            "tags": []
          },
          "execution_count": 216
        }
      ]
    },
    {
      "cell_type": "markdown",
      "metadata": {
        "id": "KKpLKMRc-rL7"
      },
      "source": [
        "**Let`s define compound to graph function from stratch**\n",
        "    - define to_dgl_graph function\n",
        "    - with predefined featurizers"
      ]
    },
    {
      "cell_type": "code",
      "metadata": {
        "id": "_unBfag7-qgV"
      },
      "source": [
        "# simple graph from mol rdkit mol object\n",
        "def to_dgl_graph(mol: MOLTYPE, node_featurizer=None, edge_featurizer=None) -> dgl.DGLGraph:\n",
        "    \n",
        "\n",
        "    # graph with empty (u, v)\n",
        "    g = dgl.graph(([], []), idtype=torch.int32)\n",
        "\n",
        "     # Add nodes\n",
        "    num_atoms = mol.GetNumAtoms()\n",
        "    g.add_nodes(num_atoms)\n",
        "\n",
        "    # Add edges\n",
        "    src_list = []\n",
        "    dst_list = []\n",
        "    num_bonds = mol.GetNumBonds()\n",
        "    for i in range(num_bonds):\n",
        "        bond = mol.GetBondWithIdx(i)\n",
        "        u = bond.GetBeginAtomIdx()\n",
        "        v = bond.GetEndAtomIdx()\n",
        "        src_list.extend([u, v])\n",
        "        dst_list.extend([v, u])\n",
        "\n",
        "    g.add_edges(torch.IntTensor(src_list), torch.IntTensor(dst_list))\n",
        "\n",
        "\n",
        "    ## IMPORTANT\n",
        "    # add node featurizer\n",
        "    g.ndata.update(node_featurizer(mol))\n",
        "    # add edge featurizer\n",
        "    g.edata.update(edge_featurizer(mol))\n",
        "\n",
        "    return g"
      ],
      "execution_count": null,
      "outputs": []
    },
    {
      "cell_type": "code",
      "metadata": {
        "id": "w3qUT3RN8wNs"
      },
      "source": [
        "my_node_featurizer = NodeFeaturizer() # the node featurizer you have just created\n",
        "my_edge_featurizer = EdgeFeaturizer() # the edge featurizer you have just created\n",
        "\n",
        "\n",
        "# lets check if it works\n",
        "my_graph = to_dgl_graph(mol,\n",
        "                        # your own featurizers that you have just created\n",
        "                        node_featurizer=my_node_featurizer,\n",
        "                        edge_featurizer=my_edge_featurizer,\n",
        "                        )\n",
        "\n"
      ],
      "execution_count": null,
      "outputs": []
    },
    {
      "cell_type": "code",
      "metadata": {
        "colab": {
          "base_uri": "https://localhost:8080/"
        },
        "id": "PMgnq-P2_nke",
        "outputId": "4a5895aa-dafb-49b1-9f27-9b6bb5e26afa"
      },
      "source": [
        "my_graph"
      ],
      "execution_count": null,
      "outputs": [
        {
          "output_type": "execute_result",
          "data": {
            "text/plain": [
              "Graph(num_nodes=3, num_edges=4,\n",
              "      ndata_schemes={'node_features': Scheme(shape=(16,), dtype=torch.float32)}\n",
              "      edata_schemes={'edge_features': Scheme(shape=(4,), dtype=torch.float32)})"
            ]
          },
          "metadata": {
            "tags": []
          },
          "execution_count": 221
        }
      ]
    },
    {
      "cell_type": "code",
      "metadata": {
        "colab": {
          "base_uri": "https://localhost:8080/"
        },
        "id": "4iMaRTif_T2Q",
        "outputId": "2aeb7b89-330b-4683-b618-a9d1d62186a7"
      },
      "source": [
        "my_graph.ndata"
      ],
      "execution_count": null,
      "outputs": [
        {
          "output_type": "execute_result",
          "data": {
            "text/plain": [
              "{'node_features': tensor([[1., 0., 0., 0., 0., 0., 0., 0., 1., 0., 0., 1., 0., 1., 0., 0.],\n",
              "        [0., 1., 0., 0., 0., 0., 0., 0., 1., 0., 1., 0., 0., 1., 0., 0.],\n",
              "        [0., 1., 0., 0., 0., 0., 0., 0., 1., 0., 0., 1., 0., 1., 0., 0.]])}"
            ]
          },
          "metadata": {
            "tags": []
          },
          "execution_count": 222
        }
      ]
    },
    {
      "cell_type": "code",
      "metadata": {
        "colab": {
          "base_uri": "https://localhost:8080/"
        },
        "id": "Y3C-Gi0t_3Ks",
        "outputId": "e3938bb6-7cdc-447b-c9e5-3ae223015d9c"
      },
      "source": [
        "my_graph.edata"
      ],
      "execution_count": null,
      "outputs": [
        {
          "output_type": "execute_result",
          "data": {
            "text/plain": [
              "{'edge_features': tensor([[0., 1., 0., 0.],\n",
              "        [0., 1., 0., 0.],\n",
              "        [1., 0., 0., 0.],\n",
              "        [1., 0., 0., 0.]])}"
            ]
          },
          "metadata": {
            "tags": []
          },
          "execution_count": 223
        }
      ]
    },
    {
      "cell_type": "markdown",
      "metadata": {
        "id": "LnvXENcc_6fg"
      },
      "source": [
        "## **2.5 Optional: Creating universal to graph function with your own node and edge featurizers**\n",
        "\n",
        "\n",
        "*   The to_graph function with can take both smiles and mol type and create graph\n",
        "\n"
      ]
    },
    {
      "cell_type": "code",
      "metadata": {
        "id": "J82KhsMy_4qs"
      },
      "source": [
        "\n",
        "from typing import Union, Optional, Callable\n",
        "\n",
        "\n",
        "# decorator function that checks input types\n",
        "def check(f):\n",
        "  \n",
        "    def decorator(*args, **kwargs):\n",
        "        if isinstance(args[0], str):\n",
        "            mol = read_smi(args[0])\n",
        "            return f(mol, **kwargs)\n",
        "\n",
        "        return f(*args, **kwargs)\n",
        "\n",
        "    return decorator\n",
        "\n",
        "# smiles reading function\n",
        "def read_smi(smi: str) -> Union[MOLTYPE, None]:\n",
        "    \"\"\"\n",
        "    Reads SMILE into RDKIT mol object\n",
        "    :param\n",
        "        smi:\n",
        "            The string molecule for which to read.\n",
        "    :return:\n",
        "        moltype:\n",
        "            RDKit mol object\n",
        "    \"\"\"\n",
        "\n",
        "    if len(smi) == 0:\n",
        "        return None\n",
        "\n",
        "    mol = Chem.MolFromSmiles(smi)\n",
        "\n",
        "    if mol is None:\n",
        "        return None\n",
        "\n",
        "    return mol\n",
        "\n",
        "\n",
        "\n",
        "## function that can take both smile and mol type at same time\n",
        "@check\n",
        "def to_graph(compound: Optional[str] = MOLTYPE, node_featurizer=None, edge_featurizer=None) -> dgl.DGLGraph:\n",
        "\n",
        "    # graph with empty (u, v)\n",
        "    g = dgl.graph(([], []), idtype=torch.int32)\n",
        "\n",
        "    num_atoms = compound.GetNumAtoms()\n",
        "    g.add_nodes(num_atoms)\n",
        "\n",
        "    # Add edges\n",
        "    src_list = []\n",
        "    dst_list = []\n",
        "    num_bonds = compound.GetNumBonds()\n",
        "    for i in range(num_bonds):\n",
        "        bond = compound.GetBondWithIdx(i)\n",
        "        u = bond.GetBeginAtomIdx()\n",
        "        v = bond.GetEndAtomIdx()\n",
        "        src_list.extend([u, v])\n",
        "        dst_list.extend([v, u])\n",
        "\n",
        "    g.add_edges(torch.IntTensor(src_list), torch.IntTensor(dst_list))\n",
        "\n",
        "    # add node featurizer\n",
        "    g.ndata.update(node_featurizer(compound))\n",
        "    # add edge featurizer\n",
        "    g.edata.update(edge_featurizer(compound))\n",
        "\n",
        "    return g\n",
        "\n"
      ],
      "execution_count": null,
      "outputs": []
    },
    {
      "cell_type": "code",
      "metadata": {
        "id": "VCR7F3yw_yl2"
      },
      "source": [
        "smile = 'C(=O)O' # formic \n",
        "mol = Chem.MolFromSmiles(smile)\n",
        "\n",
        "\n",
        "last_graph_from_mol = to_graph(mol,  \n",
        "                               node_featurizer=my_node_featurizer,\n",
        "                               edge_featurizer=my_edge_featurizer)\n",
        "\n",
        "last_graph_from_smile = to_graph(smile,\n",
        "                                 node_featurizer=my_node_featurizer,\n",
        "                                 edge_featurizer=my_edge_featurizer)\n",
        "\n"
      ],
      "execution_count": null,
      "outputs": []
    },
    {
      "cell_type": "code",
      "metadata": {
        "colab": {
          "base_uri": "https://localhost:8080/"
        },
        "id": "xvZoAlilAo9l",
        "outputId": "33ba04d5-0184-4fa9-9c10-4e8cfed22795"
      },
      "source": [
        "last_graph_from_smile"
      ],
      "execution_count": null,
      "outputs": [
        {
          "output_type": "execute_result",
          "data": {
            "text/plain": [
              "Graph(num_nodes=3, num_edges=4,\n",
              "      ndata_schemes={'node_features': Scheme(shape=(16,), dtype=torch.float32)}\n",
              "      edata_schemes={'edge_features': Scheme(shape=(4,), dtype=torch.float32)})"
            ]
          },
          "metadata": {
            "tags": []
          },
          "execution_count": 226
        }
      ]
    },
    {
      "cell_type": "code",
      "metadata": {
        "colab": {
          "base_uri": "https://localhost:8080/"
        },
        "id": "MivsSo-pAqmv",
        "outputId": "a1034443-da65-4687-dd27-0a1195fee220"
      },
      "source": [
        "last_graph_from_mol"
      ],
      "execution_count": null,
      "outputs": [
        {
          "output_type": "execute_result",
          "data": {
            "text/plain": [
              "Graph(num_nodes=3, num_edges=4,\n",
              "      ndata_schemes={'node_features': Scheme(shape=(16,), dtype=torch.float32)}\n",
              "      edata_schemes={'edge_features': Scheme(shape=(4,), dtype=torch.float32)})"
            ]
          },
          "metadata": {
            "tags": []
          },
          "execution_count": 227
        }
      ]
    },
    {
      "cell_type": "code",
      "metadata": {
        "id": "tvm78JpgAxYv"
      },
      "source": [
        ""
      ],
      "execution_count": null,
      "outputs": []
    },
    {
      "cell_type": "markdown",
      "metadata": {
        "id": "6NAVK-JMA0gU"
      },
      "source": [
        "# **3. HOMEWORK**\n",
        "Solubility Prediction by Using Graph Representation\n",
        "\n",
        "<u>**Contents**</u>\n",
        "- Loading a data from rdkit and creating train/test splits\n",
        "- Represent traing and test compounds in smiles and mols \n",
        "- Create graph training/test dataset\n",
        "   - Use  **to_graph, NodeFeaturizer and EdgeFeaturizer** (that you have just learnt)\n",
        "- Create Graph Attention Model (Attentive FingerPrint paper).\n",
        "- Collate graphs into training batches\n",
        "- Train your models\n",
        "\n"
      ]
    },
    {
      "cell_type": "markdown",
      "metadata": {
        "id": "WEkOx1U0BmRI"
      },
      "source": [
        "### **3.1 Data Loading**"
      ]
    },
    {
      "cell_type": "code",
      "metadata": {
        "id": "lWZpymTDA1G7"
      },
      "source": [
        "\n",
        "## HOMEWORK CODE is originated from https://bit.ly/3khbBI6 (https://iwatobipen.wordpress.com/)\n",
        "## ALL CREDITS GO to seritaka@gmail.com, https://github.com/iwatobipen \n",
        "## CAUTION original codes uses dgl 0.4\n",
        "## in original code, CanonicalAtomFeaturizer and CanonicalEdgeFeaturizer are used\n",
        "## in homework section, try to use NodeFeaturizer and EdgeFeaturizer (that you have just learnt)\n",
        "## homework code uses dgl>0.5 where (i changed all code to 0.5)\n",
        "\n",
        "import os\n",
        "from rdkit import RDPaths\n",
        "\n",
        "train_data = os.path.join(RDPaths.RDDocsDir, 'Book/data/solubility.train.sdf')\n",
        "test_data = os.path.join(RDPaths.RDDocsDir, 'Book/data/solubility.test.sdf')"
      ],
      "execution_count": null,
      "outputs": []
    },
    {
      "cell_type": "code",
      "metadata": {
        "id": "XAPrDRu8Ccew"
      },
      "source": [
        "# converting all to mol type\n",
        "train = [mol for mol in Chem.SDMolSupplier(train_data)]\n",
        "test = [mol for mol in Chem.SDMolSupplier(test_data)]"
      ],
      "execution_count": null,
      "outputs": []
    },
    {
      "cell_type": "code",
      "metadata": {
        "id": "hBWyxzYOCpwH"
      },
      "source": [
        "# use your to_graph augmentation for training\n",
        "\n",
        "train_mols = Chem.SDMolSupplier(train_data)\n",
        "train_smi =[Chem.MolToSmiles(m) for m in train_mols]\n",
        "train_y = torch.tensor([float(mol.GetProp('SOL')) for mol in train_mols]).reshape(-1,1)\n",
        " \n",
        "test_mols =  Chem.SDMolSupplier(test_data)\n",
        "test_smi = [Chem.MolToSmiles(m) for m in test_mols]\n",
        "test_y = torch.tensor([float(mol.GetProp('SOL')) for mol in test_mols]).reshape(-1,1)\n",
        " \n",
        "train_graph = [to_graph(mol,  \n",
        "                        node_featurizer=my_node_featurizer,\n",
        "                        edge_featurizer=my_edge_featurizer) for mol in train_mols]\n",
        "\n",
        "test_graph = [to_graph(mol,  \n",
        "                       node_featurizer=my_node_featurizer,\n",
        "                       edge_featurizer=my_edge_featurizer) for mol in test_mols]\n"
      ],
      "execution_count": null,
      "outputs": []
    },
    {
      "cell_type": "code",
      "metadata": {
        "colab": {
          "base_uri": "https://localhost:8080/"
        },
        "id": "kq2u_xP-C2bY",
        "outputId": "54a2c4c8-3e64-4c43-a5f8-cfa5d444dd9a"
      },
      "source": [
        "train_smi[:10]"
      ],
      "execution_count": null,
      "outputs": [
        {
          "output_type": "execute_result",
          "data": {
            "text/plain": [
              "['CCCCC',\n",
              " 'C1CCCC1',\n",
              " 'CCCCCC',\n",
              " 'CCCC(C)C',\n",
              " 'CCC(C)(C)C',\n",
              " 'C1CCCCC1',\n",
              " 'CC1CCCC1',\n",
              " 'CCCCCCC',\n",
              " 'CC1CCCCC1',\n",
              " 'CCCCCCCC']"
            ]
          },
          "metadata": {
            "tags": []
          },
          "execution_count": 233
        }
      ]
    },
    {
      "cell_type": "code",
      "metadata": {
        "colab": {
          "base_uri": "https://localhost:8080/"
        },
        "id": "Dz9chnAlC66m",
        "outputId": "4df0c6e4-8eee-455f-a520-8640755084b3"
      },
      "source": [
        "train_graph[:10]"
      ],
      "execution_count": null,
      "outputs": [
        {
          "output_type": "execute_result",
          "data": {
            "text/plain": [
              "[Graph(num_nodes=5, num_edges=8,\n",
              "       ndata_schemes={'node_features': Scheme(shape=(16,), dtype=torch.float32)}\n",
              "       edata_schemes={'edge_features': Scheme(shape=(4,), dtype=torch.float32)}),\n",
              " Graph(num_nodes=5, num_edges=10,\n",
              "       ndata_schemes={'node_features': Scheme(shape=(16,), dtype=torch.float32)}\n",
              "       edata_schemes={'edge_features': Scheme(shape=(4,), dtype=torch.float32)}),\n",
              " Graph(num_nodes=6, num_edges=10,\n",
              "       ndata_schemes={'node_features': Scheme(shape=(16,), dtype=torch.float32)}\n",
              "       edata_schemes={'edge_features': Scheme(shape=(4,), dtype=torch.float32)}),\n",
              " Graph(num_nodes=6, num_edges=10,\n",
              "       ndata_schemes={'node_features': Scheme(shape=(16,), dtype=torch.float32)}\n",
              "       edata_schemes={'edge_features': Scheme(shape=(4,), dtype=torch.float32)}),\n",
              " Graph(num_nodes=6, num_edges=10,\n",
              "       ndata_schemes={'node_features': Scheme(shape=(16,), dtype=torch.float32)}\n",
              "       edata_schemes={'edge_features': Scheme(shape=(4,), dtype=torch.float32)}),\n",
              " Graph(num_nodes=6, num_edges=12,\n",
              "       ndata_schemes={'node_features': Scheme(shape=(16,), dtype=torch.float32)}\n",
              "       edata_schemes={'edge_features': Scheme(shape=(4,), dtype=torch.float32)}),\n",
              " Graph(num_nodes=6, num_edges=12,\n",
              "       ndata_schemes={'node_features': Scheme(shape=(16,), dtype=torch.float32)}\n",
              "       edata_schemes={'edge_features': Scheme(shape=(4,), dtype=torch.float32)}),\n",
              " Graph(num_nodes=7, num_edges=12,\n",
              "       ndata_schemes={'node_features': Scheme(shape=(16,), dtype=torch.float32)}\n",
              "       edata_schemes={'edge_features': Scheme(shape=(4,), dtype=torch.float32)}),\n",
              " Graph(num_nodes=7, num_edges=14,\n",
              "       ndata_schemes={'node_features': Scheme(shape=(16,), dtype=torch.float32)}\n",
              "       edata_schemes={'edge_features': Scheme(shape=(4,), dtype=torch.float32)}),\n",
              " Graph(num_nodes=8, num_edges=14,\n",
              "       ndata_schemes={'node_features': Scheme(shape=(16,), dtype=torch.float32)}\n",
              "       edata_schemes={'edge_features': Scheme(shape=(4,), dtype=torch.float32)})]"
            ]
          },
          "metadata": {
            "tags": []
          },
          "execution_count": 234
        }
      ]
    },
    {
      "cell_type": "code",
      "metadata": {
        "colab": {
          "base_uri": "https://localhost:8080/"
        },
        "id": "nrQyDDinC7lr",
        "outputId": "81109fa3-994f-45d5-c743-bc415d4b562a"
      },
      "source": [
        "from dgllife.model import AttentiveFPPredictor\n",
        "\n",
        "\"\"\"\n",
        "    AttentiveFP is introduced in\n",
        "    `Pushing the Boundaries of Molecular Representation for Drug Discovery with the Graph\n",
        "    Attention Mechanism. <https://www.ncbi.nlm.nih.gov/pubmed/31408336>`__\n",
        "\n",
        "\"\"\"\n",
        "\n",
        "model = AttentiveFPPredictor(node_feat_size=16,\n",
        "                            edge_feat_size=4,\n",
        "                            num_layers=2,\n",
        "                            num_timesteps=2,\n",
        "                            graph_feat_size=200,\n",
        "                            # output_size=1,\n",
        "                            dropout=0.2)\n",
        "# model = model.to('cuda:0')\n",
        "model"
      ],
      "execution_count": null,
      "outputs": [
        {
          "output_type": "execute_result",
          "data": {
            "text/plain": [
              "AttentiveFPPredictor(\n",
              "  (gnn): AttentiveFPGNN(\n",
              "    (init_context): GetContext(\n",
              "      (project_node): Sequential(\n",
              "        (0): Linear(in_features=16, out_features=200, bias=True)\n",
              "        (1): LeakyReLU(negative_slope=0.01)\n",
              "      )\n",
              "      (project_edge1): Sequential(\n",
              "        (0): Linear(in_features=20, out_features=200, bias=True)\n",
              "        (1): LeakyReLU(negative_slope=0.01)\n",
              "      )\n",
              "      (project_edge2): Sequential(\n",
              "        (0): Dropout(p=0.2, inplace=False)\n",
              "        (1): Linear(in_features=400, out_features=1, bias=True)\n",
              "        (2): LeakyReLU(negative_slope=0.01)\n",
              "      )\n",
              "      (attentive_gru): AttentiveGRU1(\n",
              "        (edge_transform): Sequential(\n",
              "          (0): Dropout(p=0.2, inplace=False)\n",
              "          (1): Linear(in_features=200, out_features=200, bias=True)\n",
              "        )\n",
              "        (gru): GRUCell(200, 200)\n",
              "      )\n",
              "    )\n",
              "    (gnn_layers): ModuleList(\n",
              "      (0): GNNLayer(\n",
              "        (project_edge): Sequential(\n",
              "          (0): Dropout(p=0.2, inplace=False)\n",
              "          (1): Linear(in_features=400, out_features=1, bias=True)\n",
              "          (2): LeakyReLU(negative_slope=0.01)\n",
              "        )\n",
              "        (attentive_gru): AttentiveGRU2(\n",
              "          (project_node): Sequential(\n",
              "            (0): Dropout(p=0.2, inplace=False)\n",
              "            (1): Linear(in_features=200, out_features=200, bias=True)\n",
              "          )\n",
              "          (gru): GRUCell(200, 200)\n",
              "        )\n",
              "      )\n",
              "    )\n",
              "  )\n",
              "  (readout): AttentiveFPReadout(\n",
              "    (readouts): ModuleList(\n",
              "      (0): GlobalPool(\n",
              "        (compute_logits): Sequential(\n",
              "          (0): Linear(in_features=400, out_features=1, bias=True)\n",
              "          (1): LeakyReLU(negative_slope=0.01)\n",
              "        )\n",
              "        (project_nodes): Sequential(\n",
              "          (0): Dropout(p=0.2, inplace=False)\n",
              "          (1): Linear(in_features=200, out_features=200, bias=True)\n",
              "        )\n",
              "        (gru): GRUCell(200, 200)\n",
              "      )\n",
              "      (1): GlobalPool(\n",
              "        (compute_logits): Sequential(\n",
              "          (0): Linear(in_features=400, out_features=1, bias=True)\n",
              "          (1): LeakyReLU(negative_slope=0.01)\n",
              "        )\n",
              "        (project_nodes): Sequential(\n",
              "          (0): Dropout(p=0.2, inplace=False)\n",
              "          (1): Linear(in_features=200, out_features=200, bias=True)\n",
              "        )\n",
              "        (gru): GRUCell(200, 200)\n",
              "      )\n",
              "    )\n",
              "  )\n",
              "  (predict): Sequential(\n",
              "    (0): Dropout(p=0.2, inplace=False)\n",
              "    (1): Linear(in_features=200, out_features=1, bias=True)\n",
              "  )\n",
              ")"
            ]
          },
          "metadata": {
            "tags": []
          },
          "execution_count": 235
        }
      ]
    },
    {
      "cell_type": "code",
      "metadata": {
        "id": "_txkvsLIDhpL"
      },
      "source": [
        "# put data into graph batches\n",
        "def collate_molgraphs(data):\n",
        "    \n",
        "\n",
        "    assert len(data[0]) in [3, 4], \\\n",
        "        'Expect the tuple to be of length 3 or 4, got {:d}'.format(len(data[0]))\n",
        "    if len(data[0]) == 3:\n",
        "        smiles, graphs, labels = map(list, zip(*data))\n",
        "        masks = None\n",
        "    else:\n",
        "        smiles, graphs, labels, masks = map(list, zip(*data))\n",
        " \n",
        "    bg = dgl.batch(graphs)\n",
        "    bg.set_n_initializer(dgl.init.zero_initializer)\n",
        "    bg.set_e_initializer(dgl.init.zero_initializer)\n",
        "    labels = torch.stack(labels, dim=0)\n",
        "     \n",
        "    if masks is None:\n",
        "        masks = torch.ones(labels.shape)\n",
        "    else:\n",
        "        masks = torch.stack(masks, dim=0)\n",
        "    return smiles, bg, labels, masks\n"
      ],
      "execution_count": null,
      "outputs": []
    },
    {
      "cell_type": "code",
      "metadata": {
        "id": "X_3SGil6DypB"
      },
      "source": [
        "\n",
        "from dgllife.utils import Meter\n",
        "from torch.utils.data import DataLoader\n",
        "\n",
        "train_loader = DataLoader(dataset=list(zip(train_smi, train_graph, train_y)),\n",
        "                          batch_size=128,\n",
        "                          shuffle=True,\n",
        "                          collate_fn=collate_molgraphs,\n",
        "                          )\n",
        "test_loader = DataLoader(dataset=list(zip(test_smi, test_graph, test_y)),\n",
        "                          batch_size=128,\n",
        "                          shuffle=True,\n",
        "                          collate_fn=collate_molgraphs,\n",
        "                          )\n",
        "\n",
        "# training\n",
        "def run_a_train_epoch(n_epochs, epoch, model, data_loader,loss_criterion, optimizer):\n",
        "    model.train()\n",
        "    total_loss = 0\n",
        "    losses = []\n",
        "    \n",
        "    for batch_id, batch_data in enumerate(data_loader):\n",
        "        batch_data\n",
        "        smiles, bg, labels, masks = batch_data\n",
        "        if torch.cuda.is_available():\n",
        "            bg.to(torch.device('cuda:0'))\n",
        "            labels = labels.to('cuda:0')\n",
        "            masks = masks.to('cuda:0')\n",
        "        \n",
        "        prediction = model(bg, bg.ndata['node_features'], bg.edata['edge_features'])\n",
        "        loss = (loss_criterion(prediction, labels)*(masks != 0).float()).mean()\n",
        "       \n",
        "        optimizer.zero_grad()\n",
        "        loss.backward()\n",
        "        optimizer.step()\n",
        "        \n",
        "        losses.append(loss.data.item())\n",
        "        \n",
        "    total_score = np.mean(losses)\n",
        "    print('epoch {:d}/{:d}, training {:.4f}'.format( epoch + 1, n_epochs,  total_score))\n",
        "    return total_score\n"
      ],
      "execution_count": null,
      "outputs": []
    },
    {
      "cell_type": "code",
      "metadata": {
        "colab": {
          "base_uri": "https://localhost:8080/"
        },
        "id": "g2X0vRfxD29O",
        "outputId": "c3668d9d-12b0-480f-e5d5-fcefc9d1976e"
      },
      "source": [
        "from torch import nn\n",
        "loss_fn = nn.MSELoss(reduction='none')\n",
        "optimizer = torch.optim.Adam(model.parameters(), lr=10 ** (-2.5), weight_decay=10 ** (-5.0),)\n",
        "n_epochs = 10 # change it to 100\n",
        "epochs = []\n",
        "scores = []\n",
        "for e in range(n_epochs):\n",
        "    score = run_a_train_epoch(n_epochs, e, model, train_loader, loss_fn, optimizer)\n",
        "    epochs.append(e)\n",
        "    scores.append(score)"
      ],
      "execution_count": null,
      "outputs": [
        {
          "output_type": "stream",
          "text": [
            "epoch 1/10, training 3.8873\n",
            "epoch 2/10, training 2.2685\n",
            "epoch 3/10, training 2.0305\n",
            "epoch 4/10, training 2.5311\n",
            "epoch 5/10, training 1.8013\n",
            "epoch 6/10, training 1.1806\n",
            "epoch 7/10, training 0.8381\n",
            "epoch 8/10, training 0.8493\n",
            "epoch 9/10, training 0.7900\n",
            "epoch 10/10, training 0.8279\n"
          ],
          "name": "stdout"
        }
      ]
    },
    {
      "cell_type": "markdown",
      "metadata": {
        "id": "wxizQ38nEAjI"
      },
      "source": [
        "\n",
        "THANK YOU VERY MUCH FOR YOUR ATTENTION\n",
        "\n",
        "\n"
      ]
    }
  ]
}